{
 "cells": [
  {
   "cell_type": "markdown",
   "metadata": {
    "colab_type": "text",
    "id": "atEHIbeL9Sef"
   },
   "source": [
    "# Bibliotecas"
   ]
  },
  {
   "cell_type": "code",
   "execution_count": 1,
   "metadata": {
    "colab": {},
    "colab_type": "code",
    "id": "6aOwgiPq9U64"
   },
   "outputs": [],
   "source": [
    "import pandas as pd #análise de dados em tabelas\n",
    "import numpy as np #análise de números\n",
    "import seaborn as sb #análise em gráficos"
   ]
  },
  {
   "cell_type": "markdown",
   "metadata": {
    "colab_type": "text",
    "id": "CCzMle5cR6Y7"
   },
   "source": [
    "# Stroke Machine Learning Classification Model\n",
    "With categorical data \n",
    "and train and test sets"
   ]
  },
  {
   "cell_type": "code",
   "execution_count": 2,
   "metadata": {
    "colab": {},
    "colab_type": "code",
    "id": "lxkZ0whwR-mf"
   },
   "outputs": [],
   "source": [
    "train = 'http://bit.ly/avctreino'\n",
    "test = 'http://bit.ly/avcteste'"
   ]
  },
  {
   "cell_type": "code",
   "execution_count": 3,
   "metadata": {
    "colab": {},
    "colab_type": "code",
    "id": "vB7ZSG_rXZY5"
   },
   "outputs": [],
   "source": [
    "train = pd.read_csv(train, decimal='.')\n",
    "test = pd.read_csv(test, decimal='.')"
   ]
  },
  {
   "cell_type": "code",
   "execution_count": 4,
   "metadata": {
    "colab": {
     "base_uri": "https://localhost:8080/",
     "height": 343
    },
    "colab_type": "code",
    "id": "2NwXpB-wOMh-",
    "outputId": "ceb9b79d-78e9-4baf-ef47-e7d9084f317b"
   },
   "outputs": [
    {
     "name": "stdout",
     "output_type": "stream",
     "text": [
      "<class 'pandas.core.frame.DataFrame'>\n",
      "RangeIndex: 30380 entries, 0 to 30379\n",
      "Data columns (total 12 columns):\n",
      "id                   30380 non-null int64\n",
      "gender               30380 non-null int64\n",
      "age                  30380 non-null int64\n",
      "hypertension         30380 non-null int64\n",
      "heart_disease        30380 non-null int64\n",
      "ever_married         30380 non-null int64\n",
      "work_type            30380 non-null int64\n",
      "residence_type       30380 non-null int64\n",
      "avg_glucose_level    30380 non-null int64\n",
      "bmi                  30380 non-null int64\n",
      "smoking_status       30380 non-null int64\n",
      "stroke               30380 non-null int64\n",
      "dtypes: int64(12)\n",
      "memory usage: 2.8 MB\n"
     ]
    }
   ],
   "source": [
    "train.info()"
   ]
  },
  {
   "cell_type": "code",
   "execution_count": 5,
   "metadata": {
    "colab": {
     "base_uri": "https://localhost:8080/",
     "height": 233
    },
    "colab_type": "code",
    "id": "9Qz0IpNsr_TR",
    "outputId": "f4ff0ff5-e886-4b54-c6a9-c06b0e6047ec"
   },
   "outputs": [
    {
     "data": {
      "text/plain": [
       "['id',\n",
       " 'gender',\n",
       " 'age',\n",
       " 'hypertension',\n",
       " 'heart_disease',\n",
       " 'ever_married',\n",
       " 'work_type',\n",
       " 'residence_type',\n",
       " 'avg_glucose_level',\n",
       " 'bmi',\n",
       " 'smoking_status',\n",
       " 'stroke']"
      ]
     },
     "execution_count": 5,
     "metadata": {},
     "output_type": "execute_result"
    }
   ],
   "source": [
    "train.columns.tolist()"
   ]
  },
  {
   "cell_type": "code",
   "execution_count": 6,
   "metadata": {
    "colab": {},
    "colab_type": "code",
    "id": "iM5nXZI3OOrd"
   },
   "outputs": [],
   "source": [
    "X_train = train[['gender',\n",
    " 'age',\n",
    " 'hypertension',\n",
    " 'heart_disease',\n",
    " 'ever_married',\n",
    " 'work_type',\n",
    " 'residence_type',\n",
    " 'avg_glucose_level',\n",
    " 'bmi',\n",
    " 'smoking_status']]\n",
    "y_train = train['stroke']"
   ]
  },
  {
   "cell_type": "code",
   "execution_count": 8,
   "metadata": {
    "colab": {
     "base_uri": "https://localhost:8080/",
     "height": 118
    },
    "colab_type": "code",
    "id": "sVKuwDr6sGAX",
    "outputId": "4865567e-e6f9-4e93-b834-198c220410ed"
   },
   "outputs": [
    {
     "data": {
      "text/plain": [
       "0    0\n",
       "1    0\n",
       "2    0\n",
       "3    0\n",
       "4    0\n",
       "Name: stroke, dtype: int64"
      ]
     },
     "execution_count": 8,
     "metadata": {},
     "output_type": "execute_result"
    }
   ],
   "source": [
    "y_train.head()"
   ]
  },
  {
   "cell_type": "code",
   "execution_count": 9,
   "metadata": {
    "colab": {},
    "colab_type": "code",
    "id": "OrpJJz7Jsggq"
   },
   "outputs": [],
   "source": [
    "X_test = test[['gender',\n",
    " 'age',\n",
    " 'hypertension',\n",
    " 'heart_disease',\n",
    " 'ever_married',\n",
    " 'work_type',\n",
    " 'residence_type',\n",
    " 'avg_glucose_level',\n",
    " 'bmi',\n",
    " 'smoking_status']]\n",
    "y_test = test['stroke']"
   ]
  },
  {
   "cell_type": "code",
   "execution_count": 11,
   "metadata": {},
   "outputs": [],
   "source": [
    "X = pd.concat([X_train, X_test])\n",
    "y = pd.concat([y_train, y_test])"
   ]
  },
  {
   "cell_type": "markdown",
   "metadata": {
    "colab_type": "text",
    "id": "quFn6YfyYppl"
   },
   "source": [
    "### Dictionary\n",
    "- Gender: Male= 0, Female= 1\n",
    "- Age: Young= 0, Older= 1 (> 35)\n",
    "- Hypertension: No= 0, Yes= 1\n",
    "- Heart Disease: No= 0, Yes= 1\n",
    "- Ever Married: No= 0, Yes= 1\n",
    "- Works: 0 = No, 1 = Yes\n",
    "- Residence type: Rural= 0, Urban= 1\n",
    "- Glucose Level: 0= Low, 1= High (140mg, after meal)\n",
    "- BMI (body mass index): 0= Low, 1= High (30)\n",
    "- Smoking Status: 0 = never smoked, 1 = smoked"
   ]
  },
  {
   "cell_type": "markdown",
   "metadata": {
    "colab_type": "text",
    "id": "hpaXn2V7liI9"
   },
   "source": [
    "## Explore Data"
   ]
  },
  {
   "cell_type": "code",
   "execution_count": 18,
   "metadata": {
    "colab": {
     "base_uri": "https://localhost:8080/",
     "height": 204
    },
    "colab_type": "code",
    "id": "OKnP7kXnlj3U",
    "outputId": "5fabcdef-955b-4975-f0f6-fb2126573920"
   },
   "outputs": [
    {
     "data": {
      "text/html": [
       "<div>\n",
       "<style scoped>\n",
       "    .dataframe tbody tr th:only-of-type {\n",
       "        vertical-align: middle;\n",
       "    }\n",
       "\n",
       "    .dataframe tbody tr th {\n",
       "        vertical-align: top;\n",
       "    }\n",
       "\n",
       "    .dataframe thead th {\n",
       "        text-align: right;\n",
       "    }\n",
       "</style>\n",
       "<table border=\"1\" class=\"dataframe\">\n",
       "  <thead>\n",
       "    <tr style=\"text-align: right;\">\n",
       "      <th></th>\n",
       "      <th>gender</th>\n",
       "      <th>age</th>\n",
       "      <th>hypertension</th>\n",
       "      <th>heart_disease</th>\n",
       "      <th>ever_married</th>\n",
       "      <th>work_type</th>\n",
       "      <th>residence_type</th>\n",
       "      <th>avg_glucose_level</th>\n",
       "      <th>bmi</th>\n",
       "      <th>smoking_status</th>\n",
       "      <th>stroke</th>\n",
       "    </tr>\n",
       "  </thead>\n",
       "  <tbody>\n",
       "    <tr>\n",
       "      <th>0</th>\n",
       "      <td>1</td>\n",
       "      <td>0</td>\n",
       "      <td>0</td>\n",
       "      <td>0</td>\n",
       "      <td>0</td>\n",
       "      <td>1</td>\n",
       "      <td>0</td>\n",
       "      <td>0</td>\n",
       "      <td>0</td>\n",
       "      <td>0</td>\n",
       "      <td>0</td>\n",
       "    </tr>\n",
       "    <tr>\n",
       "      <th>0</th>\n",
       "      <td>1</td>\n",
       "      <td>0</td>\n",
       "      <td>0</td>\n",
       "      <td>0</td>\n",
       "      <td>0</td>\n",
       "      <td>1</td>\n",
       "      <td>0</td>\n",
       "      <td>0</td>\n",
       "      <td>0</td>\n",
       "      <td>0</td>\n",
       "      <td>0</td>\n",
       "    </tr>\n",
       "    <tr>\n",
       "      <th>0</th>\n",
       "      <td>1</td>\n",
       "      <td>1</td>\n",
       "      <td>0</td>\n",
       "      <td>0</td>\n",
       "      <td>0</td>\n",
       "      <td>1</td>\n",
       "      <td>0</td>\n",
       "      <td>0</td>\n",
       "      <td>0</td>\n",
       "      <td>0</td>\n",
       "      <td>0</td>\n",
       "    </tr>\n",
       "    <tr>\n",
       "      <th>0</th>\n",
       "      <td>1</td>\n",
       "      <td>1</td>\n",
       "      <td>0</td>\n",
       "      <td>0</td>\n",
       "      <td>0</td>\n",
       "      <td>1</td>\n",
       "      <td>0</td>\n",
       "      <td>0</td>\n",
       "      <td>0</td>\n",
       "      <td>0</td>\n",
       "      <td>0</td>\n",
       "    </tr>\n",
       "    <tr>\n",
       "      <th>1</th>\n",
       "      <td>1</td>\n",
       "      <td>1</td>\n",
       "      <td>1</td>\n",
       "      <td>0</td>\n",
       "      <td>0</td>\n",
       "      <td>1</td>\n",
       "      <td>1</td>\n",
       "      <td>0</td>\n",
       "      <td>1</td>\n",
       "      <td>0</td>\n",
       "      <td>0</td>\n",
       "    </tr>\n",
       "  </tbody>\n",
       "</table>\n",
       "</div>"
      ],
      "text/plain": [
       "   gender  age  hypertension  heart_disease  ever_married  work_type  \\\n",
       "0       1    0             0              0             0          1   \n",
       "0       1    0             0              0             0          1   \n",
       "0       1    1             0              0             0          1   \n",
       "0       1    1             0              0             0          1   \n",
       "1       1    1             1              0             0          1   \n",
       "\n",
       "   residence_type  avg_glucose_level  bmi  smoking_status  stroke  \n",
       "0               0                  0    0               0       0  \n",
       "0               0                  0    0               0       0  \n",
       "0               0                  0    0               0       0  \n",
       "0               0                  0    0               0       0  \n",
       "1               1                  0    1               0       0  "
      ]
     },
     "execution_count": 18,
     "metadata": {},
     "output_type": "execute_result"
    }
   ],
   "source": [
    "df = X.join(y, how='outer')\n",
    "df.head()"
   ]
  },
  {
   "cell_type": "markdown",
   "metadata": {
    "colab_type": "text",
    "id": "BbkHSwR4mJ3f"
   },
   "source": [
    "## Prepare model"
   ]
  },
  {
   "cell_type": "code",
   "execution_count": 25,
   "metadata": {},
   "outputs": [
    {
     "name": "stdout",
     "output_type": "stream",
     "text": [
      "Collecting scikit-plot\n",
      "  Downloading https://files.pythonhosted.org/packages/7c/47/32520e259340c140a4ad27c1b97050dd3254fdc517b1d59974d47037510e/scikit_plot-0.3.7-py3-none-any.whl\n",
      "Requirement already satisfied: scikit-learn>=0.18 in c:\\users\\fabia\\miniconda3\\envs\\ds\\lib\\site-packages (from scikit-plot) (0.21.2)\n",
      "Requirement already satisfied: joblib>=0.10 in c:\\users\\fabia\\miniconda3\\envs\\ds\\lib\\site-packages (from scikit-plot) (0.13.2)\n",
      "Requirement already satisfied: scipy>=0.9 in c:\\users\\fabia\\miniconda3\\envs\\ds\\lib\\site-packages (from scikit-plot) (1.3.1)\n",
      "Requirement already satisfied: matplotlib>=1.4.0 in c:\\users\\fabia\\miniconda3\\envs\\ds\\lib\\site-packages (from scikit-plot) (3.1.1)\n",
      "Requirement already satisfied: numpy>=1.11.0 in c:\\users\\fabia\\miniconda3\\envs\\ds\\lib\\site-packages (from scikit-learn>=0.18->scikit-plot) (1.16.4)\n",
      "Requirement already satisfied: python-dateutil>=2.1 in c:\\users\\fabia\\miniconda3\\envs\\ds\\lib\\site-packages (from matplotlib>=1.4.0->scikit-plot) (2.8.0)\n",
      "Requirement already satisfied: kiwisolver>=1.0.1 in c:\\users\\fabia\\miniconda3\\envs\\ds\\lib\\site-packages (from matplotlib>=1.4.0->scikit-plot) (1.1.0)\n",
      "Requirement already satisfied: cycler>=0.10 in c:\\users\\fabia\\miniconda3\\envs\\ds\\lib\\site-packages (from matplotlib>=1.4.0->scikit-plot) (0.10.0)\n",
      "Requirement already satisfied: pyparsing!=2.0.4,!=2.1.2,!=2.1.6,>=2.0.1 in c:\\users\\fabia\\miniconda3\\envs\\ds\\lib\\site-packages (from matplotlib>=1.4.0->scikit-plot) (2.4.2)\n",
      "Requirement already satisfied: six>=1.5 in c:\\users\\fabia\\miniconda3\\envs\\ds\\lib\\site-packages (from python-dateutil>=2.1->matplotlib>=1.4.0->scikit-plot) (1.12.0)\n",
      "Requirement already satisfied: setuptools in c:\\users\\fabia\\miniconda3\\envs\\ds\\lib\\site-packages (from kiwisolver>=1.0.1->matplotlib>=1.4.0->scikit-plot) (41.0.1)\n",
      "Installing collected packages: scikit-plot\n",
      "Successfully installed scikit-plot-0.3.7\n"
     ]
    }
   ],
   "source": [
    "!pip install scikit-plot"
   ]
  },
  {
   "cell_type": "code",
   "execution_count": 27,
   "metadata": {
    "colab": {},
    "colab_type": "code",
    "id": "lqijkr68lcF9"
   },
   "outputs": [
    {
     "name": "stderr",
     "output_type": "stream",
     "text": [
      "C:\\Users\\fabia\\Miniconda3\\envs\\ds\\lib\\site-packages\\sklearn\\linear_model\\logistic.py:432: FutureWarning: Default solver will be changed to 'lbfgs' in 0.22. Specify a solver to silence this warning.\n",
      "  FutureWarning)\n",
      "C:\\Users\\fabia\\Miniconda3\\envs\\ds\\lib\\site-packages\\sklearn\\linear_model\\logistic.py:432: FutureWarning: Default solver will be changed to 'lbfgs' in 0.22. Specify a solver to silence this warning.\n",
      "  FutureWarning)\n",
      "C:\\Users\\fabia\\Miniconda3\\envs\\ds\\lib\\site-packages\\sklearn\\linear_model\\logistic.py:432: FutureWarning: Default solver will be changed to 'lbfgs' in 0.22. Specify a solver to silence this warning.\n",
      "  FutureWarning)\n",
      "C:\\Users\\fabia\\Miniconda3\\envs\\ds\\lib\\site-packages\\sklearn\\linear_model\\logistic.py:432: FutureWarning: Default solver will be changed to 'lbfgs' in 0.22. Specify a solver to silence this warning.\n",
      "  FutureWarning)\n",
      "C:\\Users\\fabia\\Miniconda3\\envs\\ds\\lib\\site-packages\\sklearn\\linear_model\\logistic.py:432: FutureWarning: Default solver will be changed to 'lbfgs' in 0.22. Specify a solver to silence this warning.\n",
      "  FutureWarning)\n",
      "C:\\Users\\fabia\\Miniconda3\\envs\\ds\\lib\\site-packages\\sklearn\\linear_model\\logistic.py:432: FutureWarning: Default solver will be changed to 'lbfgs' in 0.22. Specify a solver to silence this warning.\n",
      "  FutureWarning)\n",
      "C:\\Users\\fabia\\Miniconda3\\envs\\ds\\lib\\site-packages\\sklearn\\linear_model\\logistic.py:432: FutureWarning: Default solver will be changed to 'lbfgs' in 0.22. Specify a solver to silence this warning.\n",
      "  FutureWarning)\n",
      "C:\\Users\\fabia\\Miniconda3\\envs\\ds\\lib\\site-packages\\sklearn\\linear_model\\logistic.py:432: FutureWarning: Default solver will be changed to 'lbfgs' in 0.22. Specify a solver to silence this warning.\n",
      "  FutureWarning)\n",
      "C:\\Users\\fabia\\Miniconda3\\envs\\ds\\lib\\site-packages\\sklearn\\linear_model\\logistic.py:432: FutureWarning: Default solver will be changed to 'lbfgs' in 0.22. Specify a solver to silence this warning.\n",
      "  FutureWarning)\n",
      "C:\\Users\\fabia\\Miniconda3\\envs\\ds\\lib\\site-packages\\sklearn\\linear_model\\logistic.py:432: FutureWarning: Default solver will be changed to 'lbfgs' in 0.22. Specify a solver to silence this warning.\n",
      "  FutureWarning)\n",
      "C:\\Users\\fabia\\Miniconda3\\envs\\ds\\lib\\site-packages\\sklearn\\linear_model\\logistic.py:432: FutureWarning: Default solver will be changed to 'lbfgs' in 0.22. Specify a solver to silence this warning.\n",
      "  FutureWarning)\n",
      "C:\\Users\\fabia\\Miniconda3\\envs\\ds\\lib\\site-packages\\sklearn\\metrics\\classification.py:1437: UndefinedMetricWarning: Precision and F-score are ill-defined and being set to 0.0 in labels with no predicted samples.\n",
      "  'precision', 'predicted', average, warn_for)\n",
      "C:\\Users\\fabia\\Miniconda3\\envs\\ds\\lib\\site-packages\\sklearn\\ensemble\\forest.py:245: FutureWarning: The default value of n_estimators will change from 10 in version 0.20 to 100 in 0.22.\n",
      "  \"10 in version 0.20 to 100 in 0.22.\", FutureWarning)\n"
     ]
    },
    {
     "name": "stdout",
     "output_type": "stream",
     "text": [
      "Logistic Regression\n",
      "\n",
      "\n",
      "Sensibilidade = 0.0\n",
      "\n",
      "\n",
      "=== Confusion Matrix ===\n",
      "[[12785     0]\n",
      " [  235     0]]\n",
      "\n",
      "\n",
      "=== Classification Report ===\n",
      "              precision    recall  f1-score   support\n",
      "\n",
      "           0       0.98      1.00      0.99     12785\n",
      "           1       0.00      0.00      0.00       235\n",
      "\n",
      "    accuracy                           0.98     13020\n",
      "   macro avg       0.49      0.50      0.50     13020\n",
      "weighted avg       0.96      0.98      0.97     13020\n",
      "\n",
      "\n",
      "\n",
      "=== All AUC Scores ===\n",
      "[0.79700206 0.81048298 0.77877504 0.77422421 0.78962868 0.79225024\n",
      " 0.74702349 0.73108064 0.77514006 0.79276112]\n",
      "\n",
      "\n",
      "=== Mean AUC Score ===\n",
      "Mean AUC Score:  Logistic Regression 0.7788368528305278\n",
      "_______________________________________________________\n",
      "Random Forest\n",
      "\n",
      "\n",
      "Sensibilidade = 0.0\n",
      "\n",
      "\n",
      "=== Confusion Matrix ===\n",
      "[[12782     3]\n",
      " [  235     0]]\n",
      "\n",
      "\n",
      "=== Classification Report ===\n",
      "              precision    recall  f1-score   support\n",
      "\n",
      "           0       0.98      1.00      0.99     12785\n",
      "           1       0.00      0.00      0.00       235\n",
      "\n",
      "    accuracy                           0.98     13020\n",
      "   macro avg       0.49      0.50      0.50     13020\n",
      "weighted avg       0.96      0.98      0.97     13020\n",
      "\n",
      "\n",
      "\n",
      "=== All AUC Scores ===\n",
      "[0.75095486 0.75497478 0.71708623 0.72518319 0.76222641 0.73331107\n",
      " 0.73651319 0.71185439 0.70462423 0.78388966]\n",
      "\n",
      "\n",
      "=== Mean AUC Score ===\n",
      "Mean AUC Score:  Random Forest 0.7380618028898088\n",
      "_______________________________________________________\n",
      "XGBoost\n",
      "\n",
      "\n",
      "Sensibilidade = 0.0\n",
      "\n",
      "\n",
      "=== Confusion Matrix ===\n",
      "[[12785     0]\n",
      " [  235     0]]\n",
      "\n",
      "\n",
      "=== Classification Report ===\n",
      "              precision    recall  f1-score   support\n",
      "\n",
      "           0       0.98      1.00      0.99     12785\n",
      "           1       0.00      0.00      0.00       235\n",
      "\n",
      "    accuracy                           0.98     13020\n",
      "   macro avg       0.49      0.50      0.50     13020\n",
      "weighted avg       0.96      0.98      0.97     13020\n",
      "\n",
      "\n",
      "\n",
      "=== All AUC Scores ===\n",
      "[0.80394597 0.81235261 0.78112285 0.79009794 0.79799119 0.78956701\n",
      " 0.74693324 0.74553042 0.79456339 0.79404588]\n",
      "\n",
      "\n",
      "=== Mean AUC Score ===\n",
      "Mean AUC Score:  XGBoost 0.785615051549607\n",
      "_______________________________________________________\n"
     ]
    },
    {
     "name": "stderr",
     "output_type": "stream",
     "text": [
      "C:\\Users\\fabia\\Miniconda3\\envs\\ds\\lib\\site-packages\\sklearn\\metrics\\classification.py:1437: UndefinedMetricWarning: Precision and F-score are ill-defined and being set to 0.0 in labels with no predicted samples.\n",
      "  'precision', 'predicted', average, warn_for)\n"
     ]
    },
    {
     "name": "stdout",
     "output_type": "stream",
     "text": [
      "SVM\n",
      "\n",
      "\n",
      "Sensibilidade = 0.0\n",
      "\n",
      "\n",
      "=== Confusion Matrix ===\n",
      "[[12785     0]\n",
      " [  235     0]]\n",
      "\n",
      "\n",
      "=== Classification Report ===\n",
      "              precision    recall  f1-score   support\n",
      "\n",
      "           0       0.98      1.00      0.99     12785\n",
      "           1       0.00      0.00      0.00       235\n",
      "\n",
      "    accuracy                           0.98     13020\n",
      "   macro avg       0.49      0.50      0.50     13020\n",
      "weighted avg       0.96      0.98      0.97     13020\n",
      "\n",
      "\n",
      "\n",
      "=== All AUC Scores ===\n",
      "[0.51111679 0.57337733 0.56851244 0.56502906 0.46639654 0.52348272\n",
      " 0.59162816 0.63205188 0.58710487 0.63973336]\n",
      "\n",
      "\n",
      "=== Mean AUC Score ===\n",
      "Mean AUC Score:  SVM 0.5658433140528468\n",
      "_______________________________________________________\n"
     ]
    },
    {
     "name": "stderr",
     "output_type": "stream",
     "text": [
      "C:\\Users\\fabia\\Miniconda3\\envs\\ds\\lib\\site-packages\\sklearn\\metrics\\classification.py:1437: UndefinedMetricWarning: Precision and F-score are ill-defined and being set to 0.0 in labels with no predicted samples.\n",
      "  'precision', 'predicted', average, warn_for)\n"
     ]
    },
    {
     "name": "stdout",
     "output_type": "stream",
     "text": [
      "KNN\n",
      "\n",
      "\n",
      "Sensibilidade = 0.00851063829787234\n",
      "\n",
      "\n",
      "=== Confusion Matrix ===\n",
      "[[12693    92]\n",
      " [  233     2]]\n",
      "\n",
      "\n",
      "=== Classification Report ===\n",
      "              precision    recall  f1-score   support\n",
      "\n",
      "           0       0.98      0.99      0.99     12785\n",
      "           1       0.02      0.01      0.01       235\n",
      "\n",
      "    accuracy                           0.98     13020\n",
      "   macro avg       0.50      0.50      0.50     13020\n",
      "weighted avg       0.96      0.98      0.97     13020\n",
      "\n",
      "\n",
      "\n",
      "=== All AUC Scores ===\n",
      "[0.54479088 0.5352482  0.50468669 0.53749744 0.53200014 0.55602281\n",
      " 0.49924497 0.53070334 0.52498511 0.53918215]\n",
      "\n",
      "\n",
      "=== Mean AUC Score ===\n",
      "Mean AUC Score:  KNN 0.5304361737718847\n",
      "_______________________________________________________\n",
      "LDA\n",
      "\n",
      "\n",
      "Sensibilidade = 0.04680851063829787\n",
      "\n",
      "\n",
      "=== Confusion Matrix ===\n",
      "[[12716    69]\n",
      " [  224    11]]\n",
      "\n",
      "\n",
      "=== Classification Report ===\n",
      "              precision    recall  f1-score   support\n",
      "\n",
      "           0       0.98      0.99      0.99     12785\n",
      "           1       0.14      0.05      0.07       235\n",
      "\n",
      "    accuracy                           0.98     13020\n",
      "   macro avg       0.56      0.52      0.53     13020\n",
      "weighted avg       0.97      0.98      0.97     13020\n",
      "\n",
      "\n",
      "\n",
      "=== All AUC Scores ===\n",
      "[0.79907514 0.79759607 0.77794938 0.78151283 0.80649208 0.775074\n",
      " 0.73545735 0.73167639 0.76582781 0.78791394]\n",
      "\n",
      "\n",
      "=== Mean AUC Score ===\n",
      "Mean AUC Score:  LDA 0.7758574972936196\n",
      "_______________________________________________________\n",
      "GausianNB\n",
      "\n",
      "\n",
      "Sensibilidade = 0.9872340425531915\n",
      "\n",
      "\n",
      "=== Confusion Matrix ===\n",
      "[[4843 7942]\n",
      " [   3  232]]\n",
      "\n",
      "\n",
      "=== Classification Report ===\n",
      "              precision    recall  f1-score   support\n",
      "\n",
      "           0       1.00      0.38      0.55     12785\n",
      "           1       0.03      0.99      0.06       235\n",
      "\n",
      "    accuracy                           0.39     13020\n",
      "   macro avg       0.51      0.68      0.30     13020\n",
      "weighted avg       0.98      0.39      0.54     13020\n",
      "\n",
      "\n",
      "\n",
      "=== All AUC Scores ===\n",
      "[0.80212238 0.81339657 0.77162918 0.75725252 0.7874087  0.78503983\n",
      " 0.74019511 0.73177267 0.79587974 0.81628395]\n",
      "\n",
      "\n",
      "=== Mean AUC Score ===\n",
      "Mean AUC Score:  GausianNB 0.7800980645054842\n",
      "_______________________________________________________\n"
     ]
    }
   ],
   "source": [
    "# Import models\n",
    "from sklearn.ensemble import RandomForestClassifier\n",
    "import xgboost as xgb\n",
    "from sklearn.linear_model import LogisticRegression\n",
    "from sklearn.svm import SVC\n",
    "from sklearn.neighbors import KNeighborsClassifier\n",
    "from sklearn.discriminant_analysis import LinearDiscriminantAnalysis\n",
    "from sklearn.naive_bayes import GaussianNB\n",
    "\n",
    "clf1 = LogisticRegression() # regressão logistica\n",
    "clf2 = RandomForestClassifier() # arvores aleatorias\n",
    "clf3 = xgb.XGBClassifier() # boost gradient\n",
    "clf4 = SVC(gamma='auto')\n",
    "clf5 = KNeighborsClassifier(n_neighbors=3)\n",
    "clf6 = LinearDiscriminantAnalysis()\n",
    "clf7 = GaussianNB()\n",
    "\n",
    "# Train, Predict and Evaluate the model \n",
    "from sklearn.metrics import accuracy_score, classification_report, recall_score, confusion_matrix\n",
    "from sklearn.model_selection import cross_val_score\n",
    "for clf, label in zip([clf1, clf2, clf3, clf4, clf5, clf6, clf7], \n",
    "                      ['Logistic Regression', 'Random Forest', 'XGBoost', \n",
    "                       'SVM', 'KNN', 'LDA', 'GausianNB']):\n",
    "    clf.fit(X_train, y_train) #training model\n",
    "    p = clf.predict(X_test) #predicting model\n",
    "    cv_score = cross_val_score(clf, X, y, cv=10, scoring='roc_auc')\n",
    "    score = clf.score(X_test, y_test)\n",
    "    print(label)\n",
    "    print('\\n')\n",
    "    print('Sensibilidade =', recall_score(y_test, p))\n",
    "    print('\\n')\n",
    "    print(\"=== Confusion Matrix ===\")\n",
    "    print(confusion_matrix(y_test, p))\n",
    "    print('\\n')\n",
    "    print(\"=== Classification Report ===\")\n",
    "    print(classification_report(y_test, p))\n",
    "    print('\\n')\n",
    "    print(\"=== All AUC Scores ===\")\n",
    "    print(cv_score)\n",
    "    print('\\n')\n",
    "    print(\"=== Mean AUC Score ===\")\n",
    "    print(\"Mean AUC Score: \", label, cv_score.mean())\n",
    "    print(\"_______________________________________________________\")\n"
   ]
  },
  {
   "cell_type": "code",
   "execution_count": 28,
   "metadata": {},
   "outputs": [
    {
     "name": "stdout",
     "output_type": "stream",
     "text": [
      "Melhor modelo = Gaussian NB\n"
     ]
    }
   ],
   "source": [
    "print('Melhor modelo = Gaussian NB')"
   ]
  },
  {
   "cell_type": "code",
   "execution_count": null,
   "metadata": {},
   "outputs": [],
   "source": []
  }
 ],
 "metadata": {
  "accelerator": "GPU",
  "colab": {
   "collapsed_sections": [],
   "machine_shape": "hm",
   "name": "stroke.ipynb",
   "provenance": [],
   "toc_visible": true
  },
  "kernelspec": {
   "display_name": "Python 3",
   "language": "python",
   "name": "python3"
  },
  "language_info": {
   "codemirror_mode": {
    "name": "ipython",
    "version": 3
   },
   "file_extension": ".py",
   "mimetype": "text/x-python",
   "name": "python",
   "nbconvert_exporter": "python",
   "pygments_lexer": "ipython3",
   "version": "3.7.4"
  }
 },
 "nbformat": 4,
 "nbformat_minor": 4
}
