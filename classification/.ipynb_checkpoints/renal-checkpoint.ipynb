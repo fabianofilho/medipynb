{
 "cells": [
  {
   "cell_type": "markdown",
   "metadata": {
    "colab_type": "text",
    "id": "IXoDuUnTiaVc"
   },
   "source": [
    "## Import packages"
   ]
  },
  {
   "cell_type": "code",
   "execution_count": 2,
   "metadata": {
    "colab": {},
    "colab_type": "code",
    "id": "wGkjHny_honQ"
   },
   "outputs": [],
   "source": [
    "import pandas as pd\n",
    "import matplotlib.pyplot as plt\n",
    "import matplotlib.patches as mpatches\n"
   ]
  },
  {
   "cell_type": "markdown",
   "metadata": {
    "colab_type": "text",
    "id": "EjdMODmVhuEq"
   },
   "source": [
    "## List from dataset"
   ]
  },
  {
   "cell_type": "code",
   "execution_count": 3,
   "metadata": {
    "colab": {},
    "colab_type": "code",
    "id": "GR7-34faavD3"
   },
   "outputs": [],
   "source": [
    "#create a list from intial dataset\n",
    "lst_f = ['@relation Chronic_Kidney_Disease\\n',\n",
    " '\\n',\n",
    " \"@attribute 'age' numeric\\n\",\n",
    " \"@attribute 'bp'  numeric\\n\",\n",
    " \"@attribute 'sg' {1.005,1.010,1.015,1.020,1.025}\\n\",\n",
    " \"@attribute 'al' {0,1,2,3,4,5}  \\n\",\n",
    " \"@attribute 'su' {0,1,2,3,4,5}  \\n\",\n",
    " \"@attribute 'rbc' {normal,abnormal}\\n\",\n",
    " \"@attribute 'pc' {normal,abnormal} \\n\",\n",
    " \"@attribute 'pcc' {present,notpresent}\\n\",\n",
    " \"@attribute 'ba' {present,notpresent}\\n\",\n",
    " \"@attribute 'bgr'  numeric\\n\",\n",
    " \"@attribute 'bu' numeric\\n\",\n",
    " \"@attribute 'sc' numeric\\n\",\n",
    " \"@attribute 'sod' numeric\\n\",\n",
    " \"@attribute 'pot' numeric\\n\",\n",
    " \"@attribute 'hemo' numeric\\n\",\n",
    " \"@attribute 'pcv' numeric\\n\",\n",
    " \"@attribute 'wbcc' numeric\\n\",\n",
    " \"@attribute 'rbcc' numeric\\n\",\n",
    " \"@attribute 'htn' {yes,no}\\n\",\n",
    " \"@attribute 'dm' {yes,no}\\n\",\n",
    " \"@attribute 'cad' {yes,no}\\n\",\n",
    " \"@attribute 'appet' {good,poor}\\n\",\n",
    " \"@attribute 'pe' {yes,no} \\n\",\n",
    " \"@attribute 'ane' {yes,no}\\n\",\n",
    " \"@attribute 'class' {ckd,notckd}\\n\",\n",
    " '\\n',\n",
    " '@data\\n',\n",
    " '48,80,1.020,1,0,?,normal,notpresent,notpresent,121,36,1.2,?,?,15.4,44,7800,5.2,yes,yes,no,good,no,no,ckd\\n',\n",
    " '7,50,1.020,4,0,?,normal,notpresent,notpresent,?,18,0.8,?,?,11.3,38,6000,?,no,no,no,good,no,no,ckd\\n',\n",
    " '62,80,1.010,2,3,normal,normal,notpresent,notpresent,423,53,1.8,?,?,9.6,31,7500,?,no,yes,no,poor,no,yes,ckd\\n',\n",
    " '48,70,1.005,4,0,normal,abnormal,present,notpresent,117,56,3.8,111,2.5,11.2,32,6700,3.9,yes,no,no,poor,yes,yes,ckd\\n',\n",
    " '51,80,1.010,2,0,normal,normal,notpresent,notpresent,106,26,1.4,?,?,11.6,35,7300,4.6,no,no,no,good,no,no,ckd\\n',\n",
    " '60,90,1.015,3,0,?,?,notpresent,notpresent,74,25,1.1,142,3.2,12.2,39,7800,4.4,yes,yes,no,good,yes,no,ckd\\n',\n",
    " '68,70,1.010,0,0,?,normal,notpresent,notpresent,100,54,24.0,104,4.0,12.4,36,?,?,no,no,no,good,no,no,ckd\\n',\n",
    " '24,?,1.015,2,4,normal,abnormal,notpresent,notpresent,410,31,1.1,?,?,12.4,44,6900,5,no,yes,no,good,yes,no,ckd\\n',\n",
    " '52,100,1.015,3,0,normal,abnormal,present,notpresent,138,60,1.9,?,?,10.8,33,9600,4.0,yes,yes,no,good,no,yes,ckd\\n',\n",
    " '53,90,1.020,2,0,abnormal,abnormal,present,notpresent,70,107,7.2,114,3.7,9.5,29,12100,3.7,yes,yes,no,poor,no,yes,ckd\\n',\n",
    " '50,60,1.010,2,4,?,abnormal,present,notpresent,490,55,4.0,?,?,9.4,28,?,?,yes,yes,no,good,no,yes,ckd\\n',\n",
    " '63,70,1.010,3,0,abnormal,abnormal,present,notpresent,380,60,2.7,131,4.2,10.8,32,4500,3.8,yes,yes,no,poor,yes,no,ckd\\n',\n",
    " '68,70,1.015,3,1,?,normal,present,notpresent,208,72,2.1,138,5.8,9.7,28,12200,3.4,yes,yes,yes,poor,yes,no,ckd\\n',\n",
    " '68,70,?,?,?,?,?,notpresent,notpresent,98,86,4.6,135,3.4,9.8,?,?,?,yes,yes,yes,poor,yes,no,ckd\\n',\n",
    " '68,80,1.010,3,2,normal,abnormal,present,present,157,90,4.1,130,6.4,5.6,16,11000,2.6,yes,yes,yes,poor,yes,no,ckd\\n',\n",
    " '40,80,1.015,3,0,?,normal,notpresent,notpresent,76,162,9.6,141,4.9,7.6,24,3800,2.8,yes,no,no,good,no,yes,ckd\\n',\n",
    " '47,70,1.015,2,0,?,normal,notpresent,notpresent,99,46,2.2,138,4.1,12.6,?,?,?,no,no,no,good,no,no,ckd\\n',\n",
    " '47,80,?,?,?,?,?,notpresent,notpresent,114,87,5.2,139,3.7,12.1,?,?,?,yes,no,no,poor,no,no,ckd\\n',\n",
    " '60,100,1.025,0,3,?,normal,notpresent,notpresent,263,27,1.3,135,4.3,12.7,37,11400,4.3,yes,yes,yes,good,no,no,ckd\\n',\n",
    " '62,60,1.015,1,0,?,abnormal,present,notpresent,100,31,1.6,?,?,10.3,30,5300,3.7,yes,no,yes,good,no,no,ckd\\n',\n",
    " '61,80,1.015,2,0,abnormal,abnormal,notpresent,notpresent,173,148,3.9,135,5.2,7.7,24,9200,3.2,yes,yes,yes,poor,yes,yes,ckd\\n',\n",
    " '60,90,?,?,?,?,?,notpresent,notpresent,?,180,76,4.5,?,10.9,32,6200,3.6,yes,yes,yes,good,no,no,ckd\\n',\n",
    " '48,80,1.025,4,0,normal,abnormal,notpresent,notpresent,95,163,7.7,136,3.8,9.8,32,6900,3.4,yes,no,no,good,no,yes,ckd\\n',\n",
    " '21,70,1.010,0,0,?,normal,notpresent,notpresent,?,?,?,?,?,?,?,?,?,no,no,no,poor,no,yes,ckd\\n',\n",
    " '42,100,1.015,4,0,normal,abnormal,notpresent,present,?,50,1.4,129,4.0,11.1,39,8300,4.6,yes,no,no,poor,no,no,ckd\\n',\n",
    " '61,60,1.025,0,0,?,normal,notpresent,notpresent,108,75,1.9,141,5.2,9.9,29,8400,3.7,yes,yes,no,good,no,yes,ckd\\n',\n",
    " '75,80,1.015,0,0,?,normal,notpresent,notpresent,156,45,2.4,140,3.4,11.6,35,10300,4,yes,yes,no,poor,no,no,ckd\\n',\n",
    " '69,70,1.010,3,4,normal,abnormal,notpresent,notpresent,264,87,2.7,130,4.0,12.5,37,9600,4.1,yes,yes,yes,good,yes,no,ckd\\n',\n",
    " '75,70,?,1,3,?,?,notpresent,notpresent,123,31,1.4,?,?,?,?,?,?,no,yes,no,good,no,no,ckd\\n',\n",
    " '68,70,1.005,1,0,abnormal,abnormal,present,notpresent,?,28,1.4,?,?,12.9,38,?,?,no,no,yes,good,no,no,ckd\\n',\n",
    " '?,70,?,?,?,?,?,notpresent,notpresent,93,155,7.3,132,4.9,?,?,?,?,yes, yes,no,good,no,no,ckd\\n',\n",
    " '73,90,1.015,3,0,?,abnormal,present,notpresent,107,33,1.5,141,4.6,10.1,30,7800,4,no,no,no,poor,no,no,ckd\\n',\n",
    " '61,90,1.010,1,1,?,normal,notpresent,notpresent,159,39,1.5,133,4.9,11.3,34,9600,4.0,yes,yes,no,poor,no,no,ckd\\n',\n",
    " '60,100,1.020,2,0,abnormal,abnormal,notpresent,notpresent,140,55,2.5,?,?,10.1,29,?,?,yes,no,no,poor,no,no,ckd\\n',\n",
    " '70,70,1.010,1,0,normal,?,present,present,171,153,5.2,?,?,?,?,?,?,no,yes,no,poor,no,no,ckd\\n',\n",
    " '65,90,1.020,2,1,abnormal,normal,notpresent,notpresent,270,39,2.0,?,?,12.0,36,9800,4.9,yes,yes,no,poor,no,yes,ckd\\n',\n",
    " '76,70,1.015,1,0,normal,normal,notpresent,notpresent,92,29,1.8,133,3.9,10.3,32,?,?,yes,no,no,good,no,no,ckd\\n',\n",
    " '72,80,?,?,?,?,?,notpresent,notpresent,137,65,3.4,141,4.7,9.7,28,6900,2.5,yes,yes,no,poor,no,yes,ckd\\t\\n',\n",
    " '69,80,1.020,3,0,abnormal,normal,notpresent,notpresent,?,103,4.1,132,5.9,12.5,?,?,?,yes,no,no,good,no,no,ckd\\n',\n",
    " '82,80,1.010,2,2,normal,?,notpresent,notpresent,140,70,3.4,136,4.2,13.0,40,9800,4.2,yes,yes,no,good,no,no,ckd\\n',\n",
    " '46,90,1.010,2,0,normal,abnormal,notpresent,notpresent,99,80,2.1,?,?,11.1,32,9100,4.1,yes,no,\\tno,good,no,no,ckd\\n',\n",
    " '45,70,1.010,0,0,?,normal,notpresent,notpresent,?,20,0.7,?,?,?,?,?,?,no,no,no,good,yes,no,ckd\\n',\n",
    " '47,100,1.010,0,0,?,normal,notpresent,notpresent,204,29,1.0,139,4.2,9.7,33,9200,4.5,yes,no,no,good,no,yes,ckd\\n',\n",
    " '35,80,1.010,1,0,abnormal,?,notpresent,notpresent,79,202,10.8,134,3.4,7.9,24,7900,3.1,no,yes,no,good,no,no,ckd\\n',\n",
    " '54,80,1.010,3,0,abnormal,abnormal,notpresent,notpresent,207,77,6.3,134,4.8,9.7,28,?,?,yes,yes,no,poor,yes,no,ckd\\n',\n",
    " '54,80,1.020,3,0,?,abnormal,notpresent,notpresent,208,89,5.9,130,4.9,9.3,?,?,?,yes,yes,no,poor,yes,no,ckd\\n',\n",
    " '48,70,1.015,0,0,?,normal,notpresent,notpresent,124,24,1.2,142,4.2,12.4,37,6400,4.7,no,yes,no,good,no,no,ckd\\n',\n",
    " '11,80,1.010,3,0,?,normal,notpresent,notpresent,?,17,0.8,?,?,15.0,45,8600,?,no,no,no,good,no,no,ckd\\n',\n",
    " '73,70,1.005,0,0,normal,normal,notpresent,notpresent,70,32,0.9,125,4.0,10.0,29,18900,3.5,yes,yes,no,good,yes,no,ckd\\n',\n",
    " '60,70,1.010,2,0,normal,abnormal,present,notpresent,144,72,3.0,?,?,9.7,29,21600,3.5,yes,yes,no,poor,no,yes,ckd\\n',\n",
    " '53,60,?,?,?,?,?,notpresent,notpresent,91,114,3.25,142,4.3,8.6,28,11000,3.8,yes,yes,no,poor,yes,yes,ckd\\n',\n",
    " '54,100,1.015,3,0,?,normal,present,notpresent,162,66,1.6,136,4.4,10.3,33,?,?,yes,yes,no,poor,yes,no,ckd\\n',\n",
    " '53,90,1.015,0,0,?,normal,notpresent,notpresent,?,38,2.2,?,?,10.9,34,4300,3.7,no,no,no,poor,no,yes,ckd\\n',\n",
    " '62,80,1.015,0,5,?,?,notpresent,notpresent,246,24,1.0,?,?,13.6,40,8500,4.7,yes,yes,no,good,no,no,ckd\\n',\n",
    " '63,80,1.010,2,2,normal,?,notpresent,notpresent,?,?,3.4,136,4.2,13.0,40,9800,4.2,yes,no,yes,good,no,no,ckd\\n',\n",
    " '35,80,1.005,3,0,abnormal,normal,notpresent,notpresent,?,?,?,?,?,9.5,28,?,?,no,no,no,good,yes,no,ckd\\n',\n",
    " '76,70,1.015,3,4,normal,abnormal,present,notpresent,?,164,9.7,131,4.4,10.2,30,11300,3.4,yes,yes,yes,poor,yes,no,ckd\\n',\n",
    " '76,90,?,?,?,?,normal,notpresent,notpresent,93,155,7.3,132,4.9,?,?,?,?,yes,yes,yes,poor,no,no,ckd\\n',\n",
    " '73,80,1.020,2,0,abnormal,abnormal,notpresent,notpresent,253,142,4.6,138,5.8,10.5,33,7200,4.3,yes,yes,yes,good,no,no,ckd\\n',\n",
    " '59,100,?,?,?,?,?,notpresent,notpresent,?,96,6.4,?,?,6.6,?,?,?,yes,yes,no,good,no,yes,ckd\\n',\n",
    " '67,90,1.020,1,0,?,abnormal,present,notpresent,141,66,3.2,138,6.6,?,?,?,?,yes,no,no,good,no,no,ckd\\n',\n",
    " '67,80,1.010,1,3,normal,abnormal,notpresent,notpresent,182,391,32.0,163,39.0,?,?,?,?,no,no,no,good,yes,no,ckd\\n',\n",
    " '15,60,1.020,3,0,?,normal,notpresent,notpresent,86,15,0.6,138,4.0,11.0,33,7700,3.8,yes,yes,no,good,no,no,ckd\\n',\n",
    " '46,70,1.015,1,0,abnormal,normal,notpresent,notpresent,150,111,6.1,131,3.7,7.5,27,?,?,no,no,no,good,no,yes,ckd\\n',\n",
    " '55,80,1.010,0,0,?,normal,notpresent,notpresent,146,?,?,?,?,9.8,?,?,?,no,no,\\tno,good,no,no,ckd\\n',\n",
    " '44,90,1.010,1,0,?,normal,notpresent,notpresent,?,20,1.1,?,?,15.0,48,?,?,no,\\tno,no,good,no,no,ckd\\n',\n",
    " '67,70,1.020,2,0,abnormal,normal,notpresent,notpresent,150,55,1.6,131,4.8,?,\\t?,?,?,yes,yes,no,good,yes,no,ckd\\n',\n",
    " '45,80,1.020,3,0,normal,abnormal,notpresent,notpresent,425,?,?,?,?,?,?,?,?,no,no,no,poor,no,no,ckd\\n',\n",
    " '65,70,1.010,2,0,?,normal,present,notpresent,112,73,3.3,?,?,10.9,37,?,?,no,no,no,good,no,no,ckd\\n',\n",
    " '26,70,1.015,0,4,?,normal,notpresent,notpresent,250,20,1.1,?,?,15.6,52,6900,6.0,no,yes,no,good,no,no,ckd,\\n',\n",
    " '61,80,1.015,0,4,?,normal,notpresent,notpresent,360,19,0.7,137,4.4,15.2,44,8300,5.2,yes,yes,no,good,no,no,ckd\\n',\n",
    " '46,60,1.010,1,0,normal,normal,notpresent,notpresent,163,92,3.3,141,4.0,9.8,28,14600,3.2,yes,yes,no,good,no,no,ckd\\n',\n",
    " '64,90,1.010,3,3,?,abnormal,present,notpresent,?,35,1.3,?,?,10.3,?,?,?,yes,yes,no,good,yes,no,ckd,\\n',\n",
    " '?,100,1.015,2,0,abnormal,abnormal,notpresent,notpresent,129,107,6.7,132,4.4,4.8,14,6300,?,yes,no,no,good,yes,yes,ckd\\n',\n",
    " '56,90,1.015,2,0,abnormal,abnormal,notpresent,notpresent,129,107,6.7,131,4.8,9.1,29,6400,3.4,yes,no,no,good,no,no,ckd\\n',\n",
    " '5,?,1.015,1,0,?,normal,notpresent,notpresent,?,16,0.7,138,3.2,8.1,?,?,?,no,no,no,good,no,yes,ckd\\n',\n",
    " '48,80,1.005,4,0,abnormal,abnormal,notpresent,present,133,139,8.5,132,5.5,10.3,36,\\t6200,4,no,yes,no,good,yes,no,ckd\\n',\n",
    " '67,70,1.010,1,0,?,normal,notpresent,notpresent,102,48,3.2,137,5.0,11.9,34,7100,3.7,yes,yes,no,good,yes,no,ckd\\n',\n",
    " '70,80,?,?,?,?,?,notpresent,notpresent,158,85,3.2,141,3.5,10.1,30,?,?,yes,no,no,good,yes,no,ckd\\n',\n",
    " '56,80,1.010,1,0,?,normal,notpresent,notpresent,165,55,1.8,?,?,13.5,40,11800,5.0,yes,yes,no,poor,yes,no,ckd\\n',\n",
    " '74,80,1.010,0,0,?,normal,notpresent,notpresent,132,98,2.8,133,5.0,10.8,31,9400,3.8,yes,yes,no,good,no,no,ckd\\n',\n",
    " '45,90,?,?,?,?,?,notpresent,notpresent,360,45,2.4,128,4.4,8.3,29,5500,3.7,yes,yes,no,good,no,no,ckd\\n',\n",
    " '38,70,?,?,?,?,?,notpresent,notpresent,104,77,1.9,140,3.9,?,?,?,?,yes,no,no,poor,yes,no,ckd\\n',\n",
    " '48,70,1.015,1,0,normal,normal,notpresent,notpresent,127,19,1.0,134,3.6,?,?,?,?,yes,yes,no,good,no,no,ckd\\n',\n",
    " '59,70,1.010,3,0,normal,abnormal,notpresent,notpresent,76,186,15,135,7.6,7.1,22,3800,2.1,yes,no,no,poor,yes,yes,ckd\\n',\n",
    " '70,70,1.015,2,?,?,?,notpresent,notpresent,?,46,1.5,?,?,9.9,?,?,?,no,yes,no,poor,yes,no,ckd\\n',\n",
    " '56,80,?,?,?,?,?,notpresent,notpresent,415,37,1.9,?,?,?,?,?,?,no,yes,no,good,no,no,ckd\\n',\n",
    " '70,100,1.005,1,0,normal,abnormal,present,notpresent,169,47,2.9,?,?,11.1,32,5800,5,yes,yes,no,poor,no,no,ckd\\n',\n",
    " '58,110,1.010,4,0,?,normal,notpresent,notpresent,251,52,2.2,?,?,?,?,13200,4.7,yes,\\tyes,no,good,no,no,ckd\\n',\n",
    " '50,70,1.020,0,0,?,normal,notpresent,notpresent,109,32,1.4,139,4.7,?,?,?,?,no,no,no,poor,no,no,ckd\\n',\n",
    " '63,100,1.010,2,2,normal,normal,notpresent,present,280,35,3.2,143,3.5,13.0,40,9800,4.2,yes,no,yes,good,no,no,ckd\\n',\n",
    " '56,70,1.015,4,1,abnormal,normal,notpresent,notpresent,210,26,1.7,136,3.8,16.1,52,12500,5.6,no,no,no,good,no,no,ckd\\n',\n",
    " '71,70,1.010,3,0,normal,abnormal,present,present,219,82,3.6,133,4.4,10.4,33,5600,3.6,yes,yes,yes,good,no,no,ckd\\n',\n",
    " '73,100,1.010,3,2,abnormal,abnormal,present,notpresent,295,90,5.6,140,2.9,9.2,30,7000,3.2,yes,yes,yes,poor,no,no,ckd\\n',\n",
    " '65,70,1.010,0,0,?,normal,notpresent,notpresent,93,66,1.6,137,4.5,11.6,36,11900,3.9,no,yes,no,good,no,no,ckd\\n',\n",
    " '62,90,1.015,1,0,?,normal,notpresent,notpresent,94,25,1.1,131,3.7,?,?,?,?,yes,no,no,good,yes,yes,ckd\\n',\n",
    " '60,80,1.010,1,1,?,normal,notpresent,notpresent,172,32,2.7,?,?,11.2,36,?,?,no,yes,yes,poor,no,no,ckd\\n',\n",
    " '65,60,1.015,1,0,?,normal,notpresent,notpresent,91,51,2.2,132,3.8,10.0,32,9100,4.0,yes,yes,no,poor,yes,no,ckd\\n',\n",
    " '50,140,?,?,?,?,?,notpresent,notpresent,101,106,6.5,135,4.3,6.2,18,5800,2.3,yes,yes,no,poor,no,yes,ckd\\n',\n",
    " '56,180,?,0,4,?,abnormal,notpresent,notpresent,298,24,1.2,139,3.9,11.2,32,10400,4.2,yes,yes,no,poor,yes,no,ckd\\n',\n",
    " '34,70,1.015,4,0,abnormal,abnormal,notpresent,notpresent,153,22,0.9,133,3.8,?,?,?,?,no,no,no,good,yes,no,ckd\\n',\n",
    " '71,90,1.015,2,0,?,abnormal,present,present,88,80,4.4,139,5.7,11.3,33,10700,3.9,no,no,no,good,no,no,ckd\\n',\n",
    " '17,60,1.010,0,0,?,normal,notpresent,notpresent,92,32,2.1,141,4.2,13.9,52,7000,?,no,no,no,good,no,no,ckd\\n',\n",
    " '76,70,1.015,2,0,normal,abnormal,present,notpresent,226,217,10.2,?,?,10.2,36,12700,4.2,yes,no,no,poor,yes,yes,ckd\\n',\n",
    " '55,90,?,?,?,?,?,notpresent,notpresent,143,88,2.0,?,?,?,?,?,?,yes,yes,no,poor,yes,no,ckd\\n',\n",
    " '65,80,1.015,0,0,?,normal,notpresent,notpresent,115,32,11.5,139,4.0,14.1,42,6800,5.2,no,no,no,good,no,no,ckd\\n',\n",
    " '50,90,?,?,?,?,?,notpresent,notpresent,89,118,6.1,127,4.4,6.0,17,6500,?,yes,yes,no,good,yes,yes,ckd\\n',\n",
    " '55,100,1.015,1,4,normal,?,notpresent,notpresent,297,53,2.8,139,4.5,11.2,34,13600,4.4,yes,yes,no,good,no,no,ckd\\n',\n",
    " '45,80,1.015,0,0,?,abnormal,notpresent,notpresent,107,15,1.0,141,4.2,11.8,37,10200,4.2,no,no,no,good,no,no,ckd\\n',\n",
    " '54,70,?,?,?,?,?,notpresent,notpresent,233,50.1,1.9,?,?,11.7,?,?,?,no,yes,no,good,no,no,ckd\\n',\n",
    " '63,90,1.015,0,0,?,normal,notpresent,notpresent,123,19,2.0,142,3.8,11.7,34,11400,4.7,no,no,no,good,no,no,ckd\\n',\n",
    " '65,80,1.010,3,3,?,normal,notpresent,notpresent,294,71,4.4,128,5.4,10.0,32,9000,3.9,yes,yes,yes,good,no,no,ckd\\n',\n",
    " '?,60,1.015,3,0,abnormal,abnormal,notpresent,notpresent,?,34,1.2,?,?,10.8,33,?,?,no,no,no,good,no,no,ckd\\n',\n",
    " '61,90,1.015,0,2,?,normal,notpresent,notpresent,?,?,?,?,?,?,?,9800,?,no,yes,no,poor,no,yes,ckd\\n',\n",
    " '12,60,1.015,3,0,abnormal,abnormal,present,notpresent,?,51,1.8,?,?,12.1,?,10300,?,no,no,no,good,no,no,ckd\\n',\n",
    " '47,80,1.010,0,0,?,abnormal,notpresent,notpresent,?,28,0.9,?,?,12.4,44,5600,4.3,no,no,no,good,no,yes,ckd\\n',\n",
    " '?,70,1.015,4,0,abnormal,normal,notpresent,notpresent,104,16,0.5,?,?,?,?,?,?,no,no,no,good,yes,no,ckd\\n',\n",
    " '?,70,1.020,0,0,?,?,notpresent,notpresent,219,36,1.3,139,3.7,12.5,37,9800,4.4,no,no,no,good,no,no,ckd\\n',\n",
    " '55,70,1.010,3,0,?,normal,notpresent,notpresent,99,25,1.2,?,?,11.4,?,?,?,no,no,no,poor,yes,no,ckd\\n',\n",
    " '60,70,1.010,0,0,?,normal,notpresent,notpresent,140,27,1.2,?,?,?,?,?,?,no,no,no,good,no,no,ckd\\n',\n",
    " '72,90,1.025,1,3,?,normal,notpresent,notpresent,323,40,2.2,137,5.3,12.6,?,?,?,no,yes,yes,poor,no,no,ckd\\n',\n",
    " '54,60,?,3,?,?,?,notpresent,notpresent,125,21,1.3,137,3.4,15.0,46,?,?,yes,yes,no,good,yes,no,ckd\\n',\n",
    " '34,70,?,?,?,?,?,notpresent,notpresent,?,219,12.2,130,3.8,6.0,?,?,?,yes,no,no,good,no,yes,ckd\\n',\n",
    " '43,80,1.015,2,3,?,abnormal,present,present,?,30,1.1,?,?,14.0,42,14900,?,no,no,no,good,no,no,ckd\\n',\n",
    " '65,100,1.015,0,0,?,normal,notpresent,notpresent,90,98,2.5,?,?,9.1,28,5500,3.6,yes,no,no,good,no,no,ckd\\n',\n",
    " '72,90,?,?,?,?,?,notpresent,notpresent,308,36,2.5,131,4.3,?,?,?,?,yes,yes,no,poor,no,no,ckd\\n',\n",
    " '70,90,1.015,0,0,?,normal,notpresent,notpresent,144,125,4.0,136,4.6,12.0,37,8200,4.5,yes,yes,no,poor,yes,no,ckd\\n',\n",
    " '71,60,1.015,4,0,normal,normal,notpresent,notpresent,118,125,5.3,136,4.9,11.4,35,15200,4.3,yes,yes,no,poor,yes,no,ckd\\n',\n",
    " '52,90,1.015,4,3,normal,abnormal,notpresent,notpresent,224,166,5.6,133,47,8.1,23,5000,2.9,yes,yes,no,good,no,yes,ckd\\n',\n",
    " '75,70,1.025,1,0,?,normal,notpresent,notpresent,158,49,1.4,135,4.7,11.1,?,?,?,yes,no,no,poor,yes,no,ckd\\n',\n",
    " '50,90,1.010,2,0,normal,abnormal,present,present,128,208,9.2,134,4.8,8.2,22,16300,2.7,no,no,no,poor,yes,yes,ckd\\n',\n",
    " '5,50,1.010,0,0,?,normal,notpresent,notpresent,?,25,0.6,?,?,11.8,36,12400,?,no,no,no,good,no,no,ckd\\n',\n",
    " '50,?,?,?,?,normal,?,notpresent,notpresent,219,176,13.8,136,4.5,8.6,24,13200,2.7,yes,no,no,good,yes,yes,ckd\\n',\n",
    " '70,100,1.015,4,0,normal,normal,notpresent,notpresent,118,125,5.3,136,4.9,12.0,37,\\t8400,8.0,yes,no,no,good,no,no,ckd\\n',\n",
    " '47,100,1.010,?,?,normal,?,notpresent,notpresent,122,?,16.9,138,5.2,10.8,33,10200,3.8,no,yes,no,good,no,no,ckd\\n',\n",
    " '48,80,1.015,0,2,?,normal,notpresent,notpresent,214,24,1.3,140,4.0,13.2,39,?,?,no,yes,no,poor,no,no,ckd\\n',\n",
    " '46,90,1.020,?,?,?,normal,notpresent,notpresent,213,68,2.8,146,6.3,9.3,?,?,?,yes,yes,no,good,no,no,ckd\\n',\n",
    " '45,60,1.010,2,0,normal,abnormal,present,notpresent,268,86,4.0,134,5.1,10.0,29,9200,?,yes,yes,no,good,no,no,ckd\\n',\n",
    " '73,?,1.010,1,0,?,?,notpresent,notpresent,95,51,1.6,142,3.5,?,?,?,?,no,\\tno,no,good,no,no,ckd\\n',\n",
    " '41,70,1.015,2,0,?,abnormal,notpresent,present,?,68,2.8,132,4.1,11.1,33,?,?,yes,no,no,good,yes,yes,ckd\\n',\n",
    " '69,70,1.010,0,4,?,normal,notpresent,notpresent,256,40,1.2,142,5.6,?,?,?,?,no,no,no,good,no,no,ckd\\n',\n",
    " '67,70,1.010,1,0,normal,normal,notpresent,notpresent,?,106,6.0,137,4.9,6.1,19,6500,?,yes,no,no,good,no,yes,ckd\\n',\n",
    " '72,90,?,?,?,?,?,notpresent,notpresent,84,145,7.1,135,5.3,?,?,?,?,no,yes,no,good,no,no,ckd\\n',\n",
    " '41,80,1.015,1,4,abnormal,normal,notpresent,notpresent,210,165,18.0,135,4.7,?,?,?,?,no,yes,no,good,no,no,ckd\\n',\n",
    " '60,90,1.010,2,0,abnormal,normal,notpresent,notpresent,105,53,2.3,136,5.2,11.1,33,10500,4.1,no,no,no,good,no,no,ckd\\n',\n",
    " '57,90,1.015,5,0,abnormal,abnormal,notpresent,present,?,322,13.0,126,4.8,8.0,24,4200,3.3,yes,yes,yes,poor,yes,yes,ckd\\n',\n",
    " '53,100,1.010,1,3,abnormal,normal,notpresent,notpresent,213,23,1.0,139,4,?,?,?,?,no,yes,no,good,no,no,ckd\\n',\n",
    " '60,60,1.010,3,1,normal,abnormal,present,notpresent,288,36,1.7,130,3.0,7.9,25,15200,3.0,yes,no,no,poor,no,yes,ckd\\n',\n",
    " '69,60,?,?,?,?,?,notpresent,notpresent,171,26,48.1,?,?,?,?,?,?,yes,no,no,poor,no,no,ckd\\n',\n",
    " '65,70,1.020,1,0,abnormal,abnormal,notpresent,notpresent,139,29,1.0,?,?,10.5,32,?,?,yes,no,no,good,yes,no,ckd\\n',\n",
    " '8,60,1.025,3,0,normal,normal,notpresent,notpresent,78,27,0.9,?,?,12.3,41,6700,?,no,no,no,poor,yes,no,ckd\\n',\n",
    " '76,90,?,?,?,?,?,notpresent,notpresent,172,46,1.7,141,5.5,9.6,30,?,?,yes,yes,no,good,no,yes,ckd\\n',\n",
    " '39,70,1.010,0,0,?,normal,notpresent,notpresent,121,20,0.8,133,3.5,10.9,32,?,?,no,yes,no,good,no,no,ckd\\n',\n",
    " '55,90,1.010,2,1,abnormal,abnormal,notpresent,notpresent,273,235,14.2,132,3.4,8.3,22,14600,2.9,yes,yes,no,poor,yes,yes,ckd\\n',\n",
    " '56,90,1.005,4,3,abnormal,abnormal,notpresent,notpresent,242,132,16.4,140,4.2,8.4,26,?,3,yes,yes,no,poor,yes,yes,ckd\\n',\n",
    " '50,70,1.020,3,0,abnormal,normal,present,present,123,40,1.8,?,?,11.1,36,4700,?,no,no,no,good,no,no,ckd\\n',\n",
    " '66,90,1.015,2,0,?,normal,notpresent,present,153,76,3.3,?,?,?,?,?,?,no,no,no,poor,no,no,ckd\\n',\n",
    " '62,70,1.025,3,0,normal,abnormal,notpresent,notpresent,122,42,1.7,136,4.7,12.6,39,7900,3.9,yes,yes,no,good,no,no,ckd\\n',\n",
    " '71,60,1.020,3,2,normal,normal,present,notpresent,424,48,1.5,132,4.0,10.9,31,?,?,yes,yes,yes,good,no,no,ckd\\n',\n",
    " '59,80,1.010,1,0,abnormal,normal,notpresent,notpresent,303,35,1.3,122,3.5,10.4,35,10900,4.3,no,yes,no,poor,no,no,ckd\\n',\n",
    " '81,60,?,?,?,?,?,notpresent,notpresent,148,39,2.1,147,4.2,10.9,35,9400,2.4,yes,yes,yes,poor,yes,no,ckd\\n',\n",
    " '62,?,1.015,3,0,abnormal,?,notpresent,notpresent,?,?,?,?,?,14.3,42,10200,4.8,yes,yes,no,good,no,no,ckd\\n',\n",
    " '59,70,?,?,?,?,?,notpresent,notpresent,204,34,1.5,124,4.1,9.8,37,6000,\\t?,no,yes,no,good,no,no,ckd\\n',\n",
    " '46,80,1.010,0,0,?,normal,notpresent,notpresent,160,40,2,140,4.1,9.0,27,8100,3.2,yes,no,no,poor,no,yes,ckd\\n',\n",
    " '14,?,1.015,0,0,?,?,notpresent,notpresent,192,15,0.8,137,4.2,14.3,40,9500,5.4,no,yes,no,poor,yes,no,ckd\\n',\n",
    " '60,80,1.020,0,2,?,?,notpresent,notpresent,?,?,?,?,?,?,?,?,?,no,yes,no,good,no,no,ckd\\n',\n",
    " '27,60,?,?,?,?,?,notpresent,notpresent,76,44,3.9,127,4.3,?,?,?,?,no,no,no,poor,yes,yes,ckd\\n',\n",
    " '34,70,1.020,0,0,abnormal,normal,notpresent,notpresent,139,19,0.9,?,?,12.7,42,2200,?,no,no,no,poor,no,no,ckd\\n',\n",
    " '65,70,1.015,4,4,?,normal,present,notpresent,307,28,1.5,?,?,11.0,39,6700,?,yes,yes,no,good,no,no,ckd\\n',\n",
    " '?,70,1.010,0,2,?,normal,notpresent,notpresent,220,68,2.8,?,?,8.7,27,?,?,yes,yes,no,good,no,yes,ckd\\n',\n",
    " '66,70,1.015,2,5,?,normal,notpresent,notpresent,447,41,1.7,131,3.9,12.5,33,9600,4.4,yes,yes,no,good,no,no,ckd\\n',\n",
    " '83,70,1.020,3,0,normal,normal,notpresent,notpresent,102,60,2.6,115,5.7,8.7,26,12800,3.1,yes,no,no,poor,no,yes,ckd\\n',\n",
    " '62,80,1.010,1,2,?,?,notpresent,notpresent,309,113,2.9,130,2.5,10.6,34,12800,4.9,no,no,no,good,no,no,ckd\\n',\n",
    " '17,70,1.015,1,0,abnormal,normal,notpresent,notpresent,22,1.5,7.3,145,2.8,13.1,41,11200,?,no,no,no,good,no,no,ckd\\n',\n",
    " '54,70,?,?,?,?,?,notpresent,notpresent,111,146,7.5,141,4.7,11.0,35,8600,4.6,no,no,no,good,no,no,ckd\\n',\n",
    " '60,50,1.010,0,0,?,normal,notpresent,notpresent,261,58,2.2,113,3.0,?,?,4200,3.4,yes,no,no,good,no,no,ckd\\n',\n",
    " '21,90,1.010,4,0,normal,abnormal,present,present,107,40,1.7,125,3.5,8.3,23,12400,3.9,no,no,no,good,no,yes,ckd\\n',\n",
    " '65,80,1.015,2,1,normal,normal,present,notpresent,215,133,2.5,?,?,13.2,41,?,?,no,yes,no,good,no,no,ckd\\n',\n",
    " '42,90,1.020,2,0,abnormal,abnormal,present,notpresent,93,153,2.7,139,4.3,9.8,34,9800,?,no,no,no,poor,yes,yes,ckd\\n',\n",
    " '72,90,1.010,2,0,?,abnormal,present,notpresent,124,53,2.3,?,?,11.9,39,?,?,no,no,no,good,no,no,ckd\\n',\n",
    " '73,90,1.010,1,4,abnormal,abnormal,present,notpresent,234,56,1.9,?,?,10.3,28,?,?,no,yes,no,good,no,no,ckd\\n',\n",
    " '45,70,1.025,2,0,normal,abnormal,present,notpresent,117,52,2.2,136,3.8,10.0,30,19100,3.7,no,no,no,good,no,no,ckd\\n',\n",
    " '61,80,1.020,0,0,?,normal,notpresent,notpresent,131,23,0.8,140,4.1,11.3,35,?,?,no,no,no,good,no,no,ckd\\n',\n",
    " '30,70,1.015,0,0,?,normal,notpresent,notpresent,101,106,6.5,135,4.3,?,?,?,?,no,no,no,poor,no,no,ckd\\n',\n",
    " '54,60,1.015,3,2,?,abnormal,notpresent,notpresent,352,137,3.3,133,4.5,11.3,31,5800,3.6,yes,yes,yes,poor,yes,no,ckd\\n',\n",
    " '4,?,1.020,1,0,?,normal,notpresent,notpresent,99,23,0.6,138,4.4,12,34,\\t?,?,no,no,no,good,no,no,ckd\\n',\n",
    " '8,50,1.020,4,0,normal,normal,notpresent,notpresent,?,46,1.0,135,3.8,?,?,?,?,no,no,no,good,yes,no,ckd\\n',\n",
    " '3,?,1.010,2,0,normal,normal,notpresent,notpresent,?,22,0.7,?,?,10.7,34,12300,?,no,no,no,good,no,no,ckd\\n',\n",
    " '8,?,?,?,?,?,?,notpresent,notpresent,80,66,2.5,142,3.6,12.2,38,?,?,no,\\tno,no,good,no,no,ckd\\n',\n",
    " '64,60,1.010,4,1,abnormal,abnormal,notpresent,present,239,58,4.3,137,5.4,9.5,29,7500,3.4,yes,yes,no,poor,yes,no,ckd\\n',\n",
    " '6,60,1.010,4,0,abnormal,abnormal,notpresent,present,94,67,1.0,135,4.9,9.9,30,16700,4.8,no,no,no,poor,no,no,ckd\\n',\n",
    " '?,70,1.010,3,0,normal,normal,notpresent,notpresent,110,115,6.0,134,2.7,9.1,26,9200,3.4,yes,yes,no,poor,no,no,ckd\\n',\n",
    " '46,110,1.015,0,0,?,normal,notpresent,notpresent,130,16,0.9,?,?,?,?,?,?,no,no,no,good,no,no,ckd\\n',\n",
    " '32,90,1.025,1,0,abnormal,abnormal,notpresent,notpresent,?,223,18.1,113,6.5,5.5,15,2600,2.8,yes,yes,no,poor,yes,yes,ckd\\n',\n",
    " '80,70,1.010,2,?,?,abnormal,notpresent,notpresent,?,49,1.2,?,?,?,?,?,?,yes,\\tyes,no,good,no,no,ckd\\n',\n",
    " '70,90,1.020,2,1,abnormal,abnormal,notpresent,present,184,98.6,3.3,138,3.9,5.8,?,?,?,yes,yes,yes,poor,no,no,ckd\\n',\n",
    " '49,100,1.010,3,0,abnormal,abnormal,notpresent,notpresent,129,158,11.8,122,3.2,8.1,24,9600,3.5,yes,yes,no,poor,yes,yes,ckd\\n',\n",
    " '57,80,?,?,?,?,?,notpresent,notpresent,?,111,9.3,124,5.3,6.8,?,4300,3.0,yes,yes,no,good,no,yes,ckd\\n',\n",
    " '59,100,1.020,4,2,normal,normal,notpresent,notpresent,252,40,3.2,137,4.7,11.2,30,26400,3.9,yes,yes,no,poor,yes,no,ckd\\n',\n",
    " '65,80,1.015,0,0,?,normal,notpresent,notpresent,92,37,1.5,140,5.2,8.8,25,10700,3.2,yes,no,yes,good,yes,no,ckd\\n',\n",
    " '90,90,1.025,1,0,?,normal,notpresent,notpresent,139,89,3.0,140,4.1,12.0,37,7900,3.9,yes,yes,no,good,no,no,ckd\\n',\n",
    " '64,70,?,?,?,?,?,notpresent,notpresent,113,94,7.3,137,4.3,7.9,21,?,?,yes,yes,yes,good,yes,yes,ckd\\n',\n",
    " '78,60,?,?,?,?,?,notpresent,notpresent,114,74,2.9,135,5.9,8.0,24,?,?,no,yes,no,good,no,yes,ckd\\n',\n",
    " '?,90,?,?,?,?,?,notpresent,notpresent,207,80,6.8,142,5.5,8.5,?,?,?,yes,yes,no,good,no,yes,ckd\\n',\n",
    " '65,90,1.010,4,2,normal,normal,notpresent,notpresent,172,82,13.5,145,6.3,8.8,31,?,?,yes,yes,no,good,yes,yes,ckd\\n',\n",
    " '61,70,?,?,?,?,?,notpresent,notpresent,100,28,2.1,?,?,12.6,43,?,?,yes,yes,no,good,no,no,ckd\\n',\n",
    " '60,70,1.010,1,0,?,normal,notpresent,notpresent,109,96,3.9,135,4.0,13.8,41,?,?,yes,no,no,good,no,no,ckd\\n',\n",
    " '50,70,1.010,0,0,?,normal,notpresent,notpresent,230,50,2.2,?,?,12,41,10400,4.6,yes,yes,no,good,no,no,ckd\\n',\n",
    " '67,80,?,?,?,?,?,notpresent,notpresent,341,37,1.5,?,?,12.3,41,6900,4.9,yes,yes,no,good,no,yes,ckd\\n',\n",
    " '19,70,1.020,0,0,?,normal,notpresent,notpresent,?,?,?,?,?,11.5,?,6900,?,no,no,no,good,no,no,ckd\\n',\n",
    " '59,100,1.015,4,2,normal,normal,notpresent,notpresent,255,132,12.8,135,5.7,7.3,20,9800,3.9,yes,yes,yes,good,no,yes,ckd\\n',\n",
    " '54,120,1.015,0,0,?,normal,notpresent,notpresent,103,18,1.2,?,?,?,?,?,?,no,no,no,good,no,no,ckd\\n',\n",
    " '40,70,1.015,3,4,normal,normal,notpresent,notpresent,253,150,11.9,132,5.6,10.9,31,8800,3.4,yes,yes,no,poor,yes,no,ckd\\n',\n",
    " '55,80,1.010,3,1,normal,abnormal,present,present,214,73,3.9,137,4.9,10.9,34,7400,3.7,yes,yes,no,good,yes,no,ckd\\n',\n",
    " '68,80,1.015,0,0,?,abnormal,notpresent,notpresent,171,30,1.0,?,?,13.7,\\t43,4900,5.2,no,yes,no,good,no,no,ckd\\n',\n",
    " '2,?,1.010,3,0,normal,abnormal,notpresent,notpresent,?,?,?,?,?,?,?,?,?,no,no,no,good,yes,no,ckd\\n',\n",
    " '64,70,1.010,0,0,?,normal,notpresent,notpresent,107,15,?,?,?,12.8,38,?,?,no,no,no,good,no,no,ckd\\n',\n",
    " '63,100,1.010,1,0,?,normal,notpresent,notpresent,78,61,1.8,141,4.4,12.2,36,10500,4.3,no,yes,no,good,no,no,ckd\\n',\n",
    " '33,90,1.015,0,0,?,normal,notpresent,notpresent,92,19,0.8,?,?,11.8,34,7000,?,no,no,no,good,no,no,ckd\\n',\n",
    " '68,90,1.010,0,0,?,normal,notpresent,notpresent,238,57,2.5,?,?,9.8,28,8000,3.3,yes,yes,no,poor,no,no,ckd\\n',\n",
    " '36,80,1.010,0,0,?,normal,notpresent,notpresent,103,?,?,?,?,11.9,36,8800,?,no,no,no,good,no,no,ckd\\n',\n",
    " '66,70,1.020,1,0,normal,?,notpresent,notpresent,248,30,1.7,138,5.3,?,?,?,?,yes,yes,no,good,no,no,ckd\\n',\n",
    " '74,60,?,?,?,?,?,notpresent,notpresent,108,68,1.8,?,?,?,?,?,?,yes,yes,no,good,no,no,ckd\\n',\n",
    " '71,90,1.010,0,3,?,normal,notpresent,notpresent,303,30,1.3,136,4.1,13.0,38,9200,4.6,yes,yes,no,good,no,no,ckd\\n',\n",
    " '34,60,1.020,0,0,?,normal,notpresent,notpresent,117,28,2.2,138,3.8,?,?,?,?,no,no,no,good,yes,no,ckd\\n',\n",
    " '60,90,1.010,3,5,abnormal,normal,notpresent,present,490,95,2.7,131,3.8,11.5,35,12000,4.5,yes,yes,no,good,no,no,ckd\\n',\n",
    " '64,100,1.015,4,2,abnormal,abnormal,notpresent,present,163,54,7.2,140,4.6,7.9,26,7500,3.4,yes,yes,no,good,yes,no,ckd\\n',\n",
    " '57,80,1.015,0,0,?,normal,notpresent,notpresent,120,48,1.6,?,?,11.3,36,7200,3.8,yes,yes,no,good,no,no,ckd\\n',\n",
    " '60,70,?,?,?,?,?,notpresent,notpresent,124,52,2.5,?,?,?,?,?,?,yes,no,no,good,no,no,ckd\\n',\n",
    " '59,50,1.010,3,0,normal,abnormal,notpresent,notpresent,241,191,12.0,114,2.9,9.6,31,15700,3.8,no,yes,no,good,yes,no,ckd\\n',\n",
    " '65,60,1.010,2,0,normal,abnormal,present,notpresent,192,17,1.7,130,4.3,?,?,9500,?,yes,yes,no,poor,no,no,ckd\\t\\n',\n",
    " '60,90,?,?,?,?,?,notpresent,notpresent,269,51,2.8,138,3.7,11.5,35,?,?,yes,yes,yes,good,yes,no,ckd\\n',\n",
    " '50,90,1.015,1,0,abnormal,abnormal,notpresent,notpresent,?,?,?,?,?,?,?,?,?,no,no,no,good,yes,no,ckd\\n',\n",
    " '51,100,1.015,2,0,normal,normal,notpresent,present,93,20,1.6,146,4.5,?,?,?,?,no,no,no,poor,no,no,ckd\\n',\n",
    " '37,100,1.010,0,0,abnormal,normal,notpresent,notpresent,?,19,1.3,?,?,15.0,44,4100,5.2,yes,no,no,good,no,no,ckd\\n',\n",
    " '45,70,1.010,2,0,?,normal,notpresent,notpresent,113,93,2.3,?,?,7.9,26,5700,?,no,no,yes,good,no,yes,ckd\\n',\n",
    " '65,80,?,?,?,?,?,notpresent,notpresent,74,66,2.0,136,5.4,9.1,25,?,?,yes,yes,yes,good,yes,no,ckd\\n',\n",
    " '80,70,1.015,2,2,?,normal,notpresent,notpresent,141,53,2.2,?,?,12.7,40,9600,?,yes,yes,no,poor,yes,no,ckd\\n',\n",
    " '72,100,?,?,?,?,?,notpresent,notpresent,201,241,13.4,127,4.8,9.4,28,?,?,yes,yes,no,good,no,yes,ckd\\n',\n",
    " '34,90,1.015,2,0,normal,normal,notpresent,notpresent,104,50,1.6,137,4.1,11.9,39,?,?,no,no,no,good,no,no,ckd\\n',\n",
    " '65,70,1.015,1,0,?,normal,notpresent,notpresent,203,46,1.4,?,?,11.4,36,5000,4.1,yes,yes,no,poor,yes,no,ckd\\n',\n",
    " '57,70,1.015,1,0,?,abnormal,notpresent,notpresent,165,45,1.5,140,3.3,10.4,31,4200,3.9,no,no,no,good,no,no,ckd\\n',\n",
    " '69,70,1.010,4,3,normal,abnormal,present,present,214,96,6.3,120,3.9,9.4,28,11500,3.3,yes,yes,yes,good,yes,yes,ckd\\n',\n",
    " '62,90,1.020,2,1,?,normal,notpresent,notpresent,169,48,2.4,138,2.9,13.4,47,11000,6.1,yes,no,no,good,no,no,ckd\\n',\n",
    " '64,90,1.015,3,2,?,abnormal,present,notpresent,463,64,2.8,135,4.1,12.2,40,9800,4.6,yes,yes,no,good,no,yes,ckd\\n',\n",
    " '48,100,?,?,?,?,?,notpresent,notpresent,103,79,5.3,135,6.3,6.3,19,7200,2.6,yes,no,yes,poor,no,no,ckd\\n',\n",
    " '48,110,1.015,3,0,abnormal,normal,present,notpresent,106,215,15.2,120,5.7,8.6,26,5000,2.5,yes,no,yes,good,no,yes,ckd\\n',\n",
    " '54,90,1.025,1,0,normal,abnormal,notpresent,notpresent,150,18,1.2,140,4.2,?,?,?,?,no,no,no,poor,yes,yes,ckd\\n',\n",
    " '59,70,1.010,1,3,abnormal,abnormal,notpresent,notpresent,424,55,1.7,138,4.5,12.6,37,10200,4.1,yes,yes,yes,good,no,no,ckd\\n',\n",
    " '56,90,1.010,4,1,normal,abnormal,present,notpresent,176,309,13.3,124,6.5,3.1,9,5400,2.1,yes,yes,no,poor,yes,yes,ckd\\n',\n",
    " '40,80,1.025,0,0,normal,normal,notpresent,notpresent,140,10,1.2,135,5.0,15.0,48,10400,4.5,no,no,no,good,no,no,notckd\\n',\n",
    " '23,80,1.025,0,0,normal,normal,notpresent,notpresent,70,36,1.0,150,4.6,17.0,52,9800,5.0,no,no,no,good,no,no,notckd\\n',\n",
    " '45,80,1.025,0,0,normal,normal,notpresent,notpresent,82,49,0.6,147,4.4,15.9,46,9100,4.7,no,no,no,good,no,no,notckd\\n',\n",
    " '57,80,1.025,0,0,normal,normal,notpresent,notpresent,119,17,1.2,135,4.7,15.4,42,6200,6.2,no,no,no,good,no,no,notckd\\n',\n",
    " '51,60,1.025,0,0,normal,normal,notpresent,notpresent,99,38,0.8,135,3.7,13.0,49,8300,5.2,no,no,no,good,no,no,notckd\\n',\n",
    " '34,80,1.025,0,0,normal,normal,notpresent,notpresent,121,27,1.2,144,3.9,13.6,52,9200,6.3,no,no,no,good,no,no,notckd\\n',\n",
    " '60,80,1.025,0,0,normal,normal,notpresent,notpresent,131,10,0.5,146,5.0,14.5,41,10700,5.1,no,no,no,good,no,no,notckd\\n',\n",
    " '38,60,1.020,0,0,normal,normal,notpresent,notpresent,91,36,0.7,135,3.7,14.0,46,9100,5.8,no,no,no,good,no,no,notckd\\n',\n",
    " '42,80,1.020,0,0,normal,normal,notpresent,notpresent,98,20,0.5,140,3.5,13.9,44,8400,5.5,no,no,no,good,no,no,notckd\\n',\n",
    " '35,80,1.020,0,0,normal,normal,notpresent,notpresent,104,31,1.2,135,5.0,16.1,45,4300,5.2,no,no,no,good,no,no,notckd\\n',\n",
    " '30,80,1.020,0,0,normal,normal,notpresent,notpresent,131,38,1.0,147,3.8,14.1,45,9400,5.3,no,no,no,good,no,no,notckd\\n',\n",
    " '49,80,1.020,0,0,normal,normal,notpresent,notpresent,122,32,1.2,139,3.9,17.0,41,5600,4.9,no,no,no,good,no,no,notckd\\n',\n",
    " '55,80,1.020,0,0,normal,normal,notpresent,notpresent,118,18,0.9,135,3.6,15.5,43,7200,5.4,no,no,no,good,no,no,notckd\\n',\n",
    " '45,80,1.020,0,0,normal,normal,notpresent,notpresent,117,46,1.2,137,5.0,16.2,45,8600,5.2,no,no,no,good,no,no,notckd\\n',\n",
    " '42,80,1.020,0,0,normal,normal,notpresent,notpresent,132,24,0.7,140,4.1,14.4,50,5000,4.5,no,no,no,good,no,no,notckd\\n',\n",
    " '50,80,1.020,0,0,normal,normal,notpresent,notpresent,97,40,0.6,150,4.5,14.2,48,10500,5.0,no,no,no,good,no,no,notckd\\n',\n",
    " '55,80,1.020,0,0,normal,normal,notpresent,notpresent,133,17,1.2,135,4.8,13.2,41,6800,5.3,no,no,no,good,no,no,notckd\\n',\n",
    " '48,80,1.025,0,0,normal,normal,notpresent,notpresent,122,33,0.9,146,3.9,13.9,48,9500,4.8,no,no,no,good,no,no,notckd\\n',\n",
    " '?,80,?,?,?,?,?,notpresent,notpresent,100,49,1.0,140,5.0,16.3,53,8500,4.9,no,no,no,good,no,no,notckd\\n',\n",
    " '25,80,1.025,0,0,normal,normal,notpresent,notpresent,121,19,1.2,142,4.9,15.0,48,6900,5.3,no,no,no,good,no,no,notckd\\n',\n",
    " '23,80,1.025,0,0,normal,normal,notpresent,notpresent,111,34,1.1,145,4.0,14.3,41,7200,5.0,no,no,no,good,no,no,notckd\\n',\n",
    " '30,80,1.025,0,0,normal,normal,notpresent,notpresent,96,25,0.5,144,4.8,13.8,42,9000,4.5,no,no,no,good,no,no,notckd\\n',\n",
    " '56,80,1.025,0,0,normal,normal,notpresent,notpresent,139,15,1.2,135,5.0,14.8,42,5600,5.5,no,no,no,good,no,no,notckd\\n',\n",
    " '47,80,1.020,0,0,normal,normal,notpresent,notpresent,95,35,0.9,140,4.1,?,?,?,?,no,no,no,good,no,no,notckd\\n',\n",
    " '19,80,1.020,0,0,normal,normal,notpresent,notpresent,107,23,0.7,141,4.2,14.4,44,?,?,no,no,no,good,no,no,notckd\\n',\n",
    " '52,80,1.020,0,0,normal,normal,notpresent,notpresent,125,22,1.2,139,4.6,16.5,43,4700,4.6,no,no,no,good,no,no,notckd\\n',\n",
    " '20,60,1.025,0,0,normal,normal,notpresent,notpresent,?,?,?,137,4.7,14.0,41,4500,5.5,no,no,no,good,no,no,notckd\\n',\n",
    " '46,60,1.025,0,0,normal,normal,notpresent,notpresent,123,46,1.0,135,5.0,15.7,50,6300,4.8,no,no,no,good,no,no,notckd\\n',\n",
    " '48,60,1.020,0,0,normal,normal,notpresent,notpresent,112,44,1.2,142,4.9,14.5,44,9400,6.4,no,no,no,good,no,no,notckd\\n',\n",
    " '24,70,1.025,0,0,normal,normal,notpresent,notpresent,140,23,0.6,140,4.7,16.3,48,5800,5.6,no,no,no,good,no,no,notckd\\n',\n",
    " '47,80,?,?,?,?,?,notpresent,notpresent,93,33,0.9,144,4.5,13.3,52,8100,5.2,no,no,no,good,no,no,notckd\\n',\n",
    " '55,80,1.025,0,0,normal,normal,notpresent,notpresent,130,50,1.2,147,5,15.5,41,9100,6.0,no,no,no,good,no,no,notckd\\n',\n",
    " '20,70,1.020,0,0,normal,normal,notpresent,notpresent,123,44,1.0,135,3.8,14.6,44,5500,4.8,no,no,no,good,no,no,notckd\\n',\n",
    " '60,70,1.020,0,0,normal,normal,notpresent,notpresent,?,?,?,?,?,16.4,43,10800,5.7,no,no,no,good,no,no,notckd\\n',\n",
    " '33,80,1.025,0,0,normal,normal,notpresent,notpresent,100,37,1.2,142,4.0,16.9,52,6700,6.0,no,no,no,good,no,no,notckd\\n',\n",
    " '66,70,1.020,0,0,normal,normal,notpresent,notpresent,94,19,0.7,135,3.9,16.0,41,5300,5.9,no,no,no,good,no,no,notckd\\n',\n",
    " '71,70,1.020,0,0,normal,normal,notpresent,notpresent,81,18,0.8,145,5.0,14.7,44,9800,6.0,no,no,no,good,no,no,notckd\\n',\n",
    " '39,70,1.025,0,0,normal,normal,notpresent,notpresent,124,22,0.6,137,3.8,13.4,43,?,?,no,no,no,good,no,no,notckd\\n',\n",
    " '56,70,1.025,0,0,normal,normal,notpresent,notpresent,70,46,1.2,135,4.9,15.9,50,11000,5.1,?,?,?,good,no,no,notckd\\n',\n",
    " '42,70,1.020,0,0,normal,normal,notpresent,notpresent,93,32,0.9,143,4.7,16.6,43,7100,5.3,no,no,no,good,no,no,notckd\\n',\n",
    " '54,70,1.020,0,0,?,?,?,?,76,28,0.6,146,3.5,14.8,52,8400,5.9,no,no,no,good,no,no,notckd\\n',\n",
    " '47,80,1.025,0,0,normal,normal,notpresent,notpresent,124,44,1.0,140,4.9,14.9,41,7000,5.7,no,no,no,good,no,no,notckd\\n',\n",
    " '30,80,1.020,0,0,normal,normal,notpresent,notpresent,89,42,0.5,139,5.0,16.7,52,10200,5.0,no,no,no,good,no,no,notckd\\n',\n",
    " '50,?,1.020,0,0,normal,normal,notpresent,notpresent,92,19,1.2,150,4.8,14.9,48,4700,5.4,no,no,no,good,no,no,notckd\\n',\n",
    " '75,60,1.020,0,0,normal,normal,notpresent,notpresent,110,50,0.7,135,5.0,14.3,40,8300,5.8,no,no,no,?,?,?,notckd\\n',\n",
    " '44,70,?,?,?,?,?,notpresent,notpresent,106,25,0.9,150,3.6,15.0,50,9600,6.5,no,no,no,good,no,no,notckd\\n',\n",
    " '41,70,1.020,0,0,normal,normal,notpresent,notpresent,125,38,0.6,140,5.0,16.8,41,6300,5.9,no,no,no,good,no,no,notckd\\n',\n",
    " '53,60,1.025,0,0,normal,normal,notpresent,notpresent,116,26,1.0,146,4.9,15.8,45,7700,5.2,?,?,?,good,no,no,notckd\\n',\n",
    " '34,60,1.020,0,0,normal,normal,notpresent,notpresent,91,49,1.2,135,4.5,13.5,48,8600,4.9,no,no,no,good,no,no,notckd\\n',\n",
    " '73,60,1.020,0,0,normal,normal,notpresent,notpresent,127,48,0.5,150,3.5,15.1,52,11000,4.7,no,no,no,good,no,no,notckd\\n',\n",
    " '45,60,1.020,0,0,normal,normal,?,?,114,26,0.7,141,4.2,15.0,43,9200,5.8,no,no,no,good,no,no,notckd\\n',\n",
    " '44,60,1.025,0,0,normal,normal,notpresent,notpresent,96,33,0.9,147,4.5,16.9,41,7200,5.0,no,no,no,good,no,no,notckd\\n',\n",
    " '29,70,1.020,0,0,normal,normal,notpresent,notpresent,127,44,1.2,145,5.0,14.8,48,?,?,no,no,no,good,no,no,notckd\\n',\n",
    " '55,70,1.020,0,0,normal,normal,notpresent,notpresent,107,26,1.1,?,?,17.0,50,6700,6.1,no,no,no,good,no,no,notckd\\n',\n",
    " '33,80,1.025,0,0,normal,normal,notpresent,notpresent,128,38,0.6,135,3.9,13.1,45,6200,4.5,no,no,no,good,no,no,notckd\\n',\n",
    " '41,80,1.020,0,0,normal,normal,notpresent,notpresent,122,25,0.8,138,5.0,17.1,41,9100,5.2,no,no,no,good,no,no,notckd\\n',\n",
    " '52,80,1.020,0,0,normal,normal,notpresent,notpresent,128,30,1.2,140,4.5,15.2,52,4300,5.7,no,no,no,good,no,no,notckd\\n',\n",
    " '47,60,1.020,0,0,normal,normal,notpresent,notpresent,137,17,0.5,150,3.5,13.6,44,7900,4.5,no,no,no,good,no,no,notckd\\n',\n",
    " '43,80,1.025,0,0,normal,normal,notpresent,notpresent,81,46,0.6,135,4.9,13.9,48,6900,4.9,no,no,no,good,no,no,notckd\\n',\n",
    " '51,60,1.020,0,0,?,?,notpresent,notpresent,129,25,1.2,139,5.0,17.2,40,8100,5.9,no,no,no,good,no,no,notckd\\n',\n",
    " '46,60,1.020,0,0,normal,normal,notpresent,notpresent,102,27,0.7,142,4.9,13.2,44,11000,5.4,no,no,no,good,no,no,notckd\\n',\n",
    " '56,60,1.025,0,0,normal,normal,notpresent,notpresent,132,18,1.1,147,4.7,13.7,45,7500,5.6,no,no,no,good,no,no,notckd\\n',\n",
    " '80,70,1.020,0,0,normal,normal,notpresent,notpresent,?,?,?,135,4.1,15.3,48,6300,6.1,no,no,no,good,no,no,notckd\\n',\n",
    " '55,80,1.020,0,0,normal,normal,notpresent,notpresent,104,28,0.9,142,4.8,17.3,52,8200,4.8,no,no,no,good,no,no,notckd\\n',\n",
    " '39,70,1.025,0,0,normal,normal,notpresent,notpresent,131,46,0.6,145,5.0,15.6,41,9400,4.7,no,no,no,good,no,no,notckd\\n',\n",
    " '44,70,1.025,0,0,normal,normal,notpresent,notpresent,?,?,?,?,?,13.8,48,7800,4.4,no,no,no,good,no,no,notckd\\n',\n",
    " '35,?,1.020,0,0,normal,normal,?,?,99,30,0.5,135,4.9,15.4,48,5000,5.2,no,no,no,good,no,no,notckd\\n',\n",
    " '58,70,1.020,0,0,normal,normal,notpresent,notpresent,102,48,1.2,139,4.3,15.0,40,8100,4.9,no,no,no,good,no,no,notckd\\n',\n",
    " '61,70,1.025,0,0,normal,normal,notpresent,notpresent,120,29,0.7,137,3.5,17.4,52,7000,5.3,no,no,no,good,no,no,notckd\\n',\n",
    " '30,60,1.020,0,0,normal,normal,notpresent,notpresent,138,15,1.1,135,4.4,?,?,?,?,no,no,no,good,no,no,notckd\\n',\n",
    " '57,60,1.020,0,0,normal,normal,notpresent,notpresent,105,49,1.2,150,4.7,15.7,44,10400,6.2,no,no,no,good,no,no,notckd\\n',\n",
    " '65,60,1.020,0,0,normal,normal,notpresent,notpresent,109,39,1.0,144,3.5,13.9,48,9600,4.8,no,no,no,good,no,no,notckd\\n',\n",
    " '70,60,?,?,?,?,?,notpresent,notpresent,120,40,0.5,140,4.6,16.0,43,4500,4.9,no,no,no,good,no,no,notckd\\n',\n",
    " '43,80,1.025,0,0,normal,normal,notpresent,notpresent,130,30,1.1,143,5.0,15.9,45,7800,4.5,no,no,no,good,no,no,notckd\\n',\n",
    " '40,80,1.020,0,0,normal,normal,notpresent,notpresent,119,15,0.7,150,4.9,?,?,?,?,no,no,no,good,no,no,notckd\\n',\n",
    " '58,80,1.020,0,0,normal,normal,notpresent,notpresent,100,50,1.2,140,3.5,14.0,50,6700,6.5,no,no,no,good,no,no,notckd\\n',\n",
    " '47,60,1.020,0,0,normal,normal,notpresent,notpresent,109,25,1.1,141,4.7,15.8,41,8300,5.2,no,no,no,good,no,no,notckd\\n',\n",
    " '30,60,1.025,0,0,normal,normal,notpresent,notpresent,120,31,0.8,150,4.6,13.4,44,10700,5.8,no,no,no,good,no,no,notckd\\n',\n",
    " '28,70,1.020,0,0,normal,normal,?,?,131,29,0.6,145,4.9,?,45,8600,6.5,no,no,no,good,no,no,notckd\\n',\n",
    " '33,60,1.025,0,0,normal,normal,notpresent,notpresent,80,25,0.9,146,3.5,14.1,48,7800,5.1,no,no,no,good,no,no,notckd\\n',\n",
    " '43,80,1.020,0,0,normal,normal,notpresent,notpresent,114,32,1.1,135,3.9,?,42,?,?,no,no,no,good,no,no,notckd\\n',\n",
    " '59,70,1.025,0,0,normal,normal,notpresent,notpresent,130,39,0.7,147,4.7,13.5,46,6700,4.5,no,no,no,good,no,no,notckd\\n',\n",
    " '34,70,1.025,0,0,normal,normal,notpresent,notpresent,?,33,1,150,5.0,15.3,44,10500,6.1,no,no,no,good,no,no,notckd\\n',\n",
    " '23,80,1.020,0,0,normal,normal,notpresent,notpresent,99,46,1.2,142,4.0,17.7,46,4300,5.5,no,no,no,good,no,no,notckd\\n',\n",
    " '24,80,1.025,0,0,normal,normal,notpresent,notpresent,125,?,?,136,3.5,15.4,43,5600,4.5,no,no,no,good,no,no,notckd\\n',\n",
    " '60,60,1.020,0,0,normal,normal,notpresent,notpresent,134,45,0.5,139,4.8,14.2,48,10700,5.6,no,no,no,good,no,no,notckd\\n',\n",
    " '25,60,1.020,0,0,normal,normal,notpresent,notpresent,119,27,0.5,?,?,15.2,40,9200,5.2,no,no,no,good,no,no,notckd\\n',\n",
    " '44,70,1.025,0,0,normal,normal,notpresent,notpresent,92,40,0.9,141,4.9,14.0,52,7500,6.2,no,no,no,good,no,no,notckd\\n',\n",
    " '62,80,1.020,0,0,normal,normal,notpresent,notpresent,132,34,0.8,147,3.5,17.8,44,4700,4.5,no,no,no,good,no,no,notckd\\n',\n",
    " '25,70,1.020,0,0,normal,normal,notpresent,notpresent,88,42,0.5,136,3.5,13.3,48,7000,4.9,no,no,no,good,no,no,notckd\\n',\n",
    " '32,70,1.025,0,0,normal,normal,notpresent,notpresent,100,29,1.1,142,4.5,14.3,43,6700,5.9,no,no,no,good,no,no,notckd\\n',\n",
    " '63,70,1.025,0,0,normal,normal,notpresent,notpresent,130,37,0.9,150,5.0,13.4,41,7300,4.7,no,no,no,good,no,no,notckd\\n',\n",
    " '44,60,1.020,0,0,normal,normal,notpresent,notpresent,95,46,0.5,138,4.2,15.0,50,7700,6.3,no,no,no,good,no,no,notckd\\n',\n",
    " '37,60,1.025,0,0,normal,normal,notpresent,notpresent,111,35,0.8,135,4.1,16.2,50,5500,5.7,no,no,no,good,no,no,notckd\\n',\n",
    " '64,60,1.020,0,0,normal,normal,notpresent,notpresent,106,27,0.7,150,3.3,14.4,42,8100,4.7,no,no,no,good,no,no,notckd\\n',\n",
    " '22,60,1.025,0,0,normal,normal,notpresent,notpresent,97,18,1.2,138,4.3,13.5,42,7900,6.4,no,no,no,good,no,no,notckd\\n',\n",
    " '33,60,?,?,?,normal,normal,notpresent,notpresent,130,41,0.9,141,4.4,15.5,52,4300,5.8,no,no,no,good,no,no,notckd\\n',\n",
    " '43,60,1.025,0,0,normal,normal,notpresent,notpresent,108,25,1.0,144,5.0,17.8,43,7200,5.5,no,no,no,good,no,no,notckd\\n',\n",
    " '38,80,1.020,0,0,normal,normal,notpresent,notpresent,99,19,0.5,147,3.5,13.6,44,7300,6.4,no,no,no,good,no,no,notckd\\n',\n",
    " '35,70,1.025,0,0,?,?,notpresent,notpresent,82,36,1.1,150,3.5,14.5,52,9400,6.1,no,no,no,good,no,no,notckd\\n',\n",
    " '65,70,1.025,0,0,?,?,notpresent,notpresent,85,20,1.0,142,4.8,16.1,43,9600,4.5,no,no,no,good,no,no,notckd\\n',\n",
    " '29,80,1.020,0,0,normal,normal,notpresent,notpresent,83,49,0.9,139,3.3,17.5,40,9900,4.7,no,no,no,good,no,no,notckd\\n',\n",
    " '37,60,1.020,0,0,normal,normal,notpresent,notpresent,109,47,1.1,141,4.9,15.0,48,7000,5.2,no,no,no,good,no,no,notckd\\n',\n",
    " '39,60,1.020,0,0,normal,normal,notpresent,notpresent,86,37,0.6,150,5.0,13.6,51,5800,4.5,no,no,no,good,no,no,notckd\\n',\n",
    " '32,60,1.025,0,0,normal,normal,notpresent,notpresent,102,17,0.4,147,4.7,14.6,41,6800,5.1,no,no,no,good,no,no,notckd\\n',\n",
    " '23,60,1.020,0,0,normal,normal,notpresent,notpresent,95,24,0.8,145,5.0,15,52,6300,4.6,no,no,no,good,no,no,notckd\\n',\n",
    " '34,70,1.025,0,0,normal,normal,notpresent,notpresent,87,38,0.5,144,4.8,17.1,47,7400,6.1,no,no,no,good,no,no,notckd\\n',\n",
    " '66,70,1.025,0,0,normal,normal,notpresent,notpresent,107,16,1.1,140,3.6,13.6,42,11000,4.9,no,no,no,good,no,no,notckd\\n',\n",
    " '47,60,1.020,0,0,normal,normal,notpresent,notpresent,117,22,1.2,138,3.5,13,45,5200,5.6,no,no,no,good,no,no,notckd\\n',\n",
    " '74,60,1.020,0,0,normal,normal,notpresent,notpresent,88,50,0.6,147,3.7,17.2,53,6000,4.5,no,no,no,good,no,no,notckd\\n',\n",
    " '35,60,1.025,0,0,normal,normal,notpresent,notpresent,105,39,0.5,135,3.9,14.7,43,5800,6.2,no,no,no,good,no,no,notckd\\n',\n",
    " '29,80,1.020,0,0,normal,normal,notpresent,notpresent,70,16,0.7,138,3.5,13.7,54,5400,5.8,no,no,no,good,no,no,notckd\\n',\n",
    " '33,80,1.025,0,0,normal,normal,notpresent,notpresent,89,19,1.1,144,5.0,15,40,10300,4.8,no,no,no,good,no,no,notckd\\n',\n",
    " '67,80,1.025,0,0,normal,normal,notpresent,notpresent,99,40,0.5,?,?,17.8,44,5900,5.2,no,no,no,good,no,no,notckd\\n',\n",
    " '73,80,1.025,0,0,normal,normal,notpresent,notpresent,118,44,0.7,137,3.5,14.8,45,9300,4.7,no,no,no,good,no,no,notckd\\n',\n",
    " '24,80,1.020,0,0,normal,normal,notpresent,notpresent,93,46,1.0,145,3.5,?,?,10700,6.3,no,no,no,good,no,no,notckd\\n',\n",
    " '60,80,1.025,0,0,normal,normal,notpresent,notpresent,81,15,0.5,141,3.6,15,46,10500,5.3,no,no,no,good,no,no,notckd\\n',\n",
    " '68,60,1.025,0,0,normal,normal,notpresent,notpresent,125,41,1.1,139,3.8,17.4,50,6700,6.1,no,no,no,good,no,no,notckd\\n',\n",
    " '30,80,1.025,0,0,normal,normal,notpresent,notpresent,82,42,0.7,146,5.0,14.9,45,9400,5.9,no,no,no,good,no,no,notckd\\n',\n",
    " '75,70,1.020,0,0,normal,normal,notpresent,notpresent,107,48,0.8,144,3.5,13.6,46,10300,4.8,no,,no,no,good,no,no,notckd\\n',\n",
    " '69,70,1.020,0,0,normal,normal,notpresent,notpresent,83,42,1.2,139,3.7,16.2,50,9300,5.4,no,no,no,good,no,no,notckd\\n',\n",
    " '28,60,1.025,0,0,normal,normal,notpresent,notpresent,79,50,0.5,145,5.0,17.6,51,6500,5.0,no,no,no,good,no,no,notckd\\n',\n",
    " '72,60,1.020,0,0,normal,normal,notpresent,notpresent,109,26,0.9,150,4.9,15,52,10500,5.5,no,no,no,good,no,no,notckd\\n',\n",
    " '61,70,1.025,0,0,normal,normal,notpresent,notpresent,133,38,1.0,142,3.6,13.7,47,9200,4.9,no,no,no,good,no,no,notckd\\n',\n",
    " '79,80,1.025,0,0,normal,normal,notpresent,notpresent,111,44,1.2,146,3.6,16.3,40,8000,6.4,no,no,no,good,no,no,notckd\\n',\n",
    " '70,80,1.020,0,0,normal,normal,notpresent,notpresent,74,41,0.5,143,4.5,15.1,48,9700,5.6,no,no,no,good,no,no,notckd\\n',\n",
    " '58,70,1.025,0,0,normal,normal,notpresent,notpresent,88,16,1.1,147,3.5,16.4,53,9100,5.2,no,no,no,good,no,no,notckd\\n',\n",
    " '64,70,1.020,0,0,normal,normal,notpresent,notpresent,97,27,0.7,145,4.8,13.8,49,6400,4.8,no,no,no,good,no,no,notckd\\n',\n",
    " '71,60,1.025,0,0,normal,normal,notpresent,notpresent,?,?,0.9,140,4.8,15.2,42,7700,5.5,no,no,no,good,no,no,notckd\\n',\n",
    " '62,80,1.025,0,0,normal,normal,notpresent,notpresent,78,45,0.6,138,3.5,16.1,50,5400,5.7,no,no,no,good,no,no,notckd\\n',\n",
    " '59,60,1.020,0,0,normal,normal,notpresent,notpresent,113,23,1.1,139,3.5,15.3,54,6500,4.9,no,no,no,good,no,no,notckd\\n',\n",
    " '71,70,1.025,0,0,?,?,notpresent,notpresent,79,47,0.5,142,4.8,16.6,40,5800,5.9,no,no,no,good,no,no,notckd\\n',\n",
    " '48,80,1.025,0,0,normal,normal,notpresent,notpresent,75,22,0.8,137,5.0,16.8,51,6000,6.5,no,no,no,good,no,no,notckd\\n',\n",
    " '80,80,1.025,0,0,normal,normal,notpresent,notpresent,119,46,0.7,141,4.9,13.9,49,5100,5.0,no,no,no,good,no,no,notckd\\n',\n",
    " '57,60,1.020,0,0,normal,normal,notpresent,notpresent,132,18,1.1,150,4.7,15.4,42,11000,4.5,no,no,no,good,no,no,notckd\\n',\n",
    " '63,70,1.020,0,0,normal,normal,notpresent,notpresent,113,25,0.6,146,4.9,16.5,52,8000,5.1,no,no,no,good,no,no,notckd\\n',\n",
    " '46,70,1.025,0,0,normal,normal,notpresent,notpresent,100,47,0.5,142,3.5,16.4,43,5700,6.5,no,no,no,good,no,no,notckd\\n',\n",
    " '15,80,1.025,0,0,normal,normal,notpresent,notpresent,93,17,0.9,136,3.9,16.7,50,6200,5.2,no,no,no,good,no,no,notckd\\n',\n",
    " '51,80,1.020,0,0,normal,normal,notpresent,notpresent,94,15,1.2,144,3.7,15.5,46,9500,6.4,no,no,no,good,no,no,notckd\\n',\n",
    " '41,80,1.025,0,0,normal,normal,notpresent,notpresent,112,48,0.7,140,5.0,17.0,52,7200,5.8,no,no,no,good,no,no,notckd\\n',\n",
    " '52,80,1.025,0,0,normal,normal,notpresent,notpresent,99,25,0.8,135,3.7,15.0,52,6300,5.3,no,no,no,good,no,no,notckd\\n',\n",
    " '36,80,1.025,0,0,normal,normal,notpresent,notpresent,85,16,1.1,142,4.1,15.6,44,5800,6.3,no,no,no,good,no,no,notckd\\n',\n",
    " '57,80,1.020,0,0,normal,normal,notpresent,notpresent,133,48,1.2,147,4.3,14.8,46,6600,5.5,no,no,no,good,no,no,notckd\\n',\n",
    " '43,60,1.025,0,0,normal,normal,notpresent,notpresent,117,45,0.7,141,4.4,13.0,54,7400,5.4,no,no,no,good,no,no,notckd\\n',\n",
    " '50,80,1.020,0,0,normal,normal,notpresent,notpresent,137,46,0.8,139,5.0,14.1,45,9500,4.6,no,no,no,good,no,no,notckd\\n',\n",
    " '55,80,1.020,0,0,normal,normal,notpresent,notpresent,140,49,0.5,150,4.9,15.7,47,6700,4.9,no,no,no,good,no,no,notckd\\n',\n",
    " '42,70,1.025,0,0,normal,normal,notpresent,notpresent,75,31,1.2,141,3.5,16.5,54,7800,6.2,no,no,no,good,no,no,notckd\\n',\n",
    " '12,80,1.020,0,0,normal,normal,notpresent,notpresent,100,26,0.6,137,4.4,15.8,49,6600,5.4,no,no,no,good,no,no,notckd\\n',\n",
    " '17,60,1.025,0,0,normal,normal,notpresent,notpresent,114,50,1.0,135,4.9,14.2,51,7200,5.9,no,no,no,good,no,no,notckd\\n',\n",
    " '58,80,1.025,0,0,normal,normal,notpresent,notpresent,131,18,1.1,141,3.5,15.8,53,6800,6.1,no,no,no,good,no,no,notckd\\n',\n",
    " '\\n']"
   ]
  },
  {
   "cell_type": "markdown",
   "metadata": {
    "colab_type": "text",
    "id": "FS70AEg_h1sw"
   },
   "source": [
    "## Cols from dataset"
   ]
  },
  {
   "cell_type": "code",
   "execution_count": 4,
   "metadata": {
    "colab": {},
    "colab_type": "code",
    "id": "sDaUadwaeQZO"
   },
   "outputs": [],
   "source": [
    "f_names = []"
   ]
  },
  {
   "cell_type": "code",
   "execution_count": 5,
   "metadata": {
    "colab": {
     "base_uri": "https://localhost:8080/",
     "height": 35
    },
    "colab_type": "code",
    "id": "kly9yaLHGuvO",
    "outputId": "2710621a-d6b2-4717-d3e0-04cfa7c1bb14"
   },
   "outputs": [
    {
     "data": {
      "text/plain": [
       "\"what's your name?\""
      ]
     },
     "execution_count": 5,
     "metadata": {},
     "output_type": "execute_result"
    }
   ],
   "source": [
    "farina = 'what\\'s your name?'\n",
    "farina"
   ]
  },
  {
   "cell_type": "code",
   "execution_count": 6,
   "metadata": {
    "colab": {
     "base_uri": "https://localhost:8080/",
     "height": 472
    },
    "colab_type": "code",
    "id": "4uzcb_wYcgeh",
    "outputId": "337d472b-7bc7-4c6d-907a-9f86ded924f1"
   },
   "outputs": [
    {
     "data": {
      "text/plain": [
       "['age',\n",
       " 'bp',\n",
       " 'sg',\n",
       " 'al',\n",
       " 'su',\n",
       " 'rbc',\n",
       " 'pc',\n",
       " 'pcc',\n",
       " 'ba',\n",
       " 'bgr',\n",
       " 'bu',\n",
       " 'sc',\n",
       " 'sod',\n",
       " 'pot',\n",
       " 'hemo',\n",
       " 'pcv',\n",
       " 'wbcc',\n",
       " 'rbcc',\n",
       " 'htn',\n",
       " 'dm',\n",
       " 'cad',\n",
       " 'appet',\n",
       " 'pe',\n",
       " 'ane',\n",
       " 'class']"
      ]
     },
     "execution_count": 6,
     "metadata": {},
     "output_type": "execute_result"
    }
   ],
   "source": [
    "for line in lst_f:\n",
    "    if '@attribute' in line:\n",
    "        spltd = line.split()\n",
    "        f_names.append(spltd[1].replace(\"'\",''))\n",
    "f_names"
   ]
  },
  {
   "cell_type": "markdown",
   "metadata": {
    "colab_type": "text",
    "id": "jIRAmJ_th5UF"
   },
   "source": [
    "## Numerical or String data"
   ]
  },
  {
   "cell_type": "code",
   "execution_count": 7,
   "metadata": {
    "colab": {},
    "colab_type": "code",
    "id": "PDwucbzdeiU-"
   },
   "outputs": [],
   "source": [
    "#lists of numeric and string indexes according to info\n",
    "items = list(range(25))   \n",
    "num_items = items[:5] + items[9:18]\n",
    "str_items = items[5:9] + items[18:25]\n",
    "\n",
    "#function which removes garbage from strings\n",
    "def garb_remove(string):\n",
    "    if spltd.index(string) in num_items:\n",
    "        string = ''.join(e for e in string if e.isdigit() or e == '.')\n",
    "    else:\n",
    "        string = ''.join(e for e in string if e.isalpha())\n",
    "    return string\n",
    "\n",
    "#function which converting strings of numbers to numbers\n",
    "def convert_nums(string):    \n",
    "    if spltd.index(string) in num_items:\n",
    "        string = float(string)\n",
    "    else:\n",
    "        pass\n",
    "    return string"
   ]
  },
  {
   "cell_type": "code",
   "execution_count": 8,
   "metadata": {
    "colab": {},
    "colab_type": "code",
    "id": "O-WK4wXkf5bj"
   },
   "outputs": [],
   "source": [
    "#creating matrix from text data, deleting missing values \n",
    "f_items = []\n",
    "for line in lst_f:\n",
    "    if '@' not in line and '?' not in line and line is not '\\n':\n",
    "        spltd = line.split(',')\n",
    "        spltd = [garb_remove(string) for string in spltd]\n",
    "        spltd = [convert_nums(string) for string in spltd]\n",
    "        f_items.append(spltd)"
   ]
  },
  {
   "cell_type": "markdown",
   "metadata": {
    "colab_type": "text",
    "id": "zwQqwhFAh9Cc"
   },
   "source": [
    "## Create pandas dataset"
   ]
  },
  {
   "cell_type": "code",
   "execution_count": 9,
   "metadata": {
    "colab": {},
    "colab_type": "code",
    "id": "x-6svZqFf8uX"
   },
   "outputs": [],
   "source": [
    "#creating dataframe from matrix\n",
    "df = pd.DataFrame(f_items)\n",
    "df = df.drop(columns = [25])\n",
    "df.columns = f_names\n",
    "#df.to_csv('ckd.csv')"
   ]
  },
  {
   "cell_type": "code",
   "execution_count": 10,
   "metadata": {
    "colab": {
     "base_uri": "https://localhost:8080/",
     "height": 207
    },
    "colab_type": "code",
    "id": "PcBF2sM2gC73",
    "outputId": "fec96257-56f9-4c98-a4ea-17f0fcde95bf"
   },
   "outputs": [
    {
     "ename": "NameError",
     "evalue": "name 'np' is not defined",
     "output_type": "error",
     "traceback": [
      "\u001b[1;31m---------------------------------------------------------------------------\u001b[0m",
      "\u001b[1;31mNameError\u001b[0m                                 Traceback (most recent call last)",
      "\u001b[1;32m<ipython-input-10-d4ad29544732>\u001b[0m in \u001b[0;36m<module>\u001b[1;34m\u001b[0m\n\u001b[0;32m      1\u001b[0m \u001b[1;31m#replacing empty strings with NaN and dropping rows with NaN values\u001b[0m\u001b[1;33m\u001b[0m\u001b[1;33m\u001b[0m\u001b[1;33m\u001b[0m\u001b[0m\n\u001b[1;32m----> 2\u001b[1;33m \u001b[0mdf\u001b[0m \u001b[1;33m=\u001b[0m \u001b[0mdf\u001b[0m\u001b[1;33m.\u001b[0m\u001b[0mreplace\u001b[0m\u001b[1;33m(\u001b[0m\u001b[1;34m''\u001b[0m\u001b[1;33m,\u001b[0m\u001b[0mnp\u001b[0m\u001b[1;33m.\u001b[0m\u001b[0mnan\u001b[0m\u001b[1;33m)\u001b[0m\u001b[1;33m\u001b[0m\u001b[1;33m\u001b[0m\u001b[0m\n\u001b[0m\u001b[0;32m      3\u001b[0m \u001b[0mdf\u001b[0m \u001b[1;33m=\u001b[0m \u001b[0mdf\u001b[0m\u001b[1;33m.\u001b[0m\u001b[0mdropna\u001b[0m\u001b[1;33m(\u001b[0m\u001b[1;33m)\u001b[0m\u001b[1;33m.\u001b[0m\u001b[0mreset_index\u001b[0m\u001b[1;33m(\u001b[0m\u001b[0mdrop\u001b[0m\u001b[1;33m=\u001b[0m\u001b[1;32mTrue\u001b[0m\u001b[1;33m)\u001b[0m\u001b[1;33m\u001b[0m\u001b[1;33m\u001b[0m\u001b[0m\n\u001b[0;32m      4\u001b[0m \u001b[0mdf\u001b[0m\u001b[1;33m.\u001b[0m\u001b[0mto_csv\u001b[0m\u001b[1;33m(\u001b[0m\u001b[1;34m'ckd.csv'\u001b[0m\u001b[1;33m)\u001b[0m\u001b[1;33m\u001b[0m\u001b[1;33m\u001b[0m\u001b[0m\n",
      "\u001b[1;31mNameError\u001b[0m: name 'np' is not defined"
     ]
    }
   ],
   "source": [
    "#replacing empty strings with NaN and dropping rows with NaN values\n",
    "df = df.replace('',np.nan)\n",
    "df = df.dropna().reset_index(drop=True)\n",
    "df.to_csv('ckd.csv')"
   ]
  },
  {
   "cell_type": "code",
   "execution_count": 11,
   "metadata": {
    "colab": {
     "base_uri": "https://localhost:8080/",
     "height": 35
    },
    "colab_type": "code",
    "id": "UZqx_PiIgRcw",
    "outputId": "990e9774-c874-4721-a1ba-5edcbf2819ba"
   },
   "outputs": [
    {
     "data": {
      "text/plain": [
       "False"
      ]
     },
     "execution_count": 11,
     "metadata": {},
     "output_type": "execute_result"
    }
   ],
   "source": [
    "#check for NA values\n",
    "df.isna().values.any()"
   ]
  },
  {
   "cell_type": "code",
   "execution_count": 12,
   "metadata": {
    "colab": {
     "base_uri": "https://localhost:8080/",
     "height": 35
    },
    "colab_type": "code",
    "id": "hPA59hqCgWXv",
    "outputId": "37f76a10-3062-4616-f8ae-0360bfe614fa"
   },
   "outputs": [
    {
     "data": {
      "text/plain": [
       "(158, 25)"
      ]
     },
     "execution_count": 12,
     "metadata": {},
     "output_type": "execute_result"
    }
   ],
   "source": [
    "#shape of dataframe\n",
    "df.shape"
   ]
  },
  {
   "cell_type": "code",
   "execution_count": 13,
   "metadata": {
    "colab": {
     "base_uri": "https://localhost:8080/",
     "height": 198
    },
    "colab_type": "code",
    "id": "RUIGH4ZOggV_",
    "outputId": "b98822b0-9ae6-471f-963d-0cad691f0a27"
   },
   "outputs": [
    {
     "data": {
      "text/html": [
       "<div>\n",
       "<style scoped>\n",
       "    .dataframe tbody tr th:only-of-type {\n",
       "        vertical-align: middle;\n",
       "    }\n",
       "\n",
       "    .dataframe tbody tr th {\n",
       "        vertical-align: top;\n",
       "    }\n",
       "\n",
       "    .dataframe thead th {\n",
       "        text-align: right;\n",
       "    }\n",
       "</style>\n",
       "<table border=\"1\" class=\"dataframe\">\n",
       "  <thead>\n",
       "    <tr style=\"text-align: right;\">\n",
       "      <th></th>\n",
       "      <th>age</th>\n",
       "      <th>bp</th>\n",
       "      <th>sg</th>\n",
       "      <th>al</th>\n",
       "      <th>su</th>\n",
       "      <th>rbc</th>\n",
       "      <th>pc</th>\n",
       "      <th>pcc</th>\n",
       "      <th>ba</th>\n",
       "      <th>bgr</th>\n",
       "      <th>...</th>\n",
       "      <th>pcv</th>\n",
       "      <th>wbcc</th>\n",
       "      <th>rbcc</th>\n",
       "      <th>htn</th>\n",
       "      <th>dm</th>\n",
       "      <th>cad</th>\n",
       "      <th>appet</th>\n",
       "      <th>pe</th>\n",
       "      <th>ane</th>\n",
       "      <th>class</th>\n",
       "    </tr>\n",
       "  </thead>\n",
       "  <tbody>\n",
       "    <tr>\n",
       "      <th>0</th>\n",
       "      <td>48.0</td>\n",
       "      <td>70.0</td>\n",
       "      <td>1.005</td>\n",
       "      <td>4.0</td>\n",
       "      <td>0.0</td>\n",
       "      <td>normal</td>\n",
       "      <td>abnormal</td>\n",
       "      <td>present</td>\n",
       "      <td>notpresent</td>\n",
       "      <td>117.0</td>\n",
       "      <td>...</td>\n",
       "      <td>32.0</td>\n",
       "      <td>6700.0</td>\n",
       "      <td>3.9</td>\n",
       "      <td>yes</td>\n",
       "      <td>no</td>\n",
       "      <td>no</td>\n",
       "      <td>poor</td>\n",
       "      <td>yes</td>\n",
       "      <td>yes</td>\n",
       "      <td>ckd</td>\n",
       "    </tr>\n",
       "    <tr>\n",
       "      <th>1</th>\n",
       "      <td>53.0</td>\n",
       "      <td>90.0</td>\n",
       "      <td>1.020</td>\n",
       "      <td>2.0</td>\n",
       "      <td>0.0</td>\n",
       "      <td>abnormal</td>\n",
       "      <td>abnormal</td>\n",
       "      <td>present</td>\n",
       "      <td>notpresent</td>\n",
       "      <td>70.0</td>\n",
       "      <td>...</td>\n",
       "      <td>29.0</td>\n",
       "      <td>12100.0</td>\n",
       "      <td>3.7</td>\n",
       "      <td>yes</td>\n",
       "      <td>yes</td>\n",
       "      <td>no</td>\n",
       "      <td>poor</td>\n",
       "      <td>no</td>\n",
       "      <td>yes</td>\n",
       "      <td>ckd</td>\n",
       "    </tr>\n",
       "    <tr>\n",
       "      <th>2</th>\n",
       "      <td>63.0</td>\n",
       "      <td>70.0</td>\n",
       "      <td>1.010</td>\n",
       "      <td>3.0</td>\n",
       "      <td>0.0</td>\n",
       "      <td>abnormal</td>\n",
       "      <td>abnormal</td>\n",
       "      <td>present</td>\n",
       "      <td>notpresent</td>\n",
       "      <td>380.0</td>\n",
       "      <td>...</td>\n",
       "      <td>32.0</td>\n",
       "      <td>4500.0</td>\n",
       "      <td>3.8</td>\n",
       "      <td>yes</td>\n",
       "      <td>yes</td>\n",
       "      <td>no</td>\n",
       "      <td>poor</td>\n",
       "      <td>yes</td>\n",
       "      <td>no</td>\n",
       "      <td>ckd</td>\n",
       "    </tr>\n",
       "    <tr>\n",
       "      <th>3</th>\n",
       "      <td>68.0</td>\n",
       "      <td>80.0</td>\n",
       "      <td>1.010</td>\n",
       "      <td>3.0</td>\n",
       "      <td>2.0</td>\n",
       "      <td>normal</td>\n",
       "      <td>abnormal</td>\n",
       "      <td>present</td>\n",
       "      <td>present</td>\n",
       "      <td>157.0</td>\n",
       "      <td>...</td>\n",
       "      <td>16.0</td>\n",
       "      <td>11000.0</td>\n",
       "      <td>2.6</td>\n",
       "      <td>yes</td>\n",
       "      <td>yes</td>\n",
       "      <td>yes</td>\n",
       "      <td>poor</td>\n",
       "      <td>yes</td>\n",
       "      <td>no</td>\n",
       "      <td>ckd</td>\n",
       "    </tr>\n",
       "    <tr>\n",
       "      <th>4</th>\n",
       "      <td>61.0</td>\n",
       "      <td>80.0</td>\n",
       "      <td>1.015</td>\n",
       "      <td>2.0</td>\n",
       "      <td>0.0</td>\n",
       "      <td>abnormal</td>\n",
       "      <td>abnormal</td>\n",
       "      <td>notpresent</td>\n",
       "      <td>notpresent</td>\n",
       "      <td>173.0</td>\n",
       "      <td>...</td>\n",
       "      <td>24.0</td>\n",
       "      <td>9200.0</td>\n",
       "      <td>3.2</td>\n",
       "      <td>yes</td>\n",
       "      <td>yes</td>\n",
       "      <td>yes</td>\n",
       "      <td>poor</td>\n",
       "      <td>yes</td>\n",
       "      <td>yes</td>\n",
       "      <td>ckd</td>\n",
       "    </tr>\n",
       "  </tbody>\n",
       "</table>\n",
       "<p>5 rows × 25 columns</p>\n",
       "</div>"
      ],
      "text/plain": [
       "    age    bp     sg   al   su       rbc        pc         pcc          ba  \\\n",
       "0  48.0  70.0  1.005  4.0  0.0    normal  abnormal     present  notpresent   \n",
       "1  53.0  90.0  1.020  2.0  0.0  abnormal  abnormal     present  notpresent   \n",
       "2  63.0  70.0  1.010  3.0  0.0  abnormal  abnormal     present  notpresent   \n",
       "3  68.0  80.0  1.010  3.0  2.0    normal  abnormal     present     present   \n",
       "4  61.0  80.0  1.015  2.0  0.0  abnormal  abnormal  notpresent  notpresent   \n",
       "\n",
       "     bgr  ...   pcv     wbcc  rbcc  htn   dm  cad  appet   pe  ane class  \n",
       "0  117.0  ...  32.0   6700.0   3.9  yes   no   no   poor  yes  yes   ckd  \n",
       "1   70.0  ...  29.0  12100.0   3.7  yes  yes   no   poor   no  yes   ckd  \n",
       "2  380.0  ...  32.0   4500.0   3.8  yes  yes   no   poor  yes   no   ckd  \n",
       "3  157.0  ...  16.0  11000.0   2.6  yes  yes  yes   poor  yes   no   ckd  \n",
       "4  173.0  ...  24.0   9200.0   3.2  yes  yes  yes   poor  yes  yes   ckd  \n",
       "\n",
       "[5 rows x 25 columns]"
      ]
     },
     "execution_count": 13,
     "metadata": {},
     "output_type": "execute_result"
    }
   ],
   "source": [
    "df.head()"
   ]
  },
  {
   "cell_type": "markdown",
   "metadata": {
    "colab_type": "text",
    "id": "S6QDndRFg9t1"
   },
   "source": [
    "## Plot"
   ]
  },
  {
   "cell_type": "code",
   "execution_count": 14,
   "metadata": {
    "colab": {},
    "colab_type": "code",
    "id": "OU7odOqchOMQ"
   },
   "outputs": [],
   "source": [
    "#preparing variables for plotting\n",
    "y_cols = [df[col] for col in df.columns[:-1]]\n",
    "x = list(range(157))"
   ]
  },
  {
   "cell_type": "code",
   "execution_count": 15,
   "metadata": {
    "colab": {},
    "colab_type": "code",
    "id": "lvKsomzThOt5"
   },
   "outputs": [],
   "source": [
    "#dividing dataframe by numerical and categorical values\n",
    "y_cols_num = [y_cols[i] for i in num_items]\n",
    "y_cols_cat = [y_cols[i] for i in str_items[:-1]]"
   ]
  },
  {
   "cell_type": "markdown",
   "metadata": {
    "colab_type": "text",
    "id": "EuL-XLw1g_4C"
   },
   "source": [
    "### Categorical"
   ]
  },
  {
   "cell_type": "code",
   "execution_count": 16,
   "metadata": {
    "colab": {
     "base_uri": "https://localhost:8080/",
     "height": 1000
    },
    "colab_type": "code",
    "id": "rHVkd6tmg-v3",
    "outputId": "ad93e610-a2d0-496c-ab9b-6873fe76b755"
   },
   "outputs": [
    {
     "data": {
      "image/png": "[encoded data removed]",
      "text/plain": [
       "<Figure size 432x288 with 1 Axes>"
      ]
     },
     "metadata": {
      "needs_background": "light"
     },
     "output_type": "display_data"
    },
    {
     "data": {
      "image/png": "[encoded data removed]",
      "text/plain": [
       "<Figure size 432x288 with 1 Axes>"
      ]
     },
     "metadata": {
      "needs_background": "light"
     },
     "output_type": "display_data"
    },
    {
     "data": {
      "image/png": "[encoded data removed]",
      "text/plain": [
       "<Figure size 432x288 with 1 Axes>"
      ]
     },
     "metadata": {
      "needs_background": "light"
     },
     "output_type": "display_data"
    },
    {
     "data": {
      "image/png": "[encoded data removed]",
      "text/plain": [
       "<Figure size 432x288 with 1 Axes>"
      ]
     },
     "metadata": {
      "needs_background": "light"
     },
     "output_type": "display_data"
    },
    {
     "data": {
      "image/png": "[encoded data removed]",
      "text/plain": [
       "<Figure size 432x288 with 1 Axes>"
      ]
     },
     "metadata": {
      "needs_background": "light"
     },
     "output_type": "display_data"
    },
    {
     "ename": "ValueError",
     "evalue": "shape mismatch: objects cannot be broadcast to a single shape",
     "output_type": "error",
     "traceback": [
      "\u001b[1;31m---------------------------------------------------------------------------\u001b[0m",
      "\u001b[1;31mValueError\u001b[0m                                Traceback (most recent call last)",
      "\u001b[1;32m<ipython-input-16-83b793eccfa2>\u001b[0m in \u001b[0;36m<module>\u001b[1;34m\u001b[0m\n\u001b[0;32m      9\u001b[0m     \u001b[0mnc1\u001b[0m \u001b[1;33m=\u001b[0m \u001b[0mbar_values\u001b[0m\u001b[1;33m[\u001b[0m\u001b[1;36m1\u001b[0m\u001b[1;33m]\u001b[0m \u001b[1;33m-\u001b[0m \u001b[0mc1\u001b[0m\u001b[1;33m[\u001b[0m\u001b[1;36m0\u001b[0m\u001b[1;33m]\u001b[0m\u001b[1;33m\u001b[0m\u001b[1;33m\u001b[0m\u001b[0m\n\u001b[0;32m     10\u001b[0m \u001b[1;33m\u001b[0m\u001b[0m\n\u001b[1;32m---> 11\u001b[1;33m     \u001b[0mp1\u001b[0m \u001b[1;33m=\u001b[0m \u001b[0mplt\u001b[0m\u001b[1;33m.\u001b[0m\u001b[0mbar\u001b[0m\u001b[1;33m(\u001b[0m\u001b[0mbar_names\u001b[0m\u001b[1;33m,\u001b[0m \u001b[1;33m(\u001b[0m\u001b[0mnc0\u001b[0m\u001b[1;33m,\u001b[0m\u001b[0mnc1\u001b[0m\u001b[1;33m)\u001b[0m\u001b[1;33m,\u001b[0m\u001b[0mcolor\u001b[0m \u001b[1;33m=\u001b[0m \u001b[1;34m'red'\u001b[0m\u001b[1;33m)\u001b[0m\u001b[1;33m\u001b[0m\u001b[1;33m\u001b[0m\u001b[0m\n\u001b[0m\u001b[0;32m     12\u001b[0m     \u001b[0mp2\u001b[0m \u001b[1;33m=\u001b[0m \u001b[0mplt\u001b[0m\u001b[1;33m.\u001b[0m\u001b[0mbar\u001b[0m\u001b[1;33m(\u001b[0m\u001b[0mbar_names\u001b[0m\u001b[1;33m,\u001b[0m \u001b[1;33m(\u001b[0m\u001b[0mc0\u001b[0m\u001b[1;33m[\u001b[0m\u001b[1;36m0\u001b[0m\u001b[1;33m]\u001b[0m\u001b[1;33m,\u001b[0m\u001b[0mc1\u001b[0m\u001b[1;33m[\u001b[0m\u001b[1;36m0\u001b[0m\u001b[1;33m]\u001b[0m\u001b[1;33m)\u001b[0m\u001b[1;33m,\u001b[0m \u001b[0mbottom\u001b[0m \u001b[1;33m=\u001b[0m \u001b[1;33m(\u001b[0m\u001b[0mnc0\u001b[0m\u001b[1;33m,\u001b[0m\u001b[0mnc1\u001b[0m\u001b[1;33m)\u001b[0m\u001b[1;33m,\u001b[0m \u001b[0mcolor\u001b[0m \u001b[1;33m=\u001b[0m \u001b[1;34m'green'\u001b[0m\u001b[1;33m)\u001b[0m\u001b[1;33m\u001b[0m\u001b[1;33m\u001b[0m\u001b[0m\n\u001b[0;32m     13\u001b[0m     \u001b[0mplt\u001b[0m\u001b[1;33m.\u001b[0m\u001b[0mlegend\u001b[0m\u001b[1;33m(\u001b[0m\u001b[1;33m(\u001b[0m\u001b[0mp1\u001b[0m\u001b[1;33m[\u001b[0m\u001b[1;36m0\u001b[0m\u001b[1;33m]\u001b[0m\u001b[1;33m,\u001b[0m\u001b[0mp2\u001b[0m\u001b[1;33m[\u001b[0m\u001b[1;36m0\u001b[0m\u001b[1;33m]\u001b[0m\u001b[1;33m)\u001b[0m\u001b[1;33m,\u001b[0m\u001b[1;33m(\u001b[0m\u001b[1;34m'CKD'\u001b[0m\u001b[1;33m,\u001b[0m\u001b[1;34m'not CKD'\u001b[0m\u001b[1;33m)\u001b[0m\u001b[1;33m)\u001b[0m\u001b[1;33m\u001b[0m\u001b[1;33m\u001b[0m\u001b[0m\n",
      "\u001b[1;32m~\\Miniconda3\\envs\\ds\\lib\\site-packages\\matplotlib\\pyplot.py\u001b[0m in \u001b[0;36mbar\u001b[1;34m(x, height, width, bottom, align, data, **kwargs)\u001b[0m\n\u001b[0;32m   2438\u001b[0m     return gca().bar(\n\u001b[0;32m   2439\u001b[0m         \u001b[0mx\u001b[0m\u001b[1;33m,\u001b[0m \u001b[0mheight\u001b[0m\u001b[1;33m,\u001b[0m \u001b[0mwidth\u001b[0m\u001b[1;33m=\u001b[0m\u001b[0mwidth\u001b[0m\u001b[1;33m,\u001b[0m \u001b[0mbottom\u001b[0m\u001b[1;33m=\u001b[0m\u001b[0mbottom\u001b[0m\u001b[1;33m,\u001b[0m \u001b[0malign\u001b[0m\u001b[1;33m=\u001b[0m\u001b[0malign\u001b[0m\u001b[1;33m,\u001b[0m\u001b[1;33m\u001b[0m\u001b[1;33m\u001b[0m\u001b[0m\n\u001b[1;32m-> 2440\u001b[1;33m         **({\"data\": data} if data is not None else {}), **kwargs)\n\u001b[0m\u001b[0;32m   2441\u001b[0m \u001b[1;33m\u001b[0m\u001b[0m\n\u001b[0;32m   2442\u001b[0m \u001b[1;33m\u001b[0m\u001b[0m\n",
      "\u001b[1;32m~\\Miniconda3\\envs\\ds\\lib\\site-packages\\matplotlib\\__init__.py\u001b[0m in \u001b[0;36minner\u001b[1;34m(ax, data, *args, **kwargs)\u001b[0m\n\u001b[0;32m   1599\u001b[0m     \u001b[1;32mdef\u001b[0m \u001b[0minner\u001b[0m\u001b[1;33m(\u001b[0m\u001b[0max\u001b[0m\u001b[1;33m,\u001b[0m \u001b[1;33m*\u001b[0m\u001b[0margs\u001b[0m\u001b[1;33m,\u001b[0m \u001b[0mdata\u001b[0m\u001b[1;33m=\u001b[0m\u001b[1;32mNone\u001b[0m\u001b[1;33m,\u001b[0m \u001b[1;33m**\u001b[0m\u001b[0mkwargs\u001b[0m\u001b[1;33m)\u001b[0m\u001b[1;33m:\u001b[0m\u001b[1;33m\u001b[0m\u001b[1;33m\u001b[0m\u001b[0m\n\u001b[0;32m   1600\u001b[0m         \u001b[1;32mif\u001b[0m \u001b[0mdata\u001b[0m \u001b[1;32mis\u001b[0m \u001b[1;32mNone\u001b[0m\u001b[1;33m:\u001b[0m\u001b[1;33m\u001b[0m\u001b[1;33m\u001b[0m\u001b[0m\n\u001b[1;32m-> 1601\u001b[1;33m             \u001b[1;32mreturn\u001b[0m \u001b[0mfunc\u001b[0m\u001b[1;33m(\u001b[0m\u001b[0max\u001b[0m\u001b[1;33m,\u001b[0m \u001b[1;33m*\u001b[0m\u001b[0mmap\u001b[0m\u001b[1;33m(\u001b[0m\u001b[0msanitize_sequence\u001b[0m\u001b[1;33m,\u001b[0m \u001b[0margs\u001b[0m\u001b[1;33m)\u001b[0m\u001b[1;33m,\u001b[0m \u001b[1;33m**\u001b[0m\u001b[0mkwargs\u001b[0m\u001b[1;33m)\u001b[0m\u001b[1;33m\u001b[0m\u001b[1;33m\u001b[0m\u001b[0m\n\u001b[0m\u001b[0;32m   1602\u001b[0m \u001b[1;33m\u001b[0m\u001b[0m\n\u001b[0;32m   1603\u001b[0m         \u001b[0mbound\u001b[0m \u001b[1;33m=\u001b[0m \u001b[0mnew_sig\u001b[0m\u001b[1;33m.\u001b[0m\u001b[0mbind\u001b[0m\u001b[1;33m(\u001b[0m\u001b[0max\u001b[0m\u001b[1;33m,\u001b[0m \u001b[1;33m*\u001b[0m\u001b[0margs\u001b[0m\u001b[1;33m,\u001b[0m \u001b[1;33m**\u001b[0m\u001b[0mkwargs\u001b[0m\u001b[1;33m)\u001b[0m\u001b[1;33m\u001b[0m\u001b[1;33m\u001b[0m\u001b[0m\n",
      "\u001b[1;32m~\\Miniconda3\\envs\\ds\\lib\\site-packages\\matplotlib\\axes\\_axes.py\u001b[0m in \u001b[0;36mbar\u001b[1;34m(self, x, height, width, bottom, align, **kwargs)\u001b[0m\n\u001b[0;32m   2373\u001b[0m         x, height, width, y, linewidth = np.broadcast_arrays(\n\u001b[0;32m   2374\u001b[0m             \u001b[1;31m# Make args iterable too.\u001b[0m\u001b[1;33m\u001b[0m\u001b[1;33m\u001b[0m\u001b[1;33m\u001b[0m\u001b[0m\n\u001b[1;32m-> 2375\u001b[1;33m             np.atleast_1d(x), height, width, y, linewidth)\n\u001b[0m\u001b[0;32m   2376\u001b[0m \u001b[1;33m\u001b[0m\u001b[0m\n\u001b[0;32m   2377\u001b[0m         \u001b[1;31m# Now that units have been converted, set the tick locations.\u001b[0m\u001b[1;33m\u001b[0m\u001b[1;33m\u001b[0m\u001b[1;33m\u001b[0m\u001b[0m\n",
      "\u001b[1;32m~\\Miniconda3\\envs\\ds\\lib\\site-packages\\numpy\\lib\\stride_tricks.py\u001b[0m in \u001b[0;36mbroadcast_arrays\u001b[1;34m(*args, **kwargs)\u001b[0m\n\u001b[0;32m    257\u001b[0m     \u001b[0margs\u001b[0m \u001b[1;33m=\u001b[0m \u001b[1;33m[\u001b[0m\u001b[0mnp\u001b[0m\u001b[1;33m.\u001b[0m\u001b[0marray\u001b[0m\u001b[1;33m(\u001b[0m\u001b[0m_m\u001b[0m\u001b[1;33m,\u001b[0m \u001b[0mcopy\u001b[0m\u001b[1;33m=\u001b[0m\u001b[1;32mFalse\u001b[0m\u001b[1;33m,\u001b[0m \u001b[0msubok\u001b[0m\u001b[1;33m=\u001b[0m\u001b[0msubok\u001b[0m\u001b[1;33m)\u001b[0m \u001b[1;32mfor\u001b[0m \u001b[0m_m\u001b[0m \u001b[1;32min\u001b[0m \u001b[0margs\u001b[0m\u001b[1;33m]\u001b[0m\u001b[1;33m\u001b[0m\u001b[1;33m\u001b[0m\u001b[0m\n\u001b[0;32m    258\u001b[0m \u001b[1;33m\u001b[0m\u001b[0m\n\u001b[1;32m--> 259\u001b[1;33m     \u001b[0mshape\u001b[0m \u001b[1;33m=\u001b[0m \u001b[0m_broadcast_shape\u001b[0m\u001b[1;33m(\u001b[0m\u001b[1;33m*\u001b[0m\u001b[0margs\u001b[0m\u001b[1;33m)\u001b[0m\u001b[1;33m\u001b[0m\u001b[1;33m\u001b[0m\u001b[0m\n\u001b[0m\u001b[0;32m    260\u001b[0m \u001b[1;33m\u001b[0m\u001b[0m\n\u001b[0;32m    261\u001b[0m     \u001b[1;32mif\u001b[0m \u001b[0mall\u001b[0m\u001b[1;33m(\u001b[0m\u001b[0marray\u001b[0m\u001b[1;33m.\u001b[0m\u001b[0mshape\u001b[0m \u001b[1;33m==\u001b[0m \u001b[0mshape\u001b[0m \u001b[1;32mfor\u001b[0m \u001b[0marray\u001b[0m \u001b[1;32min\u001b[0m \u001b[0margs\u001b[0m\u001b[1;33m)\u001b[0m\u001b[1;33m:\u001b[0m\u001b[1;33m\u001b[0m\u001b[1;33m\u001b[0m\u001b[0m\n",
      "\u001b[1;32m~\\Miniconda3\\envs\\ds\\lib\\site-packages\\numpy\\lib\\stride_tricks.py\u001b[0m in \u001b[0;36m_broadcast_shape\u001b[1;34m(*args)\u001b[0m\n\u001b[0;32m    191\u001b[0m     \u001b[1;31m# use the old-iterator because np.nditer does not handle size 0 arrays\u001b[0m\u001b[1;33m\u001b[0m\u001b[1;33m\u001b[0m\u001b[1;33m\u001b[0m\u001b[0m\n\u001b[0;32m    192\u001b[0m     \u001b[1;31m# consistently\u001b[0m\u001b[1;33m\u001b[0m\u001b[1;33m\u001b[0m\u001b[1;33m\u001b[0m\u001b[0m\n\u001b[1;32m--> 193\u001b[1;33m     \u001b[0mb\u001b[0m \u001b[1;33m=\u001b[0m \u001b[0mnp\u001b[0m\u001b[1;33m.\u001b[0m\u001b[0mbroadcast\u001b[0m\u001b[1;33m(\u001b[0m\u001b[1;33m*\u001b[0m\u001b[0margs\u001b[0m\u001b[1;33m[\u001b[0m\u001b[1;33m:\u001b[0m\u001b[1;36m32\u001b[0m\u001b[1;33m]\u001b[0m\u001b[1;33m)\u001b[0m\u001b[1;33m\u001b[0m\u001b[1;33m\u001b[0m\u001b[0m\n\u001b[0m\u001b[0;32m    194\u001b[0m     \u001b[1;31m# unfortunately, it cannot handle 32 or more arguments directly\u001b[0m\u001b[1;33m\u001b[0m\u001b[1;33m\u001b[0m\u001b[1;33m\u001b[0m\u001b[0m\n\u001b[0;32m    195\u001b[0m     \u001b[1;32mfor\u001b[0m \u001b[0mpos\u001b[0m \u001b[1;32min\u001b[0m \u001b[0mrange\u001b[0m\u001b[1;33m(\u001b[0m\u001b[1;36m32\u001b[0m\u001b[1;33m,\u001b[0m \u001b[0mlen\u001b[0m\u001b[1;33m(\u001b[0m\u001b[0margs\u001b[0m\u001b[1;33m)\u001b[0m\u001b[1;33m,\u001b[0m \u001b[1;36m31\u001b[0m\u001b[1;33m)\u001b[0m\u001b[1;33m:\u001b[0m\u001b[1;33m\u001b[0m\u001b[1;33m\u001b[0m\u001b[0m\n",
      "\u001b[1;31mValueError\u001b[0m: shape mismatch: objects cannot be broadcast to a single shape"
     ]
    },
    {
     "data": {
      "image/png": "[encoded data removed]",
      "text/plain": [
       "<Figure size 432x288 with 1 Axes>"
      ]
     },
     "metadata": {
      "needs_background": "light"
     },
     "output_type": "display_data"
    }
   ],
   "source": [
    "#plotting bars of categorical values\n",
    "for i in range(len(str_items) - 1):\n",
    "    bar_values = y_cols_cat[i].value_counts()\n",
    "    bar_names = bar_values.index\n",
    "\n",
    "    c0 = df[(df['class'] == 'ckd') & (df[df.columns[str_items[i]]] == bar_names[0])].count()\n",
    "    c1 = df[(df['class'] == 'ckd') & (df[df.columns[str_items[i]]] == bar_names[1])].count()\n",
    "    nc0 = bar_values[0] - c0[0]\n",
    "    nc1 = bar_values[1] - c1[0]\n",
    "    \n",
    "    p1 = plt.bar(bar_names, (nc0,nc1),color = 'red')\n",
    "    p2 = plt.bar(bar_names, (c0[0],c1[0]), bottom = (nc0,nc1), color = 'green')\n",
    "    plt.legend((p1[0],p2[0]),('CKD','not CKD'))\n",
    "    plt.ylabel('Instances')\n",
    "    plt.title(df.columns[str_items[i]],fontweight='bold')\n",
    "    \n",
    "    plt.show()"
   ]
  },
  {
   "cell_type": "markdown",
   "metadata": {
    "colab_type": "text",
    "id": "zVzi_V-ahBGh"
   },
   "source": [
    "### Numerical\n"
   ]
  },
  {
   "cell_type": "code",
   "execution_count": 17,
   "metadata": {
    "colab": {
     "base_uri": "https://localhost:8080/",
     "height": 1000
    },
    "colab_type": "code",
    "id": "ANZSYx7-hEIH",
    "outputId": "fd401e79-3a08-4b30-fe2d-d5d695c8fd2b"
   },
   "outputs": [
    {
     "data": {
      "image/png": "[encoded data removed]",
      "text/plain": [
       "<Figure size 432x288 with 1 Axes>"
      ]
     },
     "metadata": {
      "needs_background": "light"
     },
     "output_type": "display_data"
    },
    {
     "data": {
      "image/png": "[encoded data removed]",
      "text/plain": [
       "<Figure size 432x288 with 1 Axes>"
      ]
     },
     "metadata": {
      "needs_background": "light"
     },
     "output_type": "display_data"
    },
    {
     "data": {
      "image/png": "[encoded data removed]",
      "text/plain": [
       "<Figure size 432x288 with 1 Axes>"
      ]
     },
     "metadata": {
      "needs_background": "light"
     },
     "output_type": "display_data"
    },
    {
     "data": {
      "image/png": "[encoded data removed]",
      "text/plain": [
       "<Figure size 432x288 with 1 Axes>"
      ]
     },
     "metadata": {
      "needs_background": "light"
     },
     "output_type": "display_data"
    },
    {
     "data": {
      "image/png": "[encoded data removed]",
      "text/plain": [
       "<Figure size 432x288 with 1 Axes>"
      ]
     },
     "metadata": {
      "needs_background": "light"
     },
     "output_type": "display_data"
    },
    {
     "data": {
      "image/png": "[encoded data removed]",
      "text/plain": [
       "<Figure size 432x288 with 1 Axes>"
      ]
     },
     "metadata": {
      "needs_background": "light"
     },
     "output_type": "display_data"
    },
    {
     "data": {
      "image/png": "[encoded data removed]",
      "text/plain": [
       "<Figure size 432x288 with 1 Axes>"
      ]
     },
     "metadata": {
      "needs_background": "light"
     },
     "output_type": "display_data"
    },
    {
     "data": {
      "image/png": "[encoded data removed]",
      "text/plain": [
       "<Figure size 432x288 with 1 Axes>"
      ]
     },
     "metadata": {
      "needs_background": "light"
     },
     "output_type": "display_data"
    },
    {
     "data": {
      "image/png": "[encoded data removed]",
      "text/plain": [
       "<Figure size 432x288 with 1 Axes>"
      ]
     },
     "metadata": {
      "needs_background": "light"
     },
     "output_type": "display_data"
    },
    {
     "data": {
      "image/png": "[encoded data removed]",
      "text/plain": [
       "<Figure size 432x288 with 1 Axes>"
      ]
     },
     "metadata": {
      "needs_background": "light"
     },
     "output_type": "display_data"
    },
    {
     "data": {
      "image/png": "[encoded data removed]",
      "text/plain": [
       "<Figure size 432x288 with 1 Axes>"
      ]
     },
     "metadata": {
      "needs_background": "light"
     },
     "output_type": "display_data"
    },
    {
     "data": {
      "image/png": "[encoded data removed]",
      "text/plain": [
       "<Figure size 432x288 with 1 Axes>"
      ]
     },
     "metadata": {
      "needs_background": "light"
     },
     "output_type": "display_data"
    },
    {
     "data": {
      "image/png": "[encoded data removed]",
      "text/plain": [
       "<Figure size 432x288 with 1 Axes>"
      ]
     },
     "metadata": {
      "needs_background": "light"
     },
     "output_type": "display_data"
    },
    {
     "data": {
      "image/png": "[encoded data removed]",
      "text/plain": [
       "<Figure size 432x288 with 1 Axes>"
      ]
     },
     "metadata": {
      "needs_background": "light"
     },
     "output_type": "display_data"
    }
   ],
   "source": [
    "#scatter plots of numerical values\n",
    "for y in enumerate(y_cols_num):\n",
    "    fig, ax = plt.subplots()\n",
    "    for cl in x:\n",
    "        if df['class'][cl] == 'ckd':\n",
    "            c = 'r'\n",
    "        else:\n",
    "            c = 'g'\n",
    "        plt.xlabel('Instances')\n",
    "        plt.ylabel('Values')\n",
    "        plt.title(df.columns[y[0]],fontweight=\"bold\")\n",
    "        plt.autoscale(tight=True)\n",
    "        plt.scatter(x[cl], y[1][cl], c=c, s=8, edgecolors='none')\n",
    "\n",
    "    red_patch = mpatches.Patch(color='red', label='CKD')\n",
    "    green_patch = mpatches.Patch(color='green', label='not CKD')\n",
    "\n",
    "    plt.legend(handles=[red_patch,green_patch], loc='upper right')\n",
    "\n",
    "    plt.show()"
   ]
  },
  {
   "cell_type": "markdown",
   "metadata": {
    "colab_type": "text",
    "id": "lfvG3QAWipl9"
   },
   "source": [
    "## Formatting Dataframe"
   ]
  },
  {
   "cell_type": "code",
   "execution_count": 18,
   "metadata": {
    "colab": {
     "base_uri": "https://localhost:8080/",
     "height": 218
    },
    "colab_type": "code",
    "id": "Z2bOdZJpiRpx",
    "outputId": "ed63a753-4123-4eea-ec87-aa1cfc1f08d6"
   },
   "outputs": [
    {
     "data": {
      "text/html": [
       "<div>\n",
       "<style scoped>\n",
       "    .dataframe tbody tr th:only-of-type {\n",
       "        vertical-align: middle;\n",
       "    }\n",
       "\n",
       "    .dataframe tbody tr th {\n",
       "        vertical-align: top;\n",
       "    }\n",
       "\n",
       "    .dataframe thead th {\n",
       "        text-align: right;\n",
       "    }\n",
       "</style>\n",
       "<table border=\"1\" class=\"dataframe\">\n",
       "  <thead>\n",
       "    <tr style=\"text-align: right;\">\n",
       "      <th></th>\n",
       "      <th>age</th>\n",
       "      <th>bp</th>\n",
       "      <th>sg</th>\n",
       "      <th>al</th>\n",
       "      <th>su</th>\n",
       "      <th>rbc</th>\n",
       "      <th>pc</th>\n",
       "      <th>pcc</th>\n",
       "      <th>ba</th>\n",
       "      <th>bgr</th>\n",
       "      <th>...</th>\n",
       "      <th>pcv</th>\n",
       "      <th>wbcc</th>\n",
       "      <th>rbcc</th>\n",
       "      <th>htn</th>\n",
       "      <th>dm</th>\n",
       "      <th>cad</th>\n",
       "      <th>appet</th>\n",
       "      <th>pe</th>\n",
       "      <th>ane</th>\n",
       "      <th>class</th>\n",
       "    </tr>\n",
       "  </thead>\n",
       "  <tbody>\n",
       "    <tr>\n",
       "      <th>0</th>\n",
       "      <td>48.0</td>\n",
       "      <td>70.0</td>\n",
       "      <td>1.005</td>\n",
       "      <td>4.0</td>\n",
       "      <td>0.0</td>\n",
       "      <td>1.0</td>\n",
       "      <td>0.0</td>\n",
       "      <td>1.0</td>\n",
       "      <td>0.0</td>\n",
       "      <td>117.0</td>\n",
       "      <td>...</td>\n",
       "      <td>32.0</td>\n",
       "      <td>6700.0</td>\n",
       "      <td>3.9</td>\n",
       "      <td>1.0</td>\n",
       "      <td>0</td>\n",
       "      <td>0.0</td>\n",
       "      <td>0.0</td>\n",
       "      <td>1.0</td>\n",
       "      <td>1.0</td>\n",
       "      <td>1.0</td>\n",
       "    </tr>\n",
       "    <tr>\n",
       "      <th>1</th>\n",
       "      <td>53.0</td>\n",
       "      <td>90.0</td>\n",
       "      <td>1.020</td>\n",
       "      <td>2.0</td>\n",
       "      <td>0.0</td>\n",
       "      <td>0.0</td>\n",
       "      <td>0.0</td>\n",
       "      <td>1.0</td>\n",
       "      <td>0.0</td>\n",
       "      <td>70.0</td>\n",
       "      <td>...</td>\n",
       "      <td>29.0</td>\n",
       "      <td>12100.0</td>\n",
       "      <td>3.7</td>\n",
       "      <td>1.0</td>\n",
       "      <td>1</td>\n",
       "      <td>0.0</td>\n",
       "      <td>0.0</td>\n",
       "      <td>0.0</td>\n",
       "      <td>1.0</td>\n",
       "      <td>1.0</td>\n",
       "    </tr>\n",
       "    <tr>\n",
       "      <th>2</th>\n",
       "      <td>63.0</td>\n",
       "      <td>70.0</td>\n",
       "      <td>1.010</td>\n",
       "      <td>3.0</td>\n",
       "      <td>0.0</td>\n",
       "      <td>0.0</td>\n",
       "      <td>0.0</td>\n",
       "      <td>1.0</td>\n",
       "      <td>0.0</td>\n",
       "      <td>380.0</td>\n",
       "      <td>...</td>\n",
       "      <td>32.0</td>\n",
       "      <td>4500.0</td>\n",
       "      <td>3.8</td>\n",
       "      <td>1.0</td>\n",
       "      <td>1</td>\n",
       "      <td>0.0</td>\n",
       "      <td>0.0</td>\n",
       "      <td>1.0</td>\n",
       "      <td>0.0</td>\n",
       "      <td>1.0</td>\n",
       "    </tr>\n",
       "    <tr>\n",
       "      <th>3</th>\n",
       "      <td>68.0</td>\n",
       "      <td>80.0</td>\n",
       "      <td>1.010</td>\n",
       "      <td>3.0</td>\n",
       "      <td>2.0</td>\n",
       "      <td>1.0</td>\n",
       "      <td>0.0</td>\n",
       "      <td>1.0</td>\n",
       "      <td>1.0</td>\n",
       "      <td>157.0</td>\n",
       "      <td>...</td>\n",
       "      <td>16.0</td>\n",
       "      <td>11000.0</td>\n",
       "      <td>2.6</td>\n",
       "      <td>1.0</td>\n",
       "      <td>1</td>\n",
       "      <td>1.0</td>\n",
       "      <td>0.0</td>\n",
       "      <td>1.0</td>\n",
       "      <td>0.0</td>\n",
       "      <td>1.0</td>\n",
       "    </tr>\n",
       "    <tr>\n",
       "      <th>4</th>\n",
       "      <td>61.0</td>\n",
       "      <td>80.0</td>\n",
       "      <td>1.015</td>\n",
       "      <td>2.0</td>\n",
       "      <td>0.0</td>\n",
       "      <td>0.0</td>\n",
       "      <td>0.0</td>\n",
       "      <td>0.0</td>\n",
       "      <td>0.0</td>\n",
       "      <td>173.0</td>\n",
       "      <td>...</td>\n",
       "      <td>24.0</td>\n",
       "      <td>9200.0</td>\n",
       "      <td>3.2</td>\n",
       "      <td>1.0</td>\n",
       "      <td>1</td>\n",
       "      <td>1.0</td>\n",
       "      <td>0.0</td>\n",
       "      <td>1.0</td>\n",
       "      <td>1.0</td>\n",
       "      <td>1.0</td>\n",
       "    </tr>\n",
       "  </tbody>\n",
       "</table>\n",
       "<p>5 rows × 25 columns</p>\n",
       "</div>"
      ],
      "text/plain": [
       "    age    bp     sg   al   su  rbc   pc  pcc   ba    bgr  ...   pcv     wbcc  \\\n",
       "0  48.0  70.0  1.005  4.0  0.0  1.0  0.0  1.0  0.0  117.0  ...  32.0   6700.0   \n",
       "1  53.0  90.0  1.020  2.0  0.0  0.0  0.0  1.0  0.0   70.0  ...  29.0  12100.0   \n",
       "2  63.0  70.0  1.010  3.0  0.0  0.0  0.0  1.0  0.0  380.0  ...  32.0   4500.0   \n",
       "3  68.0  80.0  1.010  3.0  2.0  1.0  0.0  1.0  1.0  157.0  ...  16.0  11000.0   \n",
       "4  61.0  80.0  1.015  2.0  0.0  0.0  0.0  0.0  0.0  173.0  ...  24.0   9200.0   \n",
       "\n",
       "   rbcc  htn  dm  cad  appet   pe  ane class  \n",
       "0   3.9  1.0   0  0.0    0.0  1.0  1.0   1.0  \n",
       "1   3.7  1.0   1  0.0    0.0  0.0  1.0   1.0  \n",
       "2   3.8  1.0   1  0.0    0.0  1.0  0.0   1.0  \n",
       "3   2.6  1.0   1  1.0    0.0  1.0  0.0   1.0  \n",
       "4   3.2  1.0   1  1.0    0.0  1.0  1.0   1.0  \n",
       "\n",
       "[5 rows x 25 columns]"
      ]
     },
     "execution_count": 18,
     "metadata": {},
     "output_type": "execute_result"
    }
   ],
   "source": [
    "#formatting dataframe by replacing strings in it\n",
    "replacements = {\n",
    "    'poor' : 0.0,\n",
    "    'good' : 1.0,\n",
    "    'normal' : 1.0,\n",
    "    'abnormal' : 0.0,\n",
    "    'notpresent' : 0.0,\n",
    "    'present' : 1.0,\n",
    "    'yes' : 1.0,\n",
    "    'no' : 0.0,\n",
    "    'ckd' : 1.0,\n",
    "    'notckd' : 0.0\n",
    "}\n",
    "df_num = df.replace(replacements)\n",
    "df_num.head()"
   ]
  },
  {
   "cell_type": "markdown",
   "metadata": {
    "colab_type": "text",
    "id": "73MqJB30jEj5"
   },
   "source": [
    "## Prepare data for model"
   ]
  },
  {
   "cell_type": "code",
   "execution_count": 19,
   "metadata": {
    "colab": {
     "base_uri": "https://localhost:8080/",
     "height": 35
    },
    "colab_type": "code",
    "id": "P2EuYmbcir7H",
    "outputId": "bc85b672-2fd4-48ce-e50f-0ac889bf9e50"
   },
   "outputs": [
    {
     "data": {
      "text/plain": [
       "False"
      ]
     },
     "execution_count": 19,
     "metadata": {},
     "output_type": "execute_result"
    }
   ],
   "source": [
    "#prepare variables for feature selection\n",
    "y = df_num['class']\n",
    "X = df_num.loc[:, df.columns != 'class']\n",
    "\n",
    "X = X.apply(pd.to_numeric, errors='coerce')\n",
    "y = y.apply(pd.to_numeric, errors='coerce')\n",
    "\n",
    "X.fillna(0, inplace=True)\n",
    "y.fillna(0, inplace=True)\n",
    "\n",
    "#checking for NA values\n",
    "X.isna().values.any()\n",
    "y.isna().values.any()"
   ]
  },
  {
   "cell_type": "markdown",
   "metadata": {
    "colab_type": "text",
    "id": "5alworEtjI34"
   },
   "source": [
    "## Prepare models"
   ]
  },
  {
   "cell_type": "code",
   "execution_count": 20,
   "metadata": {
    "colab": {},
    "colab_type": "code",
    "id": "ImN-xL02jKD6"
   },
   "outputs": [],
   "source": [
    "from sklearn import model_selection\n",
    "from sklearn.model_selection import StratifiedKFold, StratifiedShuffleSplit\n",
    "from sklearn.feature_selection import RFECV,SelectFromModel\n",
    "from sklearn.linear_model import LogisticRegression\n",
    "from sklearn.svm import SVR, SVC, LinearSVC\n",
    "\n",
    "from sklearn.metrics import classification_report\n",
    "from sklearn.metrics import confusion_matrix\n",
    "from sklearn.metrics import accuracy_score\n",
    "\n",
    "from sklearn.tree import DecisionTreeClassifier\n",
    "from sklearn.neighbors import KNeighborsClassifier\n",
    "from sklearn.discriminant_analysis import LinearDiscriminantAnalysis\n",
    "from sklearn.naive_bayes import GaussianNB"
   ]
  },
  {
   "cell_type": "code",
   "execution_count": 21,
   "metadata": {
    "colab": {
     "base_uri": "https://localhost:8080/",
     "height": 336
    },
    "colab_type": "code",
    "id": "EUqhqs1XixsA",
    "outputId": "3e6214f4-e575-4049-c75a-fe0f8c68b7df"
   },
   "outputs": [
    {
     "name": "stdout",
     "output_type": "stream",
     "text": [
      "Optimal number of features : 2\n"
     ]
    },
    {
     "data": {
      "image/png": "[encoded data removed]",
      "text/plain": [
       "<Figure size 432x288 with 1 Axes>"
      ]
     },
     "metadata": {
      "needs_background": "light"
     },
     "output_type": "display_data"
    },
    {
     "name": "stdout",
     "output_type": "stream",
     "text": [
      "[11 12 14  1 18 15  6 21 17  9 10  4  8 13  3  7 19  5  2  1 22 16 20 23]\n"
     ]
    }
   ],
   "source": [
    "# rfecv for classification\n",
    "svc = SVC(kernel=\"linear\")\n",
    "\n",
    "rfecv = RFECV(estimator=svc, step=1, cv=StratifiedKFold(3),\n",
    "              scoring='accuracy')\n",
    "rfecv.fit(X, y)\n",
    "\n",
    "print(\"Optimal number of features : %d\" % rfecv.n_features_)\n",
    "\n",
    "# Plotting number of features and cross-validation scores\n",
    "plt.figure()\n",
    "plt.xlabel(\"Number of features selected\")\n",
    "plt.ylabel(\"Cross validation score (nb of correct classifications)\")\n",
    "plt.plot(range(1, len(rfecv.grid_scores_) + 1), rfecv.grid_scores_)\n",
    "plt.show()\n",
    "print(rfecv.ranking_)"
   ]
  },
  {
   "cell_type": "markdown",
   "metadata": {
    "colab_type": "text",
    "id": "cWLhP-Blkl_N"
   },
   "source": [
    "## Modelar com as melhores features"
   ]
  },
  {
   "cell_type": "markdown",
   "metadata": {
    "colab_type": "text",
    "id": "U6-vKoIcjeWz"
   },
   "source": [
    "Da pra usar só 2 primeiras features"
   ]
  },
  {
   "cell_type": "code",
   "execution_count": 22,
   "metadata": {
    "colab": {},
    "colab_type": "code",
    "id": "EPWKGeU1i-xn"
   },
   "outputs": [],
   "source": [
    "#reshape data by new features\n",
    "X = df_num[['al','cad']]"
   ]
  },
  {
   "cell_type": "code",
   "execution_count": 23,
   "metadata": {
    "colab": {
     "base_uri": "https://localhost:8080/",
     "height": 1000
    },
    "colab_type": "code",
    "id": "PhmoRvynjyoG",
    "outputId": "4ef1d68d-c2e4-4e77-ae2b-dba93a7d93e4"
   },
   "outputs": [
    {
     "name": "stdout",
     "output_type": "stream",
     "text": [
      "      al  cad\n",
      "92   0.0  0.0\n",
      "77   0.0  0.0\n",
      "21   2.0  0.0\n",
      "79   0.0  0.0\n",
      "108  0.0  0.0\n",
      "..   ...  ...\n",
      "5    4.0  0.0\n",
      "2    3.0  0.0\n",
      "82   0.0  0.0\n",
      "156  0.0  0.0\n",
      "23   2.0  0.0\n",
      "\n",
      "[157 rows x 2 columns] 88     0.0\n",
      "97     0.0\n",
      "62     0.0\n",
      "11     1.0\n",
      "49     0.0\n",
      "      ... \n",
      "104    0.0\n",
      "156    0.0\n",
      "54     0.0\n",
      "17     1.0\n",
      "91     0.0\n",
      "Name: class, Length: 157, dtype: float64\n"
     ]
    }
   ],
   "source": [
    "#randomise data\n",
    "X = X.sample(n=157)\n",
    "y = y.sample(n=157)\n",
    "print(X,y)"
   ]
  },
  {
   "cell_type": "code",
   "execution_count": 25,
   "metadata": {
    "colab": {
     "base_uri": "https://localhost:8080/",
     "height": 510
    },
    "colab_type": "code",
    "id": "gQSPZBEVj1Xy",
    "outputId": "5f3d8c90-0c52-416d-f8b2-b6c90ea3795d"
   },
   "outputs": [
    {
     "name": "stdout",
     "output_type": "stream",
     "text": [
      "StratifiedShuffleSplit(n_splits=3, random_state=7, test_size=0.2,\n",
      "            train_size=None)\n",
      "TRAIN: [  7  21 114  60 105 130 133 101  36  77  55  43  98  76  85  22   6  68\n",
      "  42  69 118  11 145   4  25 153  33  91 135 122  57 146  87  89  53  83\n",
      "  19 150 120 125  48 149  46 140  94 155 143  52 138 128   8  65  93 117\n",
      "  71   3  20  34 132 110  49  32 103   1  24  26  50 156  80  73  16 106\n",
      "  81 131 147  59  51  67  75  15 119 111 116   5 108  27  61  23  35 144\n",
      " 136 102 141 126  70  82  66  41  88  99  58  96  12  29 129  95 139  74\n",
      "  44 134  13 152   2  64 151  17  38  39 109 123 115  31  84  86  14] TEST: [  0   9 124 107  45  18 137  54  37  78 121 100  47  79  40 142  10 154\n",
      "  90 113  28  97  30 104  72  63 148  56  92 112  62 127]\n",
      "__________________________________________________________\n",
      "TRAIN: [111 107 136 120  61  32 110   8  78  97 109  74  41  68 135  87  94  24\n",
      " 140 129 124  31 137  89 103 116  40  16  63 130  88 114 106 139  15 123\n",
      " 122  69  90 108  55 104  52  43 155  37 156  30 146  66   9 138  54 132\n",
      "  65 102  82  86  27  93  80 149  51 125  59  84  76  99 115  28  70   5\n",
      "  62  64 142 121  34  29 151 117  46  10  18  33 133 100  39 119  96  35\n",
      " 131 134 145  49  17   4  36 101 141  83  72  92  71  14   0  23 127   7\n",
      "  21  58 148  79  26 113 153  12   1  45  57 150  81 147  53  67  73] TEST: [ 98   3  95  60 152  85  19  56 112  13   2  50 143 128  42   6 118  44\n",
      "  91  25 144 105 126  22  77  20  38 154  47  11  75  48]\n",
      "__________________________________________________________\n",
      "TRAIN: [ 86 111  34  76 104 144  78   3 119  17  90 151  63 133  54  26  15 131\n",
      "  11  71  91  29  24  33 101  77 140  45 134  16  32 106 129  89  73   4\n",
      " 130  68  36  41  19 120  39 142  25 139 121  22  60 115  43   5 124   8\n",
      "  31  61  55  57 150  84  53  96  40 118  48  23  87 145   1  47 153 116\n",
      "  74 126  20 152 137  94   9  10  92 143   7 108   2  66  81  35 100  59\n",
      "  28  98 156 141  83  38 154  69  37  12 122 125 105  64 127  50 147  13\n",
      "  79  82  95  46 113   0 128  70  80  42  30  72 102  14   6 138  18] TEST: [ 56  27 123 149  85  21  62 103  52  75  93  49  67 107 148 135 136  58\n",
      " 110 112  99 146 132 117 109 155  97 114  88  65  51  44]\n",
      "__________________________________________________________\n"
     ]
    }
   ],
   "source": [
    "#split-out validation dataset\n",
    "\n",
    "sss = StratifiedShuffleSplit(n_splits=3, test_size=0.20, random_state=7)\n",
    "sss.get_n_splits(X, y)\n",
    "\n",
    "print(sss)       \n",
    "\n",
    "for train_index, test_index in sss.split(X, y):\n",
    "    print(\"TRAIN:\", train_index, \"TEST:\", test_index)\n",
    "    X_train, X_test = X.iloc[train_index], X.iloc[test_index]\n",
    "    y_train, y_test = y.iloc[train_index], y.iloc[test_index]\n",
    "    print('__________________________________________________________')"
   ]
  },
  {
   "cell_type": "markdown",
   "metadata": {
    "colab_type": "text",
    "id": "9bVYgYLskuD8"
   },
   "source": [
    "## Avaliar modelo"
   ]
  },
  {
   "cell_type": "code",
   "execution_count": 26,
   "metadata": {
    "colab": {},
    "colab_type": "code",
    "id": "Mnu7Cq5Tksux"
   },
   "outputs": [],
   "source": [
    "# Test options and evaluation metric\n",
    "seed = 7\n",
    "scoring = 'accuracy'"
   ]
  },
  {
   "cell_type": "code",
   "execution_count": 27,
   "metadata": {
    "colab": {
     "base_uri": "https://localhost:8080/",
     "height": 365
    },
    "colab_type": "code",
    "id": "REhZpUdekzL3",
    "outputId": "b3efead0-a91a-4e9e-fee2-abb3ad75db89"
   },
   "outputs": [
    {
     "name": "stderr",
     "output_type": "stream",
     "text": [
      "C:\\Users\\fabia\\Miniconda3\\envs\\ds\\lib\\site-packages\\sklearn\\linear_model\\logistic.py:432: FutureWarning: Default solver will be changed to 'lbfgs' in 0.22. Specify a solver to silence this warning.\n",
      "  FutureWarning)\n",
      "C:\\Users\\fabia\\Miniconda3\\envs\\ds\\lib\\site-packages\\sklearn\\linear_model\\logistic.py:432: FutureWarning: Default solver will be changed to 'lbfgs' in 0.22. Specify a solver to silence this warning.\n",
      "  FutureWarning)\n",
      "C:\\Users\\fabia\\Miniconda3\\envs\\ds\\lib\\site-packages\\sklearn\\linear_model\\logistic.py:432: FutureWarning: Default solver will be changed to 'lbfgs' in 0.22. Specify a solver to silence this warning.\n",
      "  FutureWarning)\n"
     ]
    },
    {
     "name": "stdout",
     "output_type": "stream",
     "text": [
      "LR: 0.693333 (0.037712)\n",
      "LDA: 0.680000 (0.056569)\n",
      "KNN: 0.693333 (0.067987)\n",
      "CART: 0.680000 (0.056569)\n",
      "NB: 0.666667 (0.049889)\n",
      "SVM: 0.693333 (0.037712)\n"
     ]
    },
    {
     "name": "stderr",
     "output_type": "stream",
     "text": [
      "C:\\Users\\fabia\\Miniconda3\\envs\\ds\\lib\\site-packages\\sklearn\\svm\\base.py:193: FutureWarning: The default value of gamma will change from 'auto' to 'scale' in version 0.22 to account better for unscaled features. Set gamma explicitly to 'auto' or 'scale' to avoid this warning.\n",
      "  \"avoid this warning.\", FutureWarning)\n",
      "C:\\Users\\fabia\\Miniconda3\\envs\\ds\\lib\\site-packages\\sklearn\\svm\\base.py:193: FutureWarning: The default value of gamma will change from 'auto' to 'scale' in version 0.22 to account better for unscaled features. Set gamma explicitly to 'auto' or 'scale' to avoid this warning.\n",
      "  \"avoid this warning.\", FutureWarning)\n",
      "C:\\Users\\fabia\\Miniconda3\\envs\\ds\\lib\\site-packages\\sklearn\\svm\\base.py:193: FutureWarning: The default value of gamma will change from 'auto' to 'scale' in version 0.22 to account better for unscaled features. Set gamma explicitly to 'auto' or 'scale' to avoid this warning.\n",
      "  \"avoid this warning.\", FutureWarning)\n"
     ]
    }
   ],
   "source": [
    "# Spot Check Algorithms\n",
    "models = []\n",
    "models.append(('LR', LogisticRegression()))\n",
    "models.append(('LDA', LinearDiscriminantAnalysis()))\n",
    "models.append(('KNN', KNeighborsClassifier()))\n",
    "models.append(('CART', DecisionTreeClassifier()))\n",
    "models.append(('NB', GaussianNB()))\n",
    "models.append(('SVM', SVC()))\n",
    "# evaluate each model in turn\n",
    "results = []\n",
    "names = []\n",
    "for name, model in models:\n",
    "    skfold = model_selection.StratifiedShuffleSplit(n_splits=3, test_size=0.20, random_state=seed)\n",
    "    cv_results = model_selection.cross_val_score(model, X_train, y_train, cv=skfold, scoring=scoring)\n",
    "    results.append(cv_results)\n",
    "    names.append(name)\n",
    "    msg = \"%s: %f (%f)\" % (name, cv_results.mean(), cv_results.std())\n",
    "    print(msg)"
   ]
  },
  {
   "cell_type": "markdown",
   "metadata": {
    "colab_type": "text",
    "id": "u9mk3y54k8js"
   },
   "source": [
    "## Fazendo previsões"
   ]
  },
  {
   "cell_type": "code",
   "execution_count": 32,
   "metadata": {
    "colab": {
     "base_uri": "https://localhost:8080/",
     "height": 1000
    },
    "colab_type": "code",
    "id": "QRnuhhKAk35_",
    "outputId": "b89a85d7-c3a3-4229-88a5-ba6321466e60"
   },
   "outputs": [
    {
     "name": "stdout",
     "output_type": "stream",
     "text": [
      "LR\n",
      "Accuracy =  0.71875\n",
      "======CONFUSION MATRIX======\n",
      "[[23  0]\n",
      " [ 9  0]]\n",
      "=========AUC========\n",
      "23 0 9 0\n",
      "======CLASSIFICATION REPORT======\n",
      "              precision    recall  f1-score   support\n",
      "\n",
      "         0.0       0.72      1.00      0.84        23\n",
      "         1.0       0.00      0.00      0.00         9\n",
      "\n",
      "    accuracy                           0.72        32\n",
      "   macro avg       0.36      0.50      0.42        32\n",
      "weighted avg       0.52      0.72      0.60        32\n",
      "\n",
      "======PREDICTIONS======\n",
      "[0. 0. 0. 0. 0. 0. 0. 0. 0. 0. 0. 0. 0. 0. 0. 0. 0. 0. 0. 0. 0. 0. 0. 0.\n",
      " 0. 0. 0. 0. 0. 0. 0. 0.]\n",
      "_______________________________________________________\n",
      "LDA\n",
      "Accuracy =  0.71875\n",
      "======CONFUSION MATRIX======\n",
      "[[23  0]\n",
      " [ 9  0]]\n",
      "=========AUC========\n",
      "23 0 9 0\n",
      "======CLASSIFICATION REPORT======\n",
      "              precision    recall  f1-score   support\n",
      "\n",
      "         0.0       0.72      1.00      0.84        23\n",
      "         1.0       0.00      0.00      0.00         9\n",
      "\n",
      "    accuracy                           0.72        32\n",
      "   macro avg       0.36      0.50      0.42        32\n",
      "weighted avg       0.52      0.72      0.60        32\n",
      "\n",
      "======PREDICTIONS======\n",
      "[0. 0. 0. 0. 0. 0. 0. 0. 0. 0. 0. 0. 0. 0. 0. 0. 0. 0. 0. 0. 0. 0. 0. 0.\n",
      " 0. 0. 0. 0. 0. 0. 0. 0.]\n",
      "_______________________________________________________\n",
      "KNN\n",
      "Accuracy =  0.625\n",
      "======CONFUSION MATRIX======\n",
      "[[19  4]\n",
      " [ 8  1]]\n",
      "=========AUC========\n",
      "19 4 8 1\n",
      "======CLASSIFICATION REPORT======\n",
      "              precision    recall  f1-score   support\n",
      "\n",
      "         0.0       0.70      0.83      0.76        23\n",
      "         1.0       0.20      0.11      0.14         9\n",
      "\n",
      "    accuracy                           0.62        32\n",
      "   macro avg       0.45      0.47      0.45        32\n",
      "weighted avg       0.56      0.62      0.59        32\n",
      "\n",
      "======PREDICTIONS======\n",
      "[0. 0. 0. 0. 0. 0. 0. 0. 0. 0. 0. 0. 0. 0. 0. 0. 1. 1. 0. 0. 0. 1. 1. 0.\n",
      " 1. 0. 0. 0. 0. 0. 0. 0.]\n",
      "_______________________________________________________\n",
      "CART\n",
      "Accuracy =  0.71875\n",
      "======CONFUSION MATRIX======\n",
      "[[23  0]\n",
      " [ 9  0]]\n",
      "=========AUC========\n",
      "23 0 9 0\n",
      "======CLASSIFICATION REPORT======\n",
      "              precision    recall  f1-score   support\n",
      "\n",
      "         0.0       0.72      1.00      0.84        23\n",
      "         1.0       0.00      0.00      0.00         9\n",
      "\n",
      "    accuracy                           0.72        32\n",
      "   macro avg       0.36      0.50      0.42        32\n",
      "weighted avg       0.52      0.72      0.60        32\n",
      "\n",
      "======PREDICTIONS======\n",
      "[0. 0. 0. 0. 0. 0. 0. 0. 0. 0. 0. 0. 0. 0. 0. 0. 0. 0. 0. 0. 0. 0. 0. 0.\n",
      " 0. 0. 0. 0. 0. 0. 0. 0.]\n",
      "_______________________________________________________\n",
      "NB\n",
      "Accuracy =  0.59375\n",
      "======CONFUSION MATRIX======\n",
      "[[18  5]\n",
      " [ 8  1]]\n",
      "=========AUC========\n",
      "18 5 8 1\n",
      "======CLASSIFICATION REPORT======\n",
      "              precision    recall  f1-score   support\n",
      "\n",
      "         0.0       0.69      0.78      0.73        23\n",
      "         1.0       0.17      0.11      0.13         9\n",
      "\n",
      "    accuracy                           0.59        32\n",
      "   macro avg       0.43      0.45      0.43        32\n",
      "weighted avg       0.54      0.59      0.57        32\n",
      "\n",
      "======PREDICTIONS======\n",
      "[0. 0. 0. 0. 0. 0. 0. 0. 0. 0. 0. 0. 0. 0. 0. 0. 1. 1. 0. 0. 0. 1. 1. 0.\n",
      " 1. 0. 1. 0. 0. 0. 0. 0.]\n",
      "_______________________________________________________\n",
      "SVM\n",
      "Accuracy =  0.71875\n",
      "======CONFUSION MATRIX======\n",
      "[[23  0]\n",
      " [ 9  0]]\n",
      "=========AUC========\n",
      "23 0 9 0\n",
      "======CLASSIFICATION REPORT======\n",
      "              precision    recall  f1-score   support\n",
      "\n",
      "         0.0       0.72      1.00      0.84        23\n",
      "         1.0       0.00      0.00      0.00         9\n",
      "\n",
      "    accuracy                           0.72        32\n",
      "   macro avg       0.36      0.50      0.42        32\n",
      "weighted avg       0.52      0.72      0.60        32\n",
      "\n",
      "======PREDICTIONS======\n",
      "[0. 0. 0. 0. 0. 0. 0. 0. 0. 0. 0. 0. 0. 0. 0. 0. 0. 0. 0. 0. 0. 0. 0. 0.\n",
      " 0. 0. 0. 0. 0. 0. 0. 0.]\n",
      "_______________________________________________________\n"
     ]
    },
    {
     "name": "stderr",
     "output_type": "stream",
     "text": [
      "C:\\Users\\fabia\\Miniconda3\\envs\\ds\\lib\\site-packages\\sklearn\\linear_model\\logistic.py:432: FutureWarning: Default solver will be changed to 'lbfgs' in 0.22. Specify a solver to silence this warning.\n",
      "  FutureWarning)\n",
      "C:\\Users\\fabia\\Miniconda3\\envs\\ds\\lib\\site-packages\\sklearn\\metrics\\classification.py:1437: UndefinedMetricWarning: Precision and F-score are ill-defined and being set to 0.0 in labels with no predicted samples.\n",
      "  'precision', 'predicted', average, warn_for)\n",
      "C:\\Users\\fabia\\Miniconda3\\envs\\ds\\lib\\site-packages\\sklearn\\metrics\\classification.py:1437: UndefinedMetricWarning: Precision and F-score are ill-defined and being set to 0.0 in labels with no predicted samples.\n",
      "  'precision', 'predicted', average, warn_for)\n",
      "C:\\Users\\fabia\\Miniconda3\\envs\\ds\\lib\\site-packages\\sklearn\\metrics\\classification.py:1437: UndefinedMetricWarning: Precision and F-score are ill-defined and being set to 0.0 in labels with no predicted samples.\n",
      "  'precision', 'predicted', average, warn_for)\n",
      "C:\\Users\\fabia\\Miniconda3\\envs\\ds\\lib\\site-packages\\sklearn\\svm\\base.py:193: FutureWarning: The default value of gamma will change from 'auto' to 'scale' in version 0.22 to account better for unscaled features. Set gamma explicitly to 'auto' or 'scale' to avoid this warning.\n",
      "  \"avoid this warning.\", FutureWarning)\n",
      "C:\\Users\\fabia\\Miniconda3\\envs\\ds\\lib\\site-packages\\sklearn\\metrics\\classification.py:1437: UndefinedMetricWarning: Precision and F-score are ill-defined and being set to 0.0 in labels with no predicted samples.\n",
      "  'precision', 'predicted', average, warn_for)\n"
     ]
    }
   ],
   "source": [
    "# Make predictions on validation dataset\n",
    "for model in models:\n",
    "    nb = model[1]\n",
    "    nb.fit(X_train, y_train)\n",
    "    predictions = nb.predict(X_test)\n",
    "\n",
    "    tn, fp, fn, tp = confusion_matrix(y_test, predictions).ravel()\n",
    "    \n",
    "    print(model[0])\n",
    "    print('Accuracy = ', accuracy_score(y_test, predictions))\n",
    "    print('======CONFUSION MATRIX======')\n",
    "    print(confusion_matrix(y_test, predictions))\n",
    "    print('=========AUC========')\n",
    "    print(tn, fp, fn, tp)\n",
    "    print('======CLASSIFICATION REPORT======')\n",
    "    print(classification_report(y_test, predictions))\n",
    "    print('======PREDICTIONS======')\n",
    "    print(predictions)\n",
    "    print('_______________________________________________________')"
   ]
  },
  {
   "cell_type": "code",
   "execution_count": null,
   "metadata": {
    "colab": {},
    "colab_type": "code",
    "id": "qr8fvkhTk-wo"
   },
   "outputs": [],
   "source": []
  }
 ],
 "metadata": {
  "colab": {
   "name": "renal.ipynb",
   "provenance": []
  },
  "kernelspec": {
   "display_name": "Python 3",
   "language": "python",
   "name": "python3"
  },
  "language_info": {
   "codemirror_mode": {
    "name": "ipython",
    "version": 3
   },
   "file_extension": ".py",
   "mimetype": "text/x-python",
   "name": "python",
   "nbconvert_exporter": "python",
   "pygments_lexer": "ipython3",
   "version": "3.7.4"
  }
 },
 "nbformat": 4,
 "nbformat_minor": 4
}
