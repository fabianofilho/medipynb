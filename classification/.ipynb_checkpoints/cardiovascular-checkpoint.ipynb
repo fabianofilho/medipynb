{
 "cells": [
  {
   "cell_type": "markdown",
   "metadata": {
    "colab_type": "text",
    "id": "atEHIbeL9Sef"
   },
   "source": [
    "# Bibliotecas"
   ]
  },
  {
   "cell_type": "code",
   "execution_count": 4,
   "metadata": {
    "colab": {},
    "colab_type": "code",
    "id": "6aOwgiPq9U64"
   },
   "outputs": [],
   "source": [
    "import pandas as pd #análise de dados em tabelas\n",
    "import numpy as np #análise de números\n",
    "import seaborn as sb #análise em gráficos"
   ]
  },
  {
   "cell_type": "markdown",
   "metadata": {
    "colab_type": "text",
    "id": "wHhZ-E0tiTIw"
   },
   "source": [
    "# Cardiovascular Machine Learning Classification Model\n",
    "With categorical features"
   ]
  },
  {
   "cell_type": "code",
   "execution_count": 5,
   "metadata": {
    "colab": {},
    "colab_type": "code",
    "id": "Vi1OSAE9iV-d"
   },
   "outputs": [],
   "source": [
    "cvd = pd.read_csv('http://bit.ly/cardiodados')"
   ]
  },
  {
   "cell_type": "code",
   "execution_count": 6,
   "metadata": {
    "colab": {
     "base_uri": "https://localhost:8080/",
     "height": 254
    },
    "colab_type": "code",
    "id": "vKFkqKVy2vVe",
    "outputId": "81da3d86-cd15-4607-cf5b-f1c24e026f8f"
   },
   "outputs": [
    {
     "data": {
      "text/plain": [
       "['patientID',\n",
       " 'age',\n",
       " 'htn',\n",
       " 'treat',\n",
       " 'smoking',\n",
       " 'race',\n",
       " 't2d',\n",
       " 'gender',\n",
       " 'numAge',\n",
       " 'bmi',\n",
       " 'tchol',\n",
       " 'sbp',\n",
       " 'cvd']"
      ]
     },
     "execution_count": 6,
     "metadata": {},
     "output_type": "execute_result"
    }
   ],
   "source": [
    "cvd.columns.tolist()"
   ]
  },
  {
   "cell_type": "code",
   "execution_count": 7,
   "metadata": {
    "colab": {
     "base_uri": "https://localhost:8080/",
     "height": 1000
    },
    "colab_type": "code",
    "id": "_YoZcFZg3ets",
    "outputId": "5f183301-e5a1-446f-8476-dfc3f54b3ada"
   },
   "outputs": [
    {
     "data": {
      "text/html": [
       "<div>\n",
       "<style scoped>\n",
       "    .dataframe tbody tr th:only-of-type {\n",
       "        vertical-align: middle;\n",
       "    }\n",
       "\n",
       "    .dataframe tbody tr th {\n",
       "        vertical-align: top;\n",
       "    }\n",
       "\n",
       "    .dataframe thead th {\n",
       "        text-align: right;\n",
       "    }\n",
       "</style>\n",
       "<table border=\"1\" class=\"dataframe\">\n",
       "  <thead>\n",
       "    <tr style=\"text-align: right;\">\n",
       "      <th></th>\n",
       "      <th>htn</th>\n",
       "      <th>treat</th>\n",
       "    </tr>\n",
       "  </thead>\n",
       "  <tbody>\n",
       "    <tr>\n",
       "      <th>0</th>\n",
       "      <td>N</td>\n",
       "      <td>N</td>\n",
       "    </tr>\n",
       "    <tr>\n",
       "      <th>1</th>\n",
       "      <td>N</td>\n",
       "      <td>N</td>\n",
       "    </tr>\n",
       "    <tr>\n",
       "      <th>2</th>\n",
       "      <td>Y</td>\n",
       "      <td>Y</td>\n",
       "    </tr>\n",
       "    <tr>\n",
       "      <th>3</th>\n",
       "      <td>N</td>\n",
       "      <td>N</td>\n",
       "    </tr>\n",
       "    <tr>\n",
       "      <th>4</th>\n",
       "      <td>N</td>\n",
       "      <td>N</td>\n",
       "    </tr>\n",
       "    <tr>\n",
       "      <th>5</th>\n",
       "      <td>N</td>\n",
       "      <td>N</td>\n",
       "    </tr>\n",
       "    <tr>\n",
       "      <th>6</th>\n",
       "      <td>Y</td>\n",
       "      <td>N</td>\n",
       "    </tr>\n",
       "    <tr>\n",
       "      <th>7</th>\n",
       "      <td>N</td>\n",
       "      <td>N</td>\n",
       "    </tr>\n",
       "    <tr>\n",
       "      <th>8</th>\n",
       "      <td>N</td>\n",
       "      <td>N</td>\n",
       "    </tr>\n",
       "    <tr>\n",
       "      <th>9</th>\n",
       "      <td>Y</td>\n",
       "      <td>Y</td>\n",
       "    </tr>\n",
       "    <tr>\n",
       "      <th>10</th>\n",
       "      <td>Y</td>\n",
       "      <td>Y</td>\n",
       "    </tr>\n",
       "    <tr>\n",
       "      <th>11</th>\n",
       "      <td>N</td>\n",
       "      <td>N</td>\n",
       "    </tr>\n",
       "    <tr>\n",
       "      <th>12</th>\n",
       "      <td>N</td>\n",
       "      <td>N</td>\n",
       "    </tr>\n",
       "    <tr>\n",
       "      <th>13</th>\n",
       "      <td>N</td>\n",
       "      <td>N</td>\n",
       "    </tr>\n",
       "    <tr>\n",
       "      <th>14</th>\n",
       "      <td>N</td>\n",
       "      <td>N</td>\n",
       "    </tr>\n",
       "    <tr>\n",
       "      <th>15</th>\n",
       "      <td>Y</td>\n",
       "      <td>Y</td>\n",
       "    </tr>\n",
       "    <tr>\n",
       "      <th>16</th>\n",
       "      <td>N</td>\n",
       "      <td>N</td>\n",
       "    </tr>\n",
       "    <tr>\n",
       "      <th>17</th>\n",
       "      <td>N</td>\n",
       "      <td>N</td>\n",
       "    </tr>\n",
       "    <tr>\n",
       "      <th>18</th>\n",
       "      <td>N</td>\n",
       "      <td>N</td>\n",
       "    </tr>\n",
       "    <tr>\n",
       "      <th>19</th>\n",
       "      <td>N</td>\n",
       "      <td>N</td>\n",
       "    </tr>\n",
       "    <tr>\n",
       "      <th>20</th>\n",
       "      <td>Y</td>\n",
       "      <td>N</td>\n",
       "    </tr>\n",
       "    <tr>\n",
       "      <th>21</th>\n",
       "      <td>Y</td>\n",
       "      <td>Y</td>\n",
       "    </tr>\n",
       "    <tr>\n",
       "      <th>22</th>\n",
       "      <td>N</td>\n",
       "      <td>N</td>\n",
       "    </tr>\n",
       "    <tr>\n",
       "      <th>23</th>\n",
       "      <td>N</td>\n",
       "      <td>N</td>\n",
       "    </tr>\n",
       "    <tr>\n",
       "      <th>24</th>\n",
       "      <td>N</td>\n",
       "      <td>N</td>\n",
       "    </tr>\n",
       "    <tr>\n",
       "      <th>25</th>\n",
       "      <td>Y</td>\n",
       "      <td>Y</td>\n",
       "    </tr>\n",
       "    <tr>\n",
       "      <th>26</th>\n",
       "      <td>Y</td>\n",
       "      <td>Y</td>\n",
       "    </tr>\n",
       "    <tr>\n",
       "      <th>27</th>\n",
       "      <td>N</td>\n",
       "      <td>N</td>\n",
       "    </tr>\n",
       "    <tr>\n",
       "      <th>28</th>\n",
       "      <td>N</td>\n",
       "      <td>N</td>\n",
       "    </tr>\n",
       "    <tr>\n",
       "      <th>29</th>\n",
       "      <td>N</td>\n",
       "      <td>N</td>\n",
       "    </tr>\n",
       "    <tr>\n",
       "      <th>...</th>\n",
       "      <td>...</td>\n",
       "      <td>...</td>\n",
       "    </tr>\n",
       "    <tr>\n",
       "      <th>446173</th>\n",
       "      <td>Y</td>\n",
       "      <td>Y</td>\n",
       "    </tr>\n",
       "    <tr>\n",
       "      <th>446174</th>\n",
       "      <td>N</td>\n",
       "      <td>N</td>\n",
       "    </tr>\n",
       "    <tr>\n",
       "      <th>446175</th>\n",
       "      <td>N</td>\n",
       "      <td>N</td>\n",
       "    </tr>\n",
       "    <tr>\n",
       "      <th>446176</th>\n",
       "      <td>N</td>\n",
       "      <td>N</td>\n",
       "    </tr>\n",
       "    <tr>\n",
       "      <th>446177</th>\n",
       "      <td>N</td>\n",
       "      <td>N</td>\n",
       "    </tr>\n",
       "    <tr>\n",
       "      <th>446178</th>\n",
       "      <td>Y</td>\n",
       "      <td>Y</td>\n",
       "    </tr>\n",
       "    <tr>\n",
       "      <th>446179</th>\n",
       "      <td>N</td>\n",
       "      <td>N</td>\n",
       "    </tr>\n",
       "    <tr>\n",
       "      <th>446180</th>\n",
       "      <td>N</td>\n",
       "      <td>N</td>\n",
       "    </tr>\n",
       "    <tr>\n",
       "      <th>446181</th>\n",
       "      <td>N</td>\n",
       "      <td>N</td>\n",
       "    </tr>\n",
       "    <tr>\n",
       "      <th>446182</th>\n",
       "      <td>N</td>\n",
       "      <td>N</td>\n",
       "    </tr>\n",
       "    <tr>\n",
       "      <th>446183</th>\n",
       "      <td>Y</td>\n",
       "      <td>Y</td>\n",
       "    </tr>\n",
       "    <tr>\n",
       "      <th>446184</th>\n",
       "      <td>N</td>\n",
       "      <td>N</td>\n",
       "    </tr>\n",
       "    <tr>\n",
       "      <th>446185</th>\n",
       "      <td>N</td>\n",
       "      <td>N</td>\n",
       "    </tr>\n",
       "    <tr>\n",
       "      <th>446186</th>\n",
       "      <td>Y</td>\n",
       "      <td>N</td>\n",
       "    </tr>\n",
       "    <tr>\n",
       "      <th>446187</th>\n",
       "      <td>N</td>\n",
       "      <td>N</td>\n",
       "    </tr>\n",
       "    <tr>\n",
       "      <th>446188</th>\n",
       "      <td>Y</td>\n",
       "      <td>Y</td>\n",
       "    </tr>\n",
       "    <tr>\n",
       "      <th>446189</th>\n",
       "      <td>N</td>\n",
       "      <td>N</td>\n",
       "    </tr>\n",
       "    <tr>\n",
       "      <th>446190</th>\n",
       "      <td>N</td>\n",
       "      <td>N</td>\n",
       "    </tr>\n",
       "    <tr>\n",
       "      <th>446191</th>\n",
       "      <td>N</td>\n",
       "      <td>N</td>\n",
       "    </tr>\n",
       "    <tr>\n",
       "      <th>446192</th>\n",
       "      <td>N</td>\n",
       "      <td>N</td>\n",
       "    </tr>\n",
       "    <tr>\n",
       "      <th>446193</th>\n",
       "      <td>Y</td>\n",
       "      <td>N</td>\n",
       "    </tr>\n",
       "    <tr>\n",
       "      <th>446194</th>\n",
       "      <td>N</td>\n",
       "      <td>N</td>\n",
       "    </tr>\n",
       "    <tr>\n",
       "      <th>446195</th>\n",
       "      <td>N</td>\n",
       "      <td>N</td>\n",
       "    </tr>\n",
       "    <tr>\n",
       "      <th>446196</th>\n",
       "      <td>N</td>\n",
       "      <td>N</td>\n",
       "    </tr>\n",
       "    <tr>\n",
       "      <th>446197</th>\n",
       "      <td>N</td>\n",
       "      <td>N</td>\n",
       "    </tr>\n",
       "    <tr>\n",
       "      <th>446198</th>\n",
       "      <td>Y</td>\n",
       "      <td>Y</td>\n",
       "    </tr>\n",
       "    <tr>\n",
       "      <th>446199</th>\n",
       "      <td>N</td>\n",
       "      <td>N</td>\n",
       "    </tr>\n",
       "    <tr>\n",
       "      <th>446200</th>\n",
       "      <td>N</td>\n",
       "      <td>N</td>\n",
       "    </tr>\n",
       "    <tr>\n",
       "      <th>446201</th>\n",
       "      <td>Y</td>\n",
       "      <td>Y</td>\n",
       "    </tr>\n",
       "    <tr>\n",
       "      <th>446202</th>\n",
       "      <td>N</td>\n",
       "      <td>N</td>\n",
       "    </tr>\n",
       "  </tbody>\n",
       "</table>\n",
       "<p>446203 rows × 2 columns</p>\n",
       "</div>"
      ],
      "text/plain": [
       "       htn treat\n",
       "0        N     N\n",
       "1        N     N\n",
       "2        Y     Y\n",
       "3        N     N\n",
       "4        N     N\n",
       "...     ..   ...\n",
       "446198   Y     Y\n",
       "446199   N     N\n",
       "446200   N     N\n",
       "446201   Y     Y\n",
       "446202   N     N\n",
       "\n",
       "[446203 rows x 2 columns]"
      ]
     },
     "execution_count": 7,
     "metadata": {},
     "output_type": "execute_result"
    }
   ],
   "source": [
    "cvd[['htn', 'treat']]"
   ]
  },
  {
   "cell_type": "code",
   "execution_count": 8,
   "metadata": {
    "colab": {},
    "colab_type": "code",
    "id": "Vqf4ZJqy3p9x"
   },
   "outputs": [],
   "source": [
    "cvd_Shtn = cvd[cvd['htn'] == 'Y']\n",
    "cvd_Nhtn = cvd[cvd['htn'] == 'N']"
   ]
  },
  {
   "cell_type": "code",
   "execution_count": 9,
   "metadata": {
    "colab": {},
    "colab_type": "code",
    "id": "gfEWoB9o4sQ5"
   },
   "outputs": [],
   "source": [
    "total_cvd_htnS = len(cvd_Shtn)\n",
    "total_cvd_htnN = len(cvd_Nhtn)\n",
    "total_cvd_htnT = len(cvd_Shtn) + len(cvd_Nhtn)"
   ]
  },
  {
   "cell_type": "code",
   "execution_count": 10,
   "metadata": {
    "colab": {
     "base_uri": "https://localhost:8080/",
     "height": 35
    },
    "colab_type": "code",
    "id": "5P7Ay-Yx3V7-",
    "outputId": "77f33339-2344-4a63-886a-187fb577286a"
   },
   "outputs": [
    {
     "data": {
      "text/plain": [
       "0.28621950098946"
      ]
     },
     "execution_count": 10,
     "metadata": {},
     "output_type": "execute_result"
    }
   ],
   "source": [
    "total_cvd_htnS / total_cvd_htnT"
   ]
  },
  {
   "cell_type": "code",
   "execution_count": 11,
   "metadata": {
    "colab": {
     "base_uri": "https://localhost:8080/",
     "height": 108
    },
    "colab_type": "code",
    "id": "IUyp4iOW4Mrr",
    "outputId": "14ee6a1a-cf70-43f9-cdff-87d4954b0a28"
   },
   "outputs": [
    {
     "data": {
      "text/plain": [
       "htn  treat\n",
       "N    N        318491\n",
       "Y    Y         75139\n",
       "     N         52573\n",
       "Name: treat, dtype: int64"
      ]
     },
     "execution_count": 11,
     "metadata": {},
     "output_type": "execute_result"
    }
   ],
   "source": [
    "cvd.groupby('htn')['treat'].value_counts()"
   ]
  },
  {
   "cell_type": "code",
   "execution_count": 12,
   "metadata": {
    "colab": {
     "base_uri": "https://localhost:8080/",
     "height": 1000
    },
    "colab_type": "code",
    "id": "kZuZHWDy2177",
    "outputId": "c17440a5-96e7-49b3-8c18-47ca6255960e"
   },
   "outputs": [
    {
     "data": {
      "text/plain": [
       "0         False\n",
       "1         False\n",
       "2          True\n",
       "3         False\n",
       "4         False\n",
       "          ...  \n",
       "446198     True\n",
       "446199    False\n",
       "446200    False\n",
       "446201     True\n",
       "446202    False\n",
       "Name: htn, Length: 446203, dtype: bool"
      ]
     },
     "execution_count": 12,
     "metadata": {},
     "output_type": "execute_result"
    }
   ],
   "source": [
    "cvd['htn'] == 'Y'"
   ]
  },
  {
   "cell_type": "code",
   "execution_count": 13,
   "metadata": {
    "colab": {
     "base_uri": "https://localhost:8080/",
     "height": 198
    },
    "colab_type": "code",
    "id": "mRx_qESaSyZr",
    "outputId": "b7f11348-7c42-460d-f93c-1ae50028ef08"
   },
   "outputs": [
    {
     "data": {
      "text/html": [
       "<div>\n",
       "<style scoped>\n",
       "    .dataframe tbody tr th:only-of-type {\n",
       "        vertical-align: middle;\n",
       "    }\n",
       "\n",
       "    .dataframe tbody tr th {\n",
       "        vertical-align: top;\n",
       "    }\n",
       "\n",
       "    .dataframe thead th {\n",
       "        text-align: right;\n",
       "    }\n",
       "</style>\n",
       "<table border=\"1\" class=\"dataframe\">\n",
       "  <thead>\n",
       "    <tr style=\"text-align: right;\">\n",
       "      <th></th>\n",
       "      <th>patientID</th>\n",
       "      <th>age</th>\n",
       "      <th>htn</th>\n",
       "      <th>treat</th>\n",
       "      <th>smoking</th>\n",
       "      <th>race</th>\n",
       "      <th>t2d</th>\n",
       "      <th>gender</th>\n",
       "      <th>numAge</th>\n",
       "      <th>bmi</th>\n",
       "      <th>tchol</th>\n",
       "      <th>sbp</th>\n",
       "      <th>cvd</th>\n",
       "    </tr>\n",
       "  </thead>\n",
       "  <tbody>\n",
       "    <tr>\n",
       "      <th>0</th>\n",
       "      <td>HHUID00519967</td>\n",
       "      <td>70-90</td>\n",
       "      <td>N</td>\n",
       "      <td>N</td>\n",
       "      <td>N</td>\n",
       "      <td>White</td>\n",
       "      <td>N</td>\n",
       "      <td>M</td>\n",
       "      <td>83</td>\n",
       "      <td>17</td>\n",
       "      <td>156</td>\n",
       "      <td>113</td>\n",
       "      <td>N</td>\n",
       "    </tr>\n",
       "    <tr>\n",
       "      <th>1</th>\n",
       "      <td>HHUID00379006</td>\n",
       "      <td>40-55</td>\n",
       "      <td>N</td>\n",
       "      <td>N</td>\n",
       "      <td>N</td>\n",
       "      <td>White</td>\n",
       "      <td>N</td>\n",
       "      <td>M</td>\n",
       "      <td>44</td>\n",
       "      <td>23</td>\n",
       "      <td>167</td>\n",
       "      <td>126</td>\n",
       "      <td>N</td>\n",
       "    </tr>\n",
       "    <tr>\n",
       "      <th>2</th>\n",
       "      <td>HHUID00357476</td>\n",
       "      <td>55-70</td>\n",
       "      <td>Y</td>\n",
       "      <td>Y</td>\n",
       "      <td>N</td>\n",
       "      <td>White</td>\n",
       "      <td>N</td>\n",
       "      <td>M</td>\n",
       "      <td>62</td>\n",
       "      <td>16</td>\n",
       "      <td>214</td>\n",
       "      <td>175</td>\n",
       "      <td>N</td>\n",
       "    </tr>\n",
       "    <tr>\n",
       "      <th>3</th>\n",
       "      <td>HHUID00862369</td>\n",
       "      <td>40-55</td>\n",
       "      <td>N</td>\n",
       "      <td>N</td>\n",
       "      <td>N</td>\n",
       "      <td>White</td>\n",
       "      <td>N</td>\n",
       "      <td>M</td>\n",
       "      <td>42</td>\n",
       "      <td>22</td>\n",
       "      <td>158</td>\n",
       "      <td>102</td>\n",
       "      <td>N</td>\n",
       "    </tr>\n",
       "    <tr>\n",
       "      <th>4</th>\n",
       "      <td>HHUID00481496</td>\n",
       "      <td>55-70</td>\n",
       "      <td>N</td>\n",
       "      <td>N</td>\n",
       "      <td>N</td>\n",
       "      <td>White</td>\n",
       "      <td>N</td>\n",
       "      <td>M</td>\n",
       "      <td>63</td>\n",
       "      <td>24</td>\n",
       "      <td>244</td>\n",
       "      <td>132</td>\n",
       "      <td>N</td>\n",
       "    </tr>\n",
       "  </tbody>\n",
       "</table>\n",
       "</div>"
      ],
      "text/plain": [
       "       patientID    age htn treat smoking   race t2d gender  numAge  bmi  \\\n",
       "0  HHUID00519967  70-90   N     N       N  White   N      M      83   17   \n",
       "1  HHUID00379006  40-55   N     N       N  White   N      M      44   23   \n",
       "2  HHUID00357476  55-70   Y     Y       N  White   N      M      62   16   \n",
       "3  HHUID00862369  40-55   N     N       N  White   N      M      42   22   \n",
       "4  HHUID00481496  55-70   N     N       N  White   N      M      63   24   \n",
       "\n",
       "   tchol  sbp cvd  \n",
       "0    156  113   N  \n",
       "1    167  126   N  \n",
       "2    214  175   N  \n",
       "3    158  102   N  \n",
       "4    244  132   N  "
      ]
     },
     "execution_count": 13,
     "metadata": {},
     "output_type": "execute_result"
    }
   ],
   "source": [
    "cvd.head()"
   ]
  },
  {
   "cell_type": "code",
   "execution_count": 14,
   "metadata": {
    "colab": {
     "base_uri": "https://localhost:8080/",
     "height": 35
    },
    "colab_type": "code",
    "id": "SBQRIIhP6VED",
    "outputId": "a13a84b5-d1db-4820-a502-a34e43578cba"
   },
   "outputs": [
    {
     "data": {
      "text/plain": [
       "(446203, 13)"
      ]
     },
     "execution_count": 14,
     "metadata": {},
     "output_type": "execute_result"
    }
   ],
   "source": [
    "cvd.shape"
   ]
  },
  {
   "cell_type": "code",
   "execution_count": 15,
   "metadata": {
    "colab": {},
    "colab_type": "code",
    "id": "kNd9P0_O5I7j"
   },
   "outputs": [],
   "source": [
    "cvd_col_imc = cvd[(cvd['tchol'] > 200) & (cvd['bmi'] > 30)]"
   ]
  },
  {
   "cell_type": "code",
   "execution_count": 16,
   "metadata": {
    "colab": {},
    "colab_type": "code",
    "id": "w-8LTSUZ5rXs"
   },
   "outputs": [],
   "source": [
    "problema = cvd[(cvd['htn'] == 'Y') | (cvd['t2d'] =='Y') | (cvd['numAge'] > 35)]"
   ]
  },
  {
   "cell_type": "code",
   "execution_count": 17,
   "metadata": {
    "colab": {},
    "colab_type": "code",
    "id": "B9Dg6CRd6LQ1"
   },
   "outputs": [],
   "source": [
    "problema.to_csv('e.csv')"
   ]
  },
  {
   "cell_type": "markdown",
   "metadata": {
    "colab_type": "text",
    "id": "zp1-Hsnp607B"
   },
   "source": [
    "## .loc"
   ]
  },
  {
   "cell_type": "code",
   "execution_count": 18,
   "metadata": {
    "colab": {
     "base_uri": "https://localhost:8080/",
     "height": 72
    },
    "colab_type": "code",
    "id": "c9hm6Ge972Ab",
    "outputId": "5ccaed52-0002-4d1f-9d71-d65e2d0a3d7c"
   },
   "outputs": [
    {
     "data": {
      "text/plain": [
       "0.0    318491\n",
       "Name: htn_bin, dtype: int64"
      ]
     },
     "execution_count": 18,
     "metadata": {},
     "output_type": "execute_result"
    }
   ],
   "source": [
    "\n",
    "cvd.loc[cvd['htn'] == 'N', 'htn_bin'] = 0\n",
    "cvd['htn_bin'].value_counts()"
   ]
  },
  {
   "cell_type": "code",
   "execution_count": 19,
   "metadata": {
    "colab": {
     "base_uri": "https://localhost:8080/",
     "height": 108
    },
    "colab_type": "code",
    "id": "CNp12uCk7hLO",
    "outputId": "146d74e5-154c-487d-e303-6bb7af9f0fec"
   },
   "outputs": [
    {
     "data": {
      "text/plain": [
       "White         335201\n",
       "Asian/PI       84840\n",
       "Black/AfAm     23722\n",
       "AmInd           2440\n",
       "Name: race, dtype: int64"
      ]
     },
     "execution_count": 19,
     "metadata": {},
     "output_type": "execute_result"
    }
   ],
   "source": [
    "cvd['race'].value_counts()"
   ]
  },
  {
   "cell_type": "code",
   "execution_count": 20,
   "metadata": {
    "colab": {
     "base_uri": "https://localhost:8080/",
     "height": 72
    },
    "colab_type": "code",
    "id": "Ht7OId1x63Lf",
    "outputId": "af890648-b92d-4b1c-98af-a4a0720a9a42"
   },
   "outputs": [
    {
     "data": {
      "text/plain": [
       "0.0    361363\n",
       "1.0     84840\n",
       "Name: race_As, dtype: int64"
      ]
     },
     "execution_count": 20,
     "metadata": {},
     "output_type": "execute_result"
    }
   ],
   "source": [
    "cvd.loc[cvd['race'] == 'White', 'race_W'] = 1\n",
    "cvd.loc[cvd['race'] != 'White', 'race_W'] = 0\n",
    "\n",
    "cvd.loc[cvd['race'] == 'Asian/PI', 'race_As'] = 1\n",
    "cvd.loc[cvd['race'] != 'Asian/PI', 'race_As'] = 0\n",
    "\n",
    "cvd.loc[cvd['race'] == 'Black/AfAm', 'race_Af'] = 1\n",
    "cvd.loc[cvd['race'] != 'Black/AfAm', 'race_Af'] = 0\n",
    "\n",
    "cvd.loc[cvd['race'] == 'AmInd', 'race_Am'] = 1\n",
    "cvd.loc[cvd['race'] != 'AmInd', 'race_Am'] = 0\n",
    "\n",
    "cvd['race_As'].value_counts()"
   ]
  },
  {
   "cell_type": "code",
   "execution_count": 21,
   "metadata": {
    "colab": {},
    "colab_type": "code",
    "id": "F9yGx7Un8OB8"
   },
   "outputs": [],
   "source": [
    "cvd.loc[cvd['bmi'] > 30, 'bmi_bin'] = 1\n",
    "cvd.loc[cvd['bmi'] <= 30, 'bmi_bin'] = 0"
   ]
  },
  {
   "cell_type": "code",
   "execution_count": 22,
   "metadata": {
    "colab": {
     "base_uri": "https://localhost:8080/",
     "height": 305
    },
    "colab_type": "code",
    "id": "vfEBHU3z8FoS",
    "outputId": "0689b8fd-d4aa-43ef-dc5a-ee148d7f8a92"
   },
   "outputs": [
    {
     "data": {
      "text/html": [
       "<div>\n",
       "<style scoped>\n",
       "    .dataframe tbody tr th:only-of-type {\n",
       "        vertical-align: middle;\n",
       "    }\n",
       "\n",
       "    .dataframe tbody tr th {\n",
       "        vertical-align: top;\n",
       "    }\n",
       "\n",
       "    .dataframe thead th {\n",
       "        text-align: right;\n",
       "    }\n",
       "</style>\n",
       "<table border=\"1\" class=\"dataframe\">\n",
       "  <thead>\n",
       "    <tr style=\"text-align: right;\">\n",
       "      <th></th>\n",
       "      <th>patientID</th>\n",
       "      <th>age</th>\n",
       "      <th>htn</th>\n",
       "      <th>treat</th>\n",
       "      <th>smoking</th>\n",
       "      <th>race</th>\n",
       "      <th>t2d</th>\n",
       "      <th>gender</th>\n",
       "      <th>numAge</th>\n",
       "      <th>bmi</th>\n",
       "      <th>tchol</th>\n",
       "      <th>sbp</th>\n",
       "      <th>cvd</th>\n",
       "      <th>htn_bin</th>\n",
       "      <th>race_W</th>\n",
       "      <th>race_As</th>\n",
       "      <th>race_Af</th>\n",
       "      <th>race_Am</th>\n",
       "      <th>bmi_bin</th>\n",
       "    </tr>\n",
       "  </thead>\n",
       "  <tbody>\n",
       "    <tr>\n",
       "      <th>0</th>\n",
       "      <td>HHUID00519967</td>\n",
       "      <td>70-90</td>\n",
       "      <td>N</td>\n",
       "      <td>N</td>\n",
       "      <td>N</td>\n",
       "      <td>White</td>\n",
       "      <td>N</td>\n",
       "      <td>M</td>\n",
       "      <td>83</td>\n",
       "      <td>17</td>\n",
       "      <td>156</td>\n",
       "      <td>113</td>\n",
       "      <td>N</td>\n",
       "      <td>0.0</td>\n",
       "      <td>1.0</td>\n",
       "      <td>0.0</td>\n",
       "      <td>0.0</td>\n",
       "      <td>0.0</td>\n",
       "      <td>0.0</td>\n",
       "    </tr>\n",
       "    <tr>\n",
       "      <th>1</th>\n",
       "      <td>HHUID00379006</td>\n",
       "      <td>40-55</td>\n",
       "      <td>N</td>\n",
       "      <td>N</td>\n",
       "      <td>N</td>\n",
       "      <td>White</td>\n",
       "      <td>N</td>\n",
       "      <td>M</td>\n",
       "      <td>44</td>\n",
       "      <td>23</td>\n",
       "      <td>167</td>\n",
       "      <td>126</td>\n",
       "      <td>N</td>\n",
       "      <td>0.0</td>\n",
       "      <td>1.0</td>\n",
       "      <td>0.0</td>\n",
       "      <td>0.0</td>\n",
       "      <td>0.0</td>\n",
       "      <td>0.0</td>\n",
       "    </tr>\n",
       "    <tr>\n",
       "      <th>2</th>\n",
       "      <td>HHUID00357476</td>\n",
       "      <td>55-70</td>\n",
       "      <td>Y</td>\n",
       "      <td>Y</td>\n",
       "      <td>N</td>\n",
       "      <td>White</td>\n",
       "      <td>N</td>\n",
       "      <td>M</td>\n",
       "      <td>62</td>\n",
       "      <td>16</td>\n",
       "      <td>214</td>\n",
       "      <td>175</td>\n",
       "      <td>N</td>\n",
       "      <td>NaN</td>\n",
       "      <td>1.0</td>\n",
       "      <td>0.0</td>\n",
       "      <td>0.0</td>\n",
       "      <td>0.0</td>\n",
       "      <td>0.0</td>\n",
       "    </tr>\n",
       "    <tr>\n",
       "      <th>3</th>\n",
       "      <td>HHUID00862369</td>\n",
       "      <td>40-55</td>\n",
       "      <td>N</td>\n",
       "      <td>N</td>\n",
       "      <td>N</td>\n",
       "      <td>White</td>\n",
       "      <td>N</td>\n",
       "      <td>M</td>\n",
       "      <td>42</td>\n",
       "      <td>22</td>\n",
       "      <td>158</td>\n",
       "      <td>102</td>\n",
       "      <td>N</td>\n",
       "      <td>0.0</td>\n",
       "      <td>1.0</td>\n",
       "      <td>0.0</td>\n",
       "      <td>0.0</td>\n",
       "      <td>0.0</td>\n",
       "      <td>0.0</td>\n",
       "    </tr>\n",
       "    <tr>\n",
       "      <th>4</th>\n",
       "      <td>HHUID00481496</td>\n",
       "      <td>55-70</td>\n",
       "      <td>N</td>\n",
       "      <td>N</td>\n",
       "      <td>N</td>\n",
       "      <td>White</td>\n",
       "      <td>N</td>\n",
       "      <td>M</td>\n",
       "      <td>63</td>\n",
       "      <td>24</td>\n",
       "      <td>244</td>\n",
       "      <td>132</td>\n",
       "      <td>N</td>\n",
       "      <td>0.0</td>\n",
       "      <td>1.0</td>\n",
       "      <td>0.0</td>\n",
       "      <td>0.0</td>\n",
       "      <td>0.0</td>\n",
       "      <td>0.0</td>\n",
       "    </tr>\n",
       "  </tbody>\n",
       "</table>\n",
       "</div>"
      ],
      "text/plain": [
       "       patientID    age htn treat smoking   race t2d gender  numAge  bmi  \\\n",
       "0  HHUID00519967  70-90   N     N       N  White   N      M      83   17   \n",
       "1  HHUID00379006  40-55   N     N       N  White   N      M      44   23   \n",
       "2  HHUID00357476  55-70   Y     Y       N  White   N      M      62   16   \n",
       "3  HHUID00862369  40-55   N     N       N  White   N      M      42   22   \n",
       "4  HHUID00481496  55-70   N     N       N  White   N      M      63   24   \n",
       "\n",
       "   tchol  sbp cvd  htn_bin  race_W  race_As  race_Af  race_Am  bmi_bin  \n",
       "0    156  113   N      0.0     1.0      0.0      0.0      0.0      0.0  \n",
       "1    167  126   N      0.0     1.0      0.0      0.0      0.0      0.0  \n",
       "2    214  175   N      NaN     1.0      0.0      0.0      0.0      0.0  \n",
       "3    158  102   N      0.0     1.0      0.0      0.0      0.0      0.0  \n",
       "4    244  132   N      0.0     1.0      0.0      0.0      0.0      0.0  "
      ]
     },
     "execution_count": 22,
     "metadata": {},
     "output_type": "execute_result"
    }
   ],
   "source": [
    "cvd.head()"
   ]
  },
  {
   "cell_type": "markdown",
   "metadata": {
    "colab_type": "text",
    "id": "DdSDND5L6wqu"
   },
   "source": [
    "### Transform Data"
   ]
  },
  {
   "cell_type": "code",
   "execution_count": 25,
   "metadata": {
    "colab": {},
    "colab_type": "code",
    "id": "Ay6AQDjDifkJ"
   },
   "outputs": [],
   "source": [
    "def transform(valor):\n",
    "  if valor == 'Y':\n",
    "    return 1\n",
    "  else:\n",
    "    return 0"
   ]
  },
  {
   "cell_type": "code",
   "execution_count": 26,
   "metadata": {
    "colab": {},
    "colab_type": "code",
    "id": "dk15Xg8KnBjV"
   },
   "outputs": [],
   "source": [
    "def gender(valor):\n",
    "  if valor == 'F':\n",
    "    return 1\n",
    "  else:\n",
    "    return 0"
   ]
  },
  {
   "cell_type": "code",
   "execution_count": 27,
   "metadata": {
    "colab": {},
    "colab_type": "code",
    "id": "TgdHVENdnD4L"
   },
   "outputs": [],
   "source": [
    "cvd['htn'] = cvd['htn'].map(transform) \n",
    "cvd['treat'] = cvd['treat'].map(transform) \n",
    "cvd['smoking'] = cvd['smoking'].map(transform) \n",
    "cvd['t2d'] = cvd['t2d'].map(transform) \n",
    "cvd['cvd'] = cvd['cvd'].map(transform) \n",
    "cvd['gender'] = cvd['gender'].map(gender) "
   ]
  },
  {
   "cell_type": "code",
   "execution_count": 28,
   "metadata": {
    "colab": {
     "base_uri": "https://localhost:8080/",
     "height": 101
    },
    "colab_type": "code",
    "id": "A91ZL3UFnwNe",
    "outputId": "55ba8bf2-7b09-4612-a61f-5f4a12385f55"
   },
   "outputs": [
    {
     "data": {
      "text/plain": [
       "White         335201\n",
       "Asian/PI       84840\n",
       "Black/AfAm     23722\n",
       "AmInd           2440\n",
       "Name: race, dtype: int64"
      ]
     },
     "execution_count": 28,
     "metadata": {},
     "output_type": "execute_result"
    }
   ],
   "source": [
    "cvd.race.value_counts()"
   ]
  },
  {
   "cell_type": "code",
   "execution_count": 29,
   "metadata": {
    "colab": {},
    "colab_type": "code",
    "id": "n49CYpdinqvq"
   },
   "outputs": [],
   "source": [
    "cvd['asian'] = 0\n",
    "cvd.loc[ cvd['race'] == 'Asian/PI', 'asian' ] = 1\n",
    "\n",
    "cvd['white'] = 0\n",
    "cvd.loc[ cvd['race'] == 'White', 'asian' ] = 1\n",
    "\n",
    "cvd['black'] = 0\n",
    "cvd.loc[ cvd['race'] == 'Black/AfAm', 'black' ] = 1\n",
    "\n",
    "cvd['amind'] = 0\n",
    "cvd.loc[ cvd['race'] == 'AmInd', 'asian' ] = 1"
   ]
  },
  {
   "cell_type": "code",
   "execution_count": 30,
   "metadata": {
    "colab": {},
    "colab_type": "code",
    "id": "t9DrJuT8omJ6"
   },
   "outputs": [],
   "source": [
    "cvd = cvd.drop('race', 1)"
   ]
  },
  {
   "cell_type": "markdown",
   "metadata": {
    "colab_type": "text",
    "id": "4tzOOMRMpATr"
   },
   "source": [
    "### Data types"
   ]
  },
  {
   "cell_type": "code",
   "execution_count": 31,
   "metadata": {
    "colab": {
     "base_uri": "https://localhost:8080/",
     "height": 195
    },
    "colab_type": "code",
    "id": "8ZL5qtCJpCpx",
    "outputId": "f2783405-2933-41f3-dff9-ffc3b0f804e3"
   },
   "outputs": [
    {
     "data": {
      "text/html": [
       "<div>\n",
       "<style scoped>\n",
       "    .dataframe tbody tr th:only-of-type {\n",
       "        vertical-align: middle;\n",
       "    }\n",
       "\n",
       "    .dataframe tbody tr th {\n",
       "        vertical-align: top;\n",
       "    }\n",
       "\n",
       "    .dataframe thead th {\n",
       "        text-align: right;\n",
       "    }\n",
       "</style>\n",
       "<table border=\"1\" class=\"dataframe\">\n",
       "  <thead>\n",
       "    <tr style=\"text-align: right;\">\n",
       "      <th></th>\n",
       "      <th>patientID</th>\n",
       "      <th>age</th>\n",
       "      <th>htn</th>\n",
       "      <th>treat</th>\n",
       "      <th>smoking</th>\n",
       "      <th>t2d</th>\n",
       "      <th>gender</th>\n",
       "      <th>numAge</th>\n",
       "      <th>bmi</th>\n",
       "      <th>tchol</th>\n",
       "      <th>...</th>\n",
       "      <th>htn_bin</th>\n",
       "      <th>race_W</th>\n",
       "      <th>race_As</th>\n",
       "      <th>race_Af</th>\n",
       "      <th>race_Am</th>\n",
       "      <th>bmi_bin</th>\n",
       "      <th>asian</th>\n",
       "      <th>white</th>\n",
       "      <th>black</th>\n",
       "      <th>amind</th>\n",
       "    </tr>\n",
       "  </thead>\n",
       "  <tbody>\n",
       "    <tr>\n",
       "      <th>0</th>\n",
       "      <td>HHUID00519967</td>\n",
       "      <td>70-90</td>\n",
       "      <td>0</td>\n",
       "      <td>0</td>\n",
       "      <td>0</td>\n",
       "      <td>0</td>\n",
       "      <td>0</td>\n",
       "      <td>83</td>\n",
       "      <td>17</td>\n",
       "      <td>156</td>\n",
       "      <td>...</td>\n",
       "      <td>0.0</td>\n",
       "      <td>1.0</td>\n",
       "      <td>0.0</td>\n",
       "      <td>0.0</td>\n",
       "      <td>0.0</td>\n",
       "      <td>0.0</td>\n",
       "      <td>1</td>\n",
       "      <td>0</td>\n",
       "      <td>0</td>\n",
       "      <td>0</td>\n",
       "    </tr>\n",
       "    <tr>\n",
       "      <th>1</th>\n",
       "      <td>HHUID00379006</td>\n",
       "      <td>40-55</td>\n",
       "      <td>0</td>\n",
       "      <td>0</td>\n",
       "      <td>0</td>\n",
       "      <td>0</td>\n",
       "      <td>0</td>\n",
       "      <td>44</td>\n",
       "      <td>23</td>\n",
       "      <td>167</td>\n",
       "      <td>...</td>\n",
       "      <td>0.0</td>\n",
       "      <td>1.0</td>\n",
       "      <td>0.0</td>\n",
       "      <td>0.0</td>\n",
       "      <td>0.0</td>\n",
       "      <td>0.0</td>\n",
       "      <td>1</td>\n",
       "      <td>0</td>\n",
       "      <td>0</td>\n",
       "      <td>0</td>\n",
       "    </tr>\n",
       "    <tr>\n",
       "      <th>2</th>\n",
       "      <td>HHUID00357476</td>\n",
       "      <td>55-70</td>\n",
       "      <td>1</td>\n",
       "      <td>1</td>\n",
       "      <td>0</td>\n",
       "      <td>0</td>\n",
       "      <td>0</td>\n",
       "      <td>62</td>\n",
       "      <td>16</td>\n",
       "      <td>214</td>\n",
       "      <td>...</td>\n",
       "      <td>NaN</td>\n",
       "      <td>1.0</td>\n",
       "      <td>0.0</td>\n",
       "      <td>0.0</td>\n",
       "      <td>0.0</td>\n",
       "      <td>0.0</td>\n",
       "      <td>1</td>\n",
       "      <td>0</td>\n",
       "      <td>0</td>\n",
       "      <td>0</td>\n",
       "    </tr>\n",
       "    <tr>\n",
       "      <th>3</th>\n",
       "      <td>HHUID00862369</td>\n",
       "      <td>40-55</td>\n",
       "      <td>0</td>\n",
       "      <td>0</td>\n",
       "      <td>0</td>\n",
       "      <td>0</td>\n",
       "      <td>0</td>\n",
       "      <td>42</td>\n",
       "      <td>22</td>\n",
       "      <td>158</td>\n",
       "      <td>...</td>\n",
       "      <td>0.0</td>\n",
       "      <td>1.0</td>\n",
       "      <td>0.0</td>\n",
       "      <td>0.0</td>\n",
       "      <td>0.0</td>\n",
       "      <td>0.0</td>\n",
       "      <td>1</td>\n",
       "      <td>0</td>\n",
       "      <td>0</td>\n",
       "      <td>0</td>\n",
       "    </tr>\n",
       "    <tr>\n",
       "      <th>4</th>\n",
       "      <td>HHUID00481496</td>\n",
       "      <td>55-70</td>\n",
       "      <td>0</td>\n",
       "      <td>0</td>\n",
       "      <td>0</td>\n",
       "      <td>0</td>\n",
       "      <td>0</td>\n",
       "      <td>63</td>\n",
       "      <td>24</td>\n",
       "      <td>244</td>\n",
       "      <td>...</td>\n",
       "      <td>0.0</td>\n",
       "      <td>1.0</td>\n",
       "      <td>0.0</td>\n",
       "      <td>0.0</td>\n",
       "      <td>0.0</td>\n",
       "      <td>0.0</td>\n",
       "      <td>1</td>\n",
       "      <td>0</td>\n",
       "      <td>0</td>\n",
       "      <td>0</td>\n",
       "    </tr>\n",
       "  </tbody>\n",
       "</table>\n",
       "<p>5 rows × 22 columns</p>\n",
       "</div>"
      ],
      "text/plain": [
       "       patientID    age  htn  treat  smoking  t2d  gender  numAge  bmi  tchol  \\\n",
       "0  HHUID00519967  70-90    0      0        0    0       0      83   17    156   \n",
       "1  HHUID00379006  40-55    0      0        0    0       0      44   23    167   \n",
       "2  HHUID00357476  55-70    1      1        0    0       0      62   16    214   \n",
       "3  HHUID00862369  40-55    0      0        0    0       0      42   22    158   \n",
       "4  HHUID00481496  55-70    0      0        0    0       0      63   24    244   \n",
       "\n",
       "   ...  htn_bin  race_W  race_As  race_Af  race_Am  bmi_bin  asian  white  \\\n",
       "0  ...      0.0     1.0      0.0      0.0      0.0      0.0      1      0   \n",
       "1  ...      0.0     1.0      0.0      0.0      0.0      0.0      1      0   \n",
       "2  ...      NaN     1.0      0.0      0.0      0.0      0.0      1      0   \n",
       "3  ...      0.0     1.0      0.0      0.0      0.0      0.0      1      0   \n",
       "4  ...      0.0     1.0      0.0      0.0      0.0      0.0      1      0   \n",
       "\n",
       "   black  amind  \n",
       "0      0      0  \n",
       "1      0      0  \n",
       "2      0      0  \n",
       "3      0      0  \n",
       "4      0      0  \n",
       "\n",
       "[5 rows x 22 columns]"
      ]
     },
     "execution_count": 31,
     "metadata": {},
     "output_type": "execute_result"
    }
   ],
   "source": [
    "cvd.head()"
   ]
  },
  {
   "cell_type": "markdown",
   "metadata": {
    "colab_type": "text",
    "id": "YNLP4RMmotzT"
   },
   "source": [
    "age is categorical or numerical?"
   ]
  },
  {
   "cell_type": "code",
   "execution_count": 32,
   "metadata": {
    "colab": {
     "base_uri": "https://localhost:8080/",
     "height": 118
    },
    "colab_type": "code",
    "id": "dCkM6K0Zow3N",
    "outputId": "03c53a75-85e4-4fe9-e812-f2e87add9dc6"
   },
   "outputs": [
    {
     "data": {
      "text/plain": [
       "20-40    142397\n",
       "40-55    117790\n",
       "55-70     98978\n",
       "70-90     45461\n",
       "0-20      41577\n",
       "Name: age, dtype: int64"
      ]
     },
     "execution_count": 32,
     "metadata": {},
     "output_type": "execute_result"
    }
   ],
   "source": [
    "cvd.age.value_counts()"
   ]
  },
  {
   "cell_type": "markdown",
   "metadata": {
    "colab_type": "text",
    "id": "DomoRnXMUP3v"
   },
   "source": [
    "### Prepare Train Data"
   ]
  },
  {
   "cell_type": "code",
   "execution_count": 33,
   "metadata": {
    "colab": {
     "base_uri": "https://localhost:8080/",
     "height": 204
    },
    "colab_type": "code",
    "id": "0j0Ozdm2fF7G",
    "outputId": "0ce6e7e4-9864-4d09-973f-e0d89ca573e0"
   },
   "outputs": [
    {
     "data": {
      "text/html": [
       "<div>\n",
       "<style scoped>\n",
       "    .dataframe tbody tr th:only-of-type {\n",
       "        vertical-align: middle;\n",
       "    }\n",
       "\n",
       "    .dataframe tbody tr th {\n",
       "        vertical-align: top;\n",
       "    }\n",
       "\n",
       "    .dataframe thead th {\n",
       "        text-align: right;\n",
       "    }\n",
       "</style>\n",
       "<table border=\"1\" class=\"dataframe\">\n",
       "  <thead>\n",
       "    <tr style=\"text-align: right;\">\n",
       "      <th></th>\n",
       "      <th>patientID</th>\n",
       "      <th>age</th>\n",
       "      <th>htn</th>\n",
       "      <th>treat</th>\n",
       "      <th>smoking</th>\n",
       "      <th>t2d</th>\n",
       "      <th>gender</th>\n",
       "      <th>numAge</th>\n",
       "      <th>bmi</th>\n",
       "      <th>tchol</th>\n",
       "      <th>...</th>\n",
       "      <th>htn_bin</th>\n",
       "      <th>race_W</th>\n",
       "      <th>race_As</th>\n",
       "      <th>race_Af</th>\n",
       "      <th>race_Am</th>\n",
       "      <th>bmi_bin</th>\n",
       "      <th>asian</th>\n",
       "      <th>white</th>\n",
       "      <th>black</th>\n",
       "      <th>amind</th>\n",
       "    </tr>\n",
       "  </thead>\n",
       "  <tbody>\n",
       "    <tr>\n",
       "      <th>0</th>\n",
       "      <td>HHUID00519967</td>\n",
       "      <td>70-90</td>\n",
       "      <td>0</td>\n",
       "      <td>0</td>\n",
       "      <td>0</td>\n",
       "      <td>0</td>\n",
       "      <td>0</td>\n",
       "      <td>83</td>\n",
       "      <td>17</td>\n",
       "      <td>156</td>\n",
       "      <td>...</td>\n",
       "      <td>0.0</td>\n",
       "      <td>1.0</td>\n",
       "      <td>0.0</td>\n",
       "      <td>0.0</td>\n",
       "      <td>0.0</td>\n",
       "      <td>0.0</td>\n",
       "      <td>1</td>\n",
       "      <td>0</td>\n",
       "      <td>0</td>\n",
       "      <td>0</td>\n",
       "    </tr>\n",
       "    <tr>\n",
       "      <th>1</th>\n",
       "      <td>HHUID00379006</td>\n",
       "      <td>40-55</td>\n",
       "      <td>0</td>\n",
       "      <td>0</td>\n",
       "      <td>0</td>\n",
       "      <td>0</td>\n",
       "      <td>0</td>\n",
       "      <td>44</td>\n",
       "      <td>23</td>\n",
       "      <td>167</td>\n",
       "      <td>...</td>\n",
       "      <td>0.0</td>\n",
       "      <td>1.0</td>\n",
       "      <td>0.0</td>\n",
       "      <td>0.0</td>\n",
       "      <td>0.0</td>\n",
       "      <td>0.0</td>\n",
       "      <td>1</td>\n",
       "      <td>0</td>\n",
       "      <td>0</td>\n",
       "      <td>0</td>\n",
       "    </tr>\n",
       "    <tr>\n",
       "      <th>2</th>\n",
       "      <td>HHUID00357476</td>\n",
       "      <td>55-70</td>\n",
       "      <td>1</td>\n",
       "      <td>1</td>\n",
       "      <td>0</td>\n",
       "      <td>0</td>\n",
       "      <td>0</td>\n",
       "      <td>62</td>\n",
       "      <td>16</td>\n",
       "      <td>214</td>\n",
       "      <td>...</td>\n",
       "      <td>NaN</td>\n",
       "      <td>1.0</td>\n",
       "      <td>0.0</td>\n",
       "      <td>0.0</td>\n",
       "      <td>0.0</td>\n",
       "      <td>0.0</td>\n",
       "      <td>1</td>\n",
       "      <td>0</td>\n",
       "      <td>0</td>\n",
       "      <td>0</td>\n",
       "    </tr>\n",
       "    <tr>\n",
       "      <th>3</th>\n",
       "      <td>HHUID00862369</td>\n",
       "      <td>40-55</td>\n",
       "      <td>0</td>\n",
       "      <td>0</td>\n",
       "      <td>0</td>\n",
       "      <td>0</td>\n",
       "      <td>0</td>\n",
       "      <td>42</td>\n",
       "      <td>22</td>\n",
       "      <td>158</td>\n",
       "      <td>...</td>\n",
       "      <td>0.0</td>\n",
       "      <td>1.0</td>\n",
       "      <td>0.0</td>\n",
       "      <td>0.0</td>\n",
       "      <td>0.0</td>\n",
       "      <td>0.0</td>\n",
       "      <td>1</td>\n",
       "      <td>0</td>\n",
       "      <td>0</td>\n",
       "      <td>0</td>\n",
       "    </tr>\n",
       "    <tr>\n",
       "      <th>4</th>\n",
       "      <td>HHUID00481496</td>\n",
       "      <td>55-70</td>\n",
       "      <td>0</td>\n",
       "      <td>0</td>\n",
       "      <td>0</td>\n",
       "      <td>0</td>\n",
       "      <td>0</td>\n",
       "      <td>63</td>\n",
       "      <td>24</td>\n",
       "      <td>244</td>\n",
       "      <td>...</td>\n",
       "      <td>0.0</td>\n",
       "      <td>1.0</td>\n",
       "      <td>0.0</td>\n",
       "      <td>0.0</td>\n",
       "      <td>0.0</td>\n",
       "      <td>0.0</td>\n",
       "      <td>1</td>\n",
       "      <td>0</td>\n",
       "      <td>0</td>\n",
       "      <td>0</td>\n",
       "    </tr>\n",
       "  </tbody>\n",
       "</table>\n",
       "<p>5 rows × 22 columns</p>\n",
       "</div>"
      ],
      "text/plain": [
       "       patientID    age  htn  treat  smoking  t2d  gender  numAge  bmi  tchol  \\\n",
       "0  HHUID00519967  70-90    0      0        0    0       0      83   17    156   \n",
       "1  HHUID00379006  40-55    0      0        0    0       0      44   23    167   \n",
       "2  HHUID00357476  55-70    1      1        0    0       0      62   16    214   \n",
       "3  HHUID00862369  40-55    0      0        0    0       0      42   22    158   \n",
       "4  HHUID00481496  55-70    0      0        0    0       0      63   24    244   \n",
       "\n",
       "   ...  htn_bin  race_W  race_As  race_Af  race_Am  bmi_bin  asian  white  \\\n",
       "0  ...      0.0     1.0      0.0      0.0      0.0      0.0      1      0   \n",
       "1  ...      0.0     1.0      0.0      0.0      0.0      0.0      1      0   \n",
       "2  ...      NaN     1.0      0.0      0.0      0.0      0.0      1      0   \n",
       "3  ...      0.0     1.0      0.0      0.0      0.0      0.0      1      0   \n",
       "4  ...      0.0     1.0      0.0      0.0      0.0      0.0      1      0   \n",
       "\n",
       "   black  amind  \n",
       "0      0      0  \n",
       "1      0      0  \n",
       "2      0      0  \n",
       "3      0      0  \n",
       "4      0      0  \n",
       "\n",
       "[5 rows x 22 columns]"
      ]
     },
     "execution_count": 33,
     "metadata": {},
     "output_type": "execute_result"
    }
   ],
   "source": [
    "cvd.head()"
   ]
  },
  {
   "cell_type": "code",
   "execution_count": 34,
   "metadata": {},
   "outputs": [
    {
     "data": {
      "text/plain": [
       "Index(['patientID', 'age', 'htn', 'treat', 'smoking', 't2d', 'gender',\n",
       "       'numAge', 'bmi', 'tchol', 'sbp', 'cvd', 'htn_bin', 'race_W', 'race_As',\n",
       "       'race_Af', 'race_Am', 'bmi_bin', 'asian', 'white', 'black', 'amind'],\n",
       "      dtype='object')"
      ]
     },
     "execution_count": 34,
     "metadata": {},
     "output_type": "execute_result"
    }
   ],
   "source": [
    "cvd.columns"
   ]
  },
  {
   "cell_type": "code",
   "execution_count": 35,
   "metadata": {},
   "outputs": [],
   "source": [
    "cvd = cvd.dropna()"
   ]
  },
  {
   "cell_type": "code",
   "execution_count": 37,
   "metadata": {},
   "outputs": [],
   "source": [
    "X = cvd[['htn', 'treat', 'smoking', 't2d', 'gender',\n",
    "       'numAge', 'bmi', 'tchol', 'sbp', 'htn_bin', 'race_W', 'race_As',\n",
    "       'race_Af', 'race_Am', 'bmi_bin', 'asian', 'white', 'black', 'amind']]\n",
    "y = cvd.cvd"
   ]
  },
  {
   "cell_type": "markdown",
   "metadata": {
    "colab_type": "text",
    "id": "25q2GSCUS6pn"
   },
   "source": [
    "### Split Train Test"
   ]
  },
  {
   "cell_type": "code",
   "execution_count": 39,
   "metadata": {
    "colab": {},
    "colab_type": "code",
    "id": "i87I3V4MS56F"
   },
   "outputs": [],
   "source": [
    "from sklearn.model_selection import train_test_split \n",
    "X_train, X_test, y_train, y_test = train_test_split(X, y, test_size=0.33, random_state=0) "
   ]
  },
  {
   "cell_type": "markdown",
   "metadata": {
    "colab_type": "text",
    "id": "5lsi6-FelNWh"
   },
   "source": [
    "### Prepare model, train, predict and evaluate"
   ]
  },
  {
   "cell_type": "code",
   "execution_count": 1,
   "metadata": {
    "colab": {},
    "colab_type": "code",
    "id": "HbTLgo5Io84b"
   },
   "outputs": [
    {
     "name": "stdout",
     "output_type": "stream",
     "text": [
      "Requirement already satisfied: xgboost in c:\\users\\fabia\\miniconda3\\envs\\ds\\lib\\site-packages (0.90)\n",
      "Requirement already satisfied: numpy in c:\\users\\fabia\\miniconda3\\envs\\ds\\lib\\site-packages (from xgboost) (1.16.4)\n",
      "Requirement already satisfied: scipy in c:\\users\\fabia\\miniconda3\\envs\\ds\\lib\\site-packages (from xgboost) (1.3.1)\n"
     ]
    }
   ],
   "source": [
    "!pip install xgboost"
   ]
  },
  {
   "cell_type": "code",
   "execution_count": null,
   "metadata": {},
   "outputs": [],
   "source": [
    "# Import models\n",
    "from sklearn.ensemble import RandomForestClassifier\n",
    "import xgboost as xgb\n",
    "from sklearn.linear_model import LogisticRegression\n",
    "from sklearn.svm import SVC\n",
    "from sklearn.neighbors import KNeighborsClassifier\n",
    "clf1 = LogisticRegression() # regressão logistica\n",
    "clf2 = RandomForestClassifier() # arvores aleatorias\n",
    "clf3 = xgb.XGBClassifier() # boost gradient\n",
    "clf4 = SVC(gamma='auto')\n",
    "clf5 = KNeighborsClassifier(n_neighbors=3)\n",
    "\n",
    "# Train, Predict and Evaluate the model \n",
    "from sklearn.metrics import accuracy_score, classification_report, recall_score\n",
    "from sklearn.model_selection import cross_val_score\n",
    "for clf, label in zip([clf1, clf2, clf3, clf4, clf5], \n",
    "                      ['Logistic Regression', 'Random Forest', 'XGBoost', 'SVM', 'KNN']):\n",
    "    clf.fit(X_train, y_train) #training model\n",
    "    p = clf.predict(X_test) #predicting model\n",
    "    scores = cross_val_score(clf, X_test, y_test, cv=10, scoring='recall_macro')\n",
    "    print(label)\n",
    "    print(classification_report(y_test, p)) #evaluating model\n",
    "    print('Sensibilidade =', recall_score(y_test, p))\n",
    "    print('Sensibilidade da Validação Cruzada', np.mean(scores))\n",
    "    print(\"_______________________________________________________\")"
   ]
  },
  {
   "cell_type": "code",
   "execution_count": null,
   "metadata": {
    "colab": {
     "base_uri": "https://localhost:8080/",
     "height": 34
    },
    "colab_type": "code",
    "id": "na1P_d6LjbYc",
    "outputId": "90fbeaf7-04f6-4f6f-ef28-ff9a2d8e4769"
   },
   "outputs": [
    {
     "data": {
      "text/plain": [
       "array([0, 0, 0, ..., 0, 0, 0])"
      ]
     },
     "execution_count": 40,
     "metadata": {
      "tags": []
     },
     "output_type": "execute_result"
    }
   ],
   "source": [
    "p"
   ]
  },
  {
   "cell_type": "code",
   "execution_count": null,
   "metadata": {
    "colab": {},
    "colab_type": "code",
    "id": "jXwmf_vcjdNs"
   },
   "outputs": [],
   "source": [
    "sub = pd.Series(p, index=cvd_test['patientID'], name='cvd_bin')"
   ]
  },
  {
   "cell_type": "code",
   "execution_count": null,
   "metadata": {
    "colab": {},
    "colab_type": "code",
    "id": "4Gna-SnOjsUj"
   },
   "outputs": [],
   "source": [
    "sub.to_csv('primeiro.csv', header=True)"
   ]
  },
  {
   "cell_type": "code",
   "execution_count": null,
   "metadata": {
    "colab": {
     "base_uri": "https://localhost:8080/",
     "height": 187
    },
    "colab_type": "code",
    "id": "7tro4M41kB9u",
    "outputId": "b208d056-de28-4760-a291-7ef244ad9adf"
   },
   "outputs": [
    {
     "name": "stdout",
     "output_type": "stream",
     "text": [
      "patientID,cvd_bin\n",
      "HHUID00209262,0\n",
      "HHUID00618715,0\n",
      "HHUID00077486,0\n",
      "HHUID00791386,0\n",
      "HHUID00468893,0\n",
      "HHUID00626459,0\n",
      "HHUID00514950,0\n",
      "HHUID00470212,0\n",
      "HHUID00753570,0\n"
     ]
    }
   ],
   "source": [
    "!head -n10 primeiro.csv"
   ]
  }
 ],
 "metadata": {
  "accelerator": "GPU",
  "colab": {
   "collapsed_sections": [],
   "machine_shape": "hm",
   "name": "cardiovascular.ipynb",
   "provenance": [],
   "toc_visible": true
  },
  "kernelspec": {
   "display_name": "Python 3",
   "language": "python",
   "name": "python3"
  },
  "language_info": {
   "codemirror_mode": {
    "name": "ipython",
    "version": 3
   },
   "file_extension": ".py",
   "mimetype": "text/x-python",
   "name": "python",
   "nbconvert_exporter": "python",
   "pygments_lexer": "ipython3",
   "version": "3.7.4"
  }
 },
 "nbformat": 4,
 "nbformat_minor": 4
}
