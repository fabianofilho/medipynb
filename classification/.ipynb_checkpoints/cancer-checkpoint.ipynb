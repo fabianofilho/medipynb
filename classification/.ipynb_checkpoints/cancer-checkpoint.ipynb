{
 "cells": [
  {
   "cell_type": "markdown",
   "metadata": {
    "colab_type": "text",
    "id": "atEHIbeL9Sef"
   },
   "source": [
    "# Bibliotecas"
   ]
  },
  {
   "cell_type": "code",
   "execution_count": 2,
   "metadata": {
    "colab": {},
    "colab_type": "code",
    "id": "6aOwgiPq9U64"
   },
   "outputs": [],
   "source": [
    "import pandas as pd #análise de dados em tabelas\n",
    "import numpy as np #análise de números\n",
    "import seaborn as sb #análise em gráficos\n",
    "from sklearn.model_selection import train_test_split"
   ]
  },
  {
   "cell_type": "markdown",
   "metadata": {
    "colab_type": "text",
    "id": "EU8vhkZ6gfG0"
   },
   "source": [
    "# Cancer Machine Learning Classification Model\n",
    "With numerical variables"
   ]
  },
  {
   "cell_type": "code",
   "execution_count": 3,
   "metadata": {
    "colab": {},
    "colab_type": "code",
    "id": "03nSlatR_wVu"
   },
   "outputs": [],
   "source": [
    "cols_ca = ['mean_radius',\n",
    " 'mean_texture',\n",
    " 'mean_perimeter',\n",
    " 'mean_area',\n",
    " 'mean_smoothness',\n",
    " 'mean_compactness',\n",
    " 'mean_concavity',\n",
    " 'mean_concave_points',\n",
    " 'mean_symmetry',\n",
    " 'mean_fractal_dimension',\n",
    " 'radius_error',\n",
    " 'texture_error',\n",
    " 'perimeter_error',\n",
    " 'area_error',\n",
    " 'smoothness_error',\n",
    " 'compactness_error',\n",
    " 'concavity_error',\n",
    " 'concave_points_error',\n",
    " 'symmetry_error',\n",
    " 'fractal_dimension_error',\n",
    " 'worst_radius',\n",
    " 'worst_texture',\n",
    " 'worst_perimeter',\n",
    " 'worst_area',\n",
    " 'worst_smoothness',\n",
    " 'worst_compactness',\n",
    " 'worst_concavity',\n",
    " 'worst_concave_points',\n",
    " 'worst_symmetry',\n",
    " 'worst_fractal_dimension',\n",
    " 'target']"
   ]
  },
  {
   "cell_type": "code",
   "execution_count": 4,
   "metadata": {
    "colab": {},
    "colab_type": "code",
    "id": "YtJgcZAgpHO2"
   },
   "outputs": [],
   "source": [
    "ca = pd.read_csv(\"http://bit.ly/cadados\", names=cols_ca, decimal=',')"
   ]
  },
  {
   "cell_type": "code",
   "execution_count": 5,
   "metadata": {
    "colab": {
     "base_uri": "https://localhost:8080/",
     "height": 215
    },
    "colab_type": "code",
    "id": "xtYgEGarDwoO",
    "outputId": "05f3b279-da86-4959-c1cd-afe2e9d2fea1"
   },
   "outputs": [
    {
     "data": {
      "text/html": [
       "<div>\n",
       "<style scoped>\n",
       "    .dataframe tbody tr th:only-of-type {\n",
       "        vertical-align: middle;\n",
       "    }\n",
       "\n",
       "    .dataframe tbody tr th {\n",
       "        vertical-align: top;\n",
       "    }\n",
       "\n",
       "    .dataframe thead th {\n",
       "        text-align: right;\n",
       "    }\n",
       "</style>\n",
       "<table border=\"1\" class=\"dataframe\">\n",
       "  <thead>\n",
       "    <tr style=\"text-align: right;\">\n",
       "      <th></th>\n",
       "      <th>mean_radius</th>\n",
       "      <th>mean_texture</th>\n",
       "      <th>mean_perimeter</th>\n",
       "      <th>mean_area</th>\n",
       "      <th>mean_smoothness</th>\n",
       "      <th>mean_compactness</th>\n",
       "      <th>mean_concavity</th>\n",
       "      <th>mean_concave_points</th>\n",
       "      <th>mean_symmetry</th>\n",
       "      <th>mean_fractal_dimension</th>\n",
       "      <th>...</th>\n",
       "      <th>worst_texture</th>\n",
       "      <th>worst_perimeter</th>\n",
       "      <th>worst_area</th>\n",
       "      <th>worst_smoothness</th>\n",
       "      <th>worst_compactness</th>\n",
       "      <th>worst_concavity</th>\n",
       "      <th>worst_concave_points</th>\n",
       "      <th>worst_symmetry</th>\n",
       "      <th>worst_fractal_dimension</th>\n",
       "      <th>target</th>\n",
       "    </tr>\n",
       "  </thead>\n",
       "  <tbody>\n",
       "    <tr>\n",
       "      <th>0</th>\n",
       "      <td>17.99</td>\n",
       "      <td>10.38</td>\n",
       "      <td>122.80</td>\n",
       "      <td>1001.0</td>\n",
       "      <td>0.0</td>\n",
       "      <td>0.0</td>\n",
       "      <td>0.0</td>\n",
       "      <td>0.0</td>\n",
       "      <td>0.0</td>\n",
       "      <td>0.0</td>\n",
       "      <td>...</td>\n",
       "      <td>17.33</td>\n",
       "      <td>184.60</td>\n",
       "      <td>2019.0</td>\n",
       "      <td>0.0</td>\n",
       "      <td>1.0</td>\n",
       "      <td>1.0</td>\n",
       "      <td>0.0</td>\n",
       "      <td>0.0</td>\n",
       "      <td>0.0</td>\n",
       "      <td>0.0</td>\n",
       "    </tr>\n",
       "    <tr>\n",
       "      <th>1</th>\n",
       "      <td>20.57</td>\n",
       "      <td>17.77</td>\n",
       "      <td>132.90</td>\n",
       "      <td>1326.0</td>\n",
       "      <td>0.0</td>\n",
       "      <td>0.0</td>\n",
       "      <td>0.0</td>\n",
       "      <td>0.0</td>\n",
       "      <td>0.0</td>\n",
       "      <td>0.0</td>\n",
       "      <td>...</td>\n",
       "      <td>23.41</td>\n",
       "      <td>158.80</td>\n",
       "      <td>1956.0</td>\n",
       "      <td>0.0</td>\n",
       "      <td>0.0</td>\n",
       "      <td>0.0</td>\n",
       "      <td>0.0</td>\n",
       "      <td>0.0</td>\n",
       "      <td>0.0</td>\n",
       "      <td>0.0</td>\n",
       "    </tr>\n",
       "    <tr>\n",
       "      <th>2</th>\n",
       "      <td>19.69</td>\n",
       "      <td>21.25</td>\n",
       "      <td>130.00</td>\n",
       "      <td>1203.0</td>\n",
       "      <td>0.0</td>\n",
       "      <td>0.0</td>\n",
       "      <td>0.0</td>\n",
       "      <td>0.0</td>\n",
       "      <td>0.0</td>\n",
       "      <td>0.0</td>\n",
       "      <td>...</td>\n",
       "      <td>25.53</td>\n",
       "      <td>152.50</td>\n",
       "      <td>1709.0</td>\n",
       "      <td>0.0</td>\n",
       "      <td>0.0</td>\n",
       "      <td>0.0</td>\n",
       "      <td>0.0</td>\n",
       "      <td>0.0</td>\n",
       "      <td>0.0</td>\n",
       "      <td>0.0</td>\n",
       "    </tr>\n",
       "    <tr>\n",
       "      <th>3</th>\n",
       "      <td>11.42</td>\n",
       "      <td>20.38</td>\n",
       "      <td>77.58</td>\n",
       "      <td>386.1</td>\n",
       "      <td>0.0</td>\n",
       "      <td>0.0</td>\n",
       "      <td>0.0</td>\n",
       "      <td>0.0</td>\n",
       "      <td>0.0</td>\n",
       "      <td>0.0</td>\n",
       "      <td>...</td>\n",
       "      <td>26.50</td>\n",
       "      <td>98.87</td>\n",
       "      <td>567.7</td>\n",
       "      <td>0.0</td>\n",
       "      <td>1.0</td>\n",
       "      <td>1.0</td>\n",
       "      <td>0.0</td>\n",
       "      <td>1.0</td>\n",
       "      <td>0.0</td>\n",
       "      <td>0.0</td>\n",
       "    </tr>\n",
       "    <tr>\n",
       "      <th>4</th>\n",
       "      <td>20.29</td>\n",
       "      <td>14.34</td>\n",
       "      <td>135.10</td>\n",
       "      <td>1297.0</td>\n",
       "      <td>0.0</td>\n",
       "      <td>0.0</td>\n",
       "      <td>0.0</td>\n",
       "      <td>0.0</td>\n",
       "      <td>0.0</td>\n",
       "      <td>0.0</td>\n",
       "      <td>...</td>\n",
       "      <td>16.67</td>\n",
       "      <td>152.20</td>\n",
       "      <td>1575.0</td>\n",
       "      <td>0.0</td>\n",
       "      <td>0.0</td>\n",
       "      <td>0.4</td>\n",
       "      <td>0.0</td>\n",
       "      <td>0.0</td>\n",
       "      <td>0.0</td>\n",
       "      <td>0.0</td>\n",
       "    </tr>\n",
       "  </tbody>\n",
       "</table>\n",
       "<p>5 rows × 31 columns</p>\n",
       "</div>"
      ],
      "text/plain": [
       "   mean_radius  mean_texture  mean_perimeter  mean_area  mean_smoothness  \\\n",
       "0        17.99         10.38          122.80     1001.0              0.0   \n",
       "1        20.57         17.77          132.90     1326.0              0.0   \n",
       "2        19.69         21.25          130.00     1203.0              0.0   \n",
       "3        11.42         20.38           77.58      386.1              0.0   \n",
       "4        20.29         14.34          135.10     1297.0              0.0   \n",
       "\n",
       "   mean_compactness  mean_concavity  mean_concave_points  mean_symmetry  \\\n",
       "0               0.0             0.0                  0.0            0.0   \n",
       "1               0.0             0.0                  0.0            0.0   \n",
       "2               0.0             0.0                  0.0            0.0   \n",
       "3               0.0             0.0                  0.0            0.0   \n",
       "4               0.0             0.0                  0.0            0.0   \n",
       "\n",
       "   mean_fractal_dimension  ...  worst_texture  worst_perimeter  worst_area  \\\n",
       "0                     0.0  ...          17.33           184.60      2019.0   \n",
       "1                     0.0  ...          23.41           158.80      1956.0   \n",
       "2                     0.0  ...          25.53           152.50      1709.0   \n",
       "3                     0.0  ...          26.50            98.87       567.7   \n",
       "4                     0.0  ...          16.67           152.20      1575.0   \n",
       "\n",
       "   worst_smoothness  worst_compactness  worst_concavity  worst_concave_points  \\\n",
       "0               0.0                1.0              1.0                   0.0   \n",
       "1               0.0                0.0              0.0                   0.0   \n",
       "2               0.0                0.0              0.0                   0.0   \n",
       "3               0.0                1.0              1.0                   0.0   \n",
       "4               0.0                0.0              0.4                   0.0   \n",
       "\n",
       "   worst_symmetry  worst_fractal_dimension  target  \n",
       "0             0.0                      0.0     0.0  \n",
       "1             0.0                      0.0     0.0  \n",
       "2             0.0                      0.0     0.0  \n",
       "3             1.0                      0.0     0.0  \n",
       "4             0.0                      0.0     0.0  \n",
       "\n",
       "[5 rows x 31 columns]"
      ]
     },
     "execution_count": 5,
     "metadata": {},
     "output_type": "execute_result"
    }
   ],
   "source": [
    "ca.head()"
   ]
  },
  {
   "cell_type": "code",
   "execution_count": 6,
   "metadata": {
    "colab": {
     "base_uri": "https://localhost:8080/",
     "height": 544
    },
    "colab_type": "code",
    "id": "Dc4vFPcOpsMC",
    "outputId": "d295af8d-735d-46b9-c932-cbfe2a6ce7c5"
   },
   "outputs": [
    {
     "data": {
      "text/plain": [
       "['mean_radius',\n",
       " 'mean_texture',\n",
       " 'mean_perimeter',\n",
       " 'mean_area',\n",
       " 'mean_smoothness',\n",
       " 'mean_compactness',\n",
       " 'mean_concavity',\n",
       " 'mean_concave_points',\n",
       " 'mean_symmetry',\n",
       " 'mean_fractal_dimension',\n",
       " 'radius_error',\n",
       " 'texture_error',\n",
       " 'perimeter_error',\n",
       " 'area_error',\n",
       " 'smoothness_error',\n",
       " 'compactness_error',\n",
       " 'concavity_error',\n",
       " 'concave_points_error',\n",
       " 'symmetry_error',\n",
       " 'fractal_dimension_error',\n",
       " 'worst_radius',\n",
       " 'worst_texture',\n",
       " 'worst_perimeter',\n",
       " 'worst_area',\n",
       " 'worst_smoothness',\n",
       " 'worst_compactness',\n",
       " 'worst_concavity',\n",
       " 'worst_concave_points',\n",
       " 'worst_symmetry',\n",
       " 'worst_fractal_dimension',\n",
       " 'target']"
      ]
     },
     "execution_count": 6,
     "metadata": {},
     "output_type": "execute_result"
    }
   ],
   "source": [
    "ca.columns.tolist()"
   ]
  },
  {
   "cell_type": "code",
   "execution_count": 7,
   "metadata": {
    "colab": {
     "base_uri": "https://localhost:8080/",
     "height": 34
    },
    "colab_type": "code",
    "id": "cRQl6aF2A9HX",
    "outputId": "19b6d84e-1c3a-4ab9-b5c4-b25f31202f9b"
   },
   "outputs": [
    {
     "data": {
      "text/plain": [
       "(573, 31)"
      ]
     },
     "execution_count": 7,
     "metadata": {},
     "output_type": "execute_result"
    }
   ],
   "source": [
    "ca.shape"
   ]
  },
  {
   "cell_type": "code",
   "execution_count": 8,
   "metadata": {
    "colab": {
     "base_uri": "https://localhost:8080/",
     "height": 561
    },
    "colab_type": "code",
    "id": "RfF9fMFRE_6V",
    "outputId": "ff204821-cd16-4e7e-c08b-0891c15e570e"
   },
   "outputs": [
    {
     "data": {
      "text/plain": [
       "mean_radius                  1\n",
       "mean_texture                 0\n",
       "mean_perimeter               1\n",
       "mean_area                    0\n",
       "mean_smoothness              2\n",
       "mean_compactness             0\n",
       "mean_concavity               0\n",
       "mean_concave_points          1\n",
       "mean_symmetry                0\n",
       "mean_fractal_dimension       1\n",
       "radius_error                 0\n",
       "texture_error                1\n",
       "perimeter_error              0\n",
       "area_error                   1\n",
       "smoothness_error             0\n",
       "compactness_error            1\n",
       "concavity_error              0\n",
       "concave_points_error         1\n",
       "symmetry_error               0\n",
       "fractal_dimension_error      0\n",
       "worst_radius                 2\n",
       "worst_texture                0\n",
       "worst_perimeter              1\n",
       "worst_area                   0\n",
       "worst_smoothness             2\n",
       "worst_compactness            0\n",
       "worst_concavity              2\n",
       "worst_concave_points       140\n",
       "worst_symmetry               0\n",
       "worst_fractal_dimension      1\n",
       "target                       4\n",
       "dtype: int64"
      ]
     },
     "execution_count": 8,
     "metadata": {},
     "output_type": "execute_result"
    }
   ],
   "source": [
    "ca.isnull().sum()"
   ]
  },
  {
   "cell_type": "code",
   "execution_count": 9,
   "metadata": {
    "colab": {},
    "colab_type": "code",
    "id": "-pgUhY4vE8_N"
   },
   "outputs": [],
   "source": [
    "#ca.dropna()\n",
    "#ca.shape"
   ]
  },
  {
   "cell_type": "code",
   "execution_count": 10,
   "metadata": {
    "colab": {},
    "colab_type": "code",
    "id": "FftOResqFMkm"
   },
   "outputs": [],
   "source": [
    "ca = ca.drop('worst_concave_points', 1)"
   ]
  },
  {
   "cell_type": "code",
   "execution_count": 11,
   "metadata": {
    "colab": {
     "base_uri": "https://localhost:8080/",
     "height": 34
    },
    "colab_type": "code",
    "id": "Ux_aaKqXFae-",
    "outputId": "1c188f6d-3403-4cc2-c35c-b038a97029fb"
   },
   "outputs": [
    {
     "data": {
      "text/plain": [
       "(552, 30)"
      ]
     },
     "execution_count": 11,
     "metadata": {},
     "output_type": "execute_result"
    }
   ],
   "source": [
    "ca.dropna(inplace=True)\n",
    "ca.shape"
   ]
  },
  {
   "cell_type": "code",
   "execution_count": 12,
   "metadata": {
    "colab": {},
    "colab_type": "code",
    "id": "nYmo4PaECE52"
   },
   "outputs": [],
   "source": [
    "X = ca.drop('target', 1)\n",
    "y = ca.target"
   ]
  },
  {
   "cell_type": "code",
   "execution_count": 13,
   "metadata": {
    "colab": {},
    "colab_type": "code",
    "id": "RS30MwauBDDR"
   },
   "outputs": [],
   "source": [
    "from sklearn.model_selection import train_test_split\n",
    "X_train, X_test, y_train, y_test = train_test_split(X, y, test_size=0.30, random_state=42)"
   ]
  },
  {
   "cell_type": "code",
   "execution_count": 15,
   "metadata": {},
   "outputs": [
    {
     "name": "stdout",
     "output_type": "stream",
     "text": [
      "Requirement already satisfied: xgboost in c:\\users\\fabia\\miniconda3\\envs\\ds\\lib\\site-packages (0.90)\n",
      "Requirement already satisfied: numpy in c:\\users\\fabia\\miniconda3\\envs\\ds\\lib\\site-packages (from xgboost) (1.16.4)\n",
      "Requirement already satisfied: scipy in c:\\users\\fabia\\miniconda3\\envs\\ds\\lib\\site-packages (from xgboost) (1.3.1)\n"
     ]
    }
   ],
   "source": [
    "!pip install xgboost"
   ]
  },
  {
   "cell_type": "code",
   "execution_count": 43,
   "metadata": {
    "colab": {},
    "colab_type": "code",
    "id": "Ss7NlR6jBk_q"
   },
   "outputs": [
    {
     "name": "stderr",
     "output_type": "stream",
     "text": [
      "C:\\Users\\fabia\\Miniconda3\\envs\\ds\\lib\\site-packages\\sklearn\\linear_model\\logistic.py:432: FutureWarning: Default solver will be changed to 'lbfgs' in 0.22. Specify a solver to silence this warning.\n",
      "  FutureWarning)\n",
      "C:\\Users\\fabia\\Miniconda3\\envs\\ds\\lib\\site-packages\\sklearn\\ensemble\\forest.py:245: FutureWarning: The default value of n_estimators will change from 10 in version 0.20 to 100 in 0.22.\n",
      "  \"10 in version 0.20 to 100 in 0.22.\", FutureWarning)\n"
     ]
    },
    {
     "name": "stdout",
     "output_type": "stream",
     "text": [
      "Logistic Regression\n",
      "              precision    recall  f1-score   support\n",
      "\n",
      "         0.0       0.93      0.88      0.90        59\n",
      "         1.0       0.94      0.96      0.95       107\n",
      "\n",
      "    accuracy                           0.93       166\n",
      "   macro avg       0.93      0.92      0.93       166\n",
      "weighted avg       0.93      0.93      0.93       166\n",
      "\n",
      "Sensibilidade = 0.9626168224299065\n",
      "_______________________________________________________\n",
      "Random Forest\n",
      "              precision    recall  f1-score   support\n",
      "\n",
      "         0.0       0.88      0.90      0.89        59\n",
      "         1.0       0.94      0.93      0.94       107\n",
      "\n",
      "    accuracy                           0.92       166\n",
      "   macro avg       0.91      0.92      0.91       166\n",
      "weighted avg       0.92      0.92      0.92       166\n",
      "\n",
      "Sensibilidade = 0.9345794392523364\n",
      "_______________________________________________________\n",
      "XGBoost\n",
      "              precision    recall  f1-score   support\n",
      "\n",
      "         0.0       0.93      0.86      0.89        59\n",
      "         1.0       0.93      0.96      0.94       107\n",
      "\n",
      "    accuracy                           0.93       166\n",
      "   macro avg       0.93      0.91      0.92       166\n",
      "weighted avg       0.93      0.93      0.93       166\n",
      "\n",
      "Sensibilidade = 0.9626168224299065\n",
      "_______________________________________________________\n",
      "SVM\n",
      "              precision    recall  f1-score   support\n",
      "\n",
      "         0.0       1.00      0.02      0.03        59\n",
      "         1.0       0.65      1.00      0.79       107\n",
      "\n",
      "    accuracy                           0.65       166\n",
      "   macro avg       0.82      0.51      0.41       166\n",
      "weighted avg       0.77      0.65      0.52       166\n",
      "\n",
      "Sensibilidade = 1.0\n",
      "_______________________________________________________\n",
      "KNN\n",
      "              precision    recall  f1-score   support\n",
      "\n",
      "         0.0       0.88      0.88      0.88        59\n",
      "         1.0       0.93      0.93      0.93       107\n",
      "\n",
      "    accuracy                           0.92       166\n",
      "   macro avg       0.91      0.91      0.91       166\n",
      "weighted avg       0.92      0.92      0.92       166\n",
      "\n",
      "Sensibilidade = 0.9345794392523364\n",
      "_______________________________________________________\n"
     ]
    }
   ],
   "source": [
    "# Import models\n",
    "from sklearn.ensemble import RandomForestClassifier\n",
    "import xgboost as xgb\n",
    "from sklearn.linear_model import LogisticRegression\n",
    "from sklearn.svm import SVC\n",
    "from sklearn.neighbors import KNeighborsClassifier\n",
    "clf1 = LogisticRegression() # regressão logistica\n",
    "clf2 = RandomForestClassifier() # arvores aleatorias\n",
    "clf3 = xgb.XGBClassifier() # boost gradient\n",
    "clf4 = SVC(gamma='auto')\n",
    "clf5 = KNeighborsClassifier(n_neighbors=3)\n",
    "\n",
    "# Train, Predict and Evaluate the model \n",
    "from sklearn.metrics import accuracy_score, classification_report, recall_score\n",
    "from sklearn.metrics import classification_report\n",
    "for clf, label in zip([clf1, clf2, clf3, clf4, clf5], \n",
    "                      ['Logistic Regression', 'Random Forest', 'XGBoost', 'SVM', 'KNN']):\n",
    "    clf.fit(X_train, y_train) #training model\n",
    "    p = clf.predict(X_test) #predicting model\n",
    "    clf.score(X_test, y_test)\n",
    "    print(label)\n",
    "    print(classification_report(y_test, p)) #evaluating model\n",
    "    print('Sensibilidade =', recall_score(y_test, p))\n",
    "    print(\"_______________________________________________________\")"
   ]
  }
 ],
 "metadata": {
  "accelerator": "GPU",
  "colab": {
   "collapsed_sections": [],
   "machine_shape": "hm",
   "name": "cancer.ipynb",
   "provenance": [],
   "toc_visible": true
  },
  "kernelspec": {
   "display_name": "Python 3",
   "language": "python",
   "name": "python3"
  },
  "language_info": {
   "codemirror_mode": {
    "name": "ipython",
    "version": 3
   },
   "file_extension": ".py",
   "mimetype": "text/x-python",
   "name": "python",
   "nbconvert_exporter": "python",
   "pygments_lexer": "ipython3",
   "version": "3.7.4"
  }
 },
 "nbformat": 4,
 "nbformat_minor": 4
}
