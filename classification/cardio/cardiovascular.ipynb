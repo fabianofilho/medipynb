{
 "cells": [
  {
   "cell_type": "markdown",
   "metadata": {
    "colab_type": "text",
    "id": "atEHIbeL9Sef"
   },
   "source": [
    "# Bibliotecas"
   ]
  },
  {
   "cell_type": "code",
   "execution_count": null,
   "metadata": {
    "colab": {},
    "colab_type": "code",
    "id": "6aOwgiPq9U64"
   },
   "outputs": [],
   "source": [
    "import pandas as pd #análise de dados em tabelas\n",
    "import numpy as np #análise de números\n",
    "import seaborn as sb #análise em gráficos"
   ]
  },
  {
   "cell_type": "markdown",
   "metadata": {
    "colab_type": "text",
    "id": "wHhZ-E0tiTIw"
   },
   "source": [
    "# Cardiovascular Machine Learning Classification Model\n",
    "With categorical features"
   ]
  },
  {
   "cell_type": "code",
   "execution_count": null,
   "metadata": {
    "colab": {},
    "colab_type": "code",
    "id": "Vi1OSAE9iV-d"
   },
   "outputs": [],
   "source": [
    "cvd = pd.read_csv('http://bit.ly/cardiodados')"
   ]
  },
  {
   "cell_type": "code",
   "execution_count": null,
   "metadata": {
    "colab": {
     "base_uri": "https://localhost:8080/",
     "height": 254
    },
    "colab_type": "code",
    "id": "vKFkqKVy2vVe",
    "outputId": "81da3d86-cd15-4607-cf5b-f1c24e026f8f"
   },
   "outputs": [],
   "source": [
    "cvd.columns.tolist()"
   ]
  },
  {
   "cell_type": "code",
   "execution_count": null,
   "metadata": {
    "colab": {
     "base_uri": "https://localhost:8080/",
     "height": 1000
    },
    "colab_type": "code",
    "id": "_YoZcFZg3ets",
    "outputId": "5f183301-e5a1-446f-8476-dfc3f54b3ada"
   },
   "outputs": [],
   "source": [
    "cvd[['htn', 'treat']]"
   ]
  },
  {
   "cell_type": "code",
   "execution_count": null,
   "metadata": {
    "colab": {},
    "colab_type": "code",
    "id": "Vqf4ZJqy3p9x"
   },
   "outputs": [],
   "source": [
    "cvd_Shtn = cvd[cvd['htn'] == 'Y']\n",
    "cvd_Nhtn = cvd[cvd['htn'] == 'N']"
   ]
  },
  {
   "cell_type": "code",
   "execution_count": null,
   "metadata": {
    "colab": {},
    "colab_type": "code",
    "id": "gfEWoB9o4sQ5"
   },
   "outputs": [],
   "source": [
    "total_cvd_htnS = len(cvd_Shtn)\n",
    "total_cvd_htnN = len(cvd_Nhtn)\n",
    "total_cvd_htnT = len(cvd_Shtn) + len(cvd_Nhtn)"
   ]
  },
  {
   "cell_type": "code",
   "execution_count": null,
   "metadata": {
    "colab": {
     "base_uri": "https://localhost:8080/",
     "height": 35
    },
    "colab_type": "code",
    "id": "5P7Ay-Yx3V7-",
    "outputId": "77f33339-2344-4a63-886a-187fb577286a"
   },
   "outputs": [],
   "source": [
    "total_cvd_htnS / total_cvd_htnT"
   ]
  },
  {
   "cell_type": "code",
   "execution_count": null,
   "metadata": {
    "colab": {
     "base_uri": "https://localhost:8080/",
     "height": 108
    },
    "colab_type": "code",
    "id": "IUyp4iOW4Mrr",
    "outputId": "14ee6a1a-cf70-43f9-cdff-87d4954b0a28"
   },
   "outputs": [],
   "source": [
    "cvd.groupby('htn')['treat'].value_counts()"
   ]
  },
  {
   "cell_type": "code",
   "execution_count": null,
   "metadata": {
    "colab": {
     "base_uri": "https://localhost:8080/",
     "height": 1000
    },
    "colab_type": "code",
    "id": "kZuZHWDy2177",
    "outputId": "c17440a5-96e7-49b3-8c18-47ca6255960e"
   },
   "outputs": [],
   "source": [
    "cvd['htn'] == 'Y'"
   ]
  },
  {
   "cell_type": "code",
   "execution_count": null,
   "metadata": {
    "colab": {
     "base_uri": "https://localhost:8080/",
     "height": 198
    },
    "colab_type": "code",
    "id": "mRx_qESaSyZr",
    "outputId": "b7f11348-7c42-460d-f93c-1ae50028ef08"
   },
   "outputs": [],
   "source": [
    "cvd.head()"
   ]
  },
  {
   "cell_type": "code",
   "execution_count": null,
   "metadata": {
    "colab": {
     "base_uri": "https://localhost:8080/",
     "height": 35
    },
    "colab_type": "code",
    "id": "SBQRIIhP6VED",
    "outputId": "a13a84b5-d1db-4820-a502-a34e43578cba"
   },
   "outputs": [],
   "source": [
    "cvd.shape"
   ]
  },
  {
   "cell_type": "code",
   "execution_count": null,
   "metadata": {
    "colab": {},
    "colab_type": "code",
    "id": "kNd9P0_O5I7j"
   },
   "outputs": [],
   "source": [
    "cvd_col_imc = cvd[(cvd['tchol'] > 200) & (cvd['bmi'] > 30)]"
   ]
  },
  {
   "cell_type": "code",
   "execution_count": null,
   "metadata": {
    "colab": {},
    "colab_type": "code",
    "id": "w-8LTSUZ5rXs"
   },
   "outputs": [],
   "source": [
    "problema = cvd[(cvd['htn'] == 'Y') | (cvd['t2d'] =='Y') | (cvd['numAge'] > 35)]"
   ]
  },
  {
   "cell_type": "code",
   "execution_count": null,
   "metadata": {
    "colab": {},
    "colab_type": "code",
    "id": "B9Dg6CRd6LQ1"
   },
   "outputs": [],
   "source": [
    "problema.to_csv('e.csv')"
   ]
  },
  {
   "cell_type": "markdown",
   "metadata": {
    "colab_type": "text",
    "id": "zp1-Hsnp607B"
   },
   "source": [
    "## .loc"
   ]
  },
  {
   "cell_type": "code",
   "execution_count": null,
   "metadata": {
    "colab": {
     "base_uri": "https://localhost:8080/",
     "height": 72
    },
    "colab_type": "code",
    "id": "c9hm6Ge972Ab",
    "outputId": "5ccaed52-0002-4d1f-9d71-d65e2d0a3d7c"
   },
   "outputs": [],
   "source": [
    "\n",
    "cvd.loc[cvd['htn'] == 'N', 'htn_bin'] = 0\n",
    "cvd['htn_bin'].value_counts()"
   ]
  },
  {
   "cell_type": "code",
   "execution_count": null,
   "metadata": {
    "colab": {
     "base_uri": "https://localhost:8080/",
     "height": 108
    },
    "colab_type": "code",
    "id": "CNp12uCk7hLO",
    "outputId": "146d74e5-154c-487d-e303-6bb7af9f0fec"
   },
   "outputs": [],
   "source": [
    "cvd['race'].value_counts()"
   ]
  },
  {
   "cell_type": "code",
   "execution_count": null,
   "metadata": {
    "colab": {
     "base_uri": "https://localhost:8080/",
     "height": 72
    },
    "colab_type": "code",
    "id": "Ht7OId1x63Lf",
    "outputId": "af890648-b92d-4b1c-98af-a4a0720a9a42"
   },
   "outputs": [],
   "source": [
    "cvd.loc[cvd['race'] == 'White', 'race_W'] = 1\n",
    "cvd.loc[cvd['race'] != 'White', 'race_W'] = 0\n",
    "\n",
    "cvd.loc[cvd['race'] == 'Asian/PI', 'race_As'] = 1\n",
    "cvd.loc[cvd['race'] != 'Asian/PI', 'race_As'] = 0\n",
    "\n",
    "cvd.loc[cvd['race'] == 'Black/AfAm', 'race_Af'] = 1\n",
    "cvd.loc[cvd['race'] != 'Black/AfAm', 'race_Af'] = 0\n",
    "\n",
    "cvd.loc[cvd['race'] == 'AmInd', 'race_Am'] = 1\n",
    "cvd.loc[cvd['race'] != 'AmInd', 'race_Am'] = 0\n",
    "\n",
    "cvd['race_As'].value_counts()"
   ]
  },
  {
   "cell_type": "code",
   "execution_count": null,
   "metadata": {
    "colab": {},
    "colab_type": "code",
    "id": "F9yGx7Un8OB8"
   },
   "outputs": [],
   "source": [
    "cvd.loc[cvd['bmi'] > 30, 'bmi_bin'] = 1\n",
    "cvd.loc[cvd['bmi'] <= 30, 'bmi_bin'] = 0"
   ]
  },
  {
   "cell_type": "code",
   "execution_count": null,
   "metadata": {
    "colab": {
     "base_uri": "https://localhost:8080/",
     "height": 305
    },
    "colab_type": "code",
    "id": "vfEBHU3z8FoS",
    "outputId": "0689b8fd-d4aa-43ef-dc5a-ee148d7f8a92"
   },
   "outputs": [],
   "source": [
    "cvd.head()"
   ]
  },
  {
   "cell_type": "markdown",
   "metadata": {
    "colab_type": "text",
    "id": "DdSDND5L6wqu"
   },
   "source": [
    "### Transform Data"
   ]
  },
  {
   "cell_type": "code",
   "execution_count": null,
   "metadata": {
    "colab": {},
    "colab_type": "code",
    "id": "Ay6AQDjDifkJ"
   },
   "outputs": [],
   "source": [
    "def transform(valor):\n",
    "  if valor == 'Y':\n",
    "    return 1\n",
    "  else:\n",
    "    return 0"
   ]
  },
  {
   "cell_type": "code",
   "execution_count": null,
   "metadata": {
    "colab": {},
    "colab_type": "code",
    "id": "dk15Xg8KnBjV"
   },
   "outputs": [],
   "source": [
    "def gender(valor):\n",
    "  if valor == 'F':\n",
    "    return 1\n",
    "  else:\n",
    "    return 0"
   ]
  },
  {
   "cell_type": "code",
   "execution_count": null,
   "metadata": {
    "colab": {},
    "colab_type": "code",
    "id": "TgdHVENdnD4L"
   },
   "outputs": [],
   "source": [
    "cvd['htn'] = cvd['htn'].map(transform) \n",
    "cvd['treat'] = cvd['treat'].map(transform) \n",
    "cvd['smoking'] = cvd['smoking'].map(transform) \n",
    "cvd['t2d'] = cvd['t2d'].map(transform) \n",
    "cvd['cvd'] = cvd['cvd'].map(transform) \n",
    "cvd['gender'] = cvd['gender'].map(gender) "
   ]
  },
  {
   "cell_type": "code",
   "execution_count": null,
   "metadata": {
    "colab": {
     "base_uri": "https://localhost:8080/",
     "height": 101
    },
    "colab_type": "code",
    "id": "A91ZL3UFnwNe",
    "outputId": "55ba8bf2-7b09-4612-a61f-5f4a12385f55"
   },
   "outputs": [],
   "source": [
    "cvd.race.value_counts()"
   ]
  },
  {
   "cell_type": "code",
   "execution_count": null,
   "metadata": {
    "colab": {},
    "colab_type": "code",
    "id": "n49CYpdinqvq"
   },
   "outputs": [],
   "source": [
    "cvd['asian'] = 0\n",
    "cvd.loc[ cvd['race'] == 'Asian/PI', 'asian' ] = 1\n",
    "\n",
    "cvd['white'] = 0\n",
    "cvd.loc[ cvd['race'] == 'White', 'asian' ] = 1\n",
    "\n",
    "cvd['black'] = 0\n",
    "cvd.loc[ cvd['race'] == 'Black/AfAm', 'black' ] = 1\n",
    "\n",
    "cvd['amind'] = 0\n",
    "cvd.loc[ cvd['race'] == 'AmInd', 'asian' ] = 1"
   ]
  },
  {
   "cell_type": "code",
   "execution_count": null,
   "metadata": {
    "colab": {},
    "colab_type": "code",
    "id": "t9DrJuT8omJ6"
   },
   "outputs": [],
   "source": [
    "cvd = cvd.drop('race', 1)"
   ]
  },
  {
   "cell_type": "markdown",
   "metadata": {
    "colab_type": "text",
    "id": "4tzOOMRMpATr"
   },
   "source": [
    "### Data types"
   ]
  },
  {
   "cell_type": "code",
   "execution_count": null,
   "metadata": {
    "colab": {
     "base_uri": "https://localhost:8080/",
     "height": 195
    },
    "colab_type": "code",
    "id": "8ZL5qtCJpCpx",
    "outputId": "f2783405-2933-41f3-dff9-ffc3b0f804e3"
   },
   "outputs": [],
   "source": [
    "cvd.head()"
   ]
  },
  {
   "cell_type": "markdown",
   "metadata": {
    "colab_type": "text",
    "id": "YNLP4RMmotzT"
   },
   "source": [
    "age is categorical or numerical?"
   ]
  },
  {
   "cell_type": "code",
   "execution_count": null,
   "metadata": {
    "colab": {
     "base_uri": "https://localhost:8080/",
     "height": 118
    },
    "colab_type": "code",
    "id": "dCkM6K0Zow3N",
    "outputId": "03c53a75-85e4-4fe9-e812-f2e87add9dc6"
   },
   "outputs": [],
   "source": [
    "cvd.age.value_counts()"
   ]
  },
  {
   "cell_type": "markdown",
   "metadata": {
    "colab_type": "text",
    "id": "DomoRnXMUP3v"
   },
   "source": [
    "### Prepare Train Data"
   ]
  },
  {
   "cell_type": "code",
   "execution_count": null,
   "metadata": {
    "colab": {
     "base_uri": "https://localhost:8080/",
     "height": 204
    },
    "colab_type": "code",
    "id": "0j0Ozdm2fF7G",
    "outputId": "0ce6e7e4-9864-4d09-973f-e0d89ca573e0"
   },
   "outputs": [],
   "source": [
    "cvd.head()"
   ]
  },
  {
   "cell_type": "code",
   "execution_count": null,
   "metadata": {},
   "outputs": [],
   "source": [
    "cvd.columns"
   ]
  },
  {
   "cell_type": "code",
   "execution_count": null,
   "metadata": {},
   "outputs": [],
   "source": [
    "cvd = cvd.dropna()"
   ]
  },
  {
   "cell_type": "code",
   "execution_count": null,
   "metadata": {},
   "outputs": [],
   "source": [
    "X = cvd[['htn', 'treat', 'smoking', 't2d', 'gender',\n",
    "       'numAge', 'bmi', 'tchol', 'sbp', 'htn_bin', 'race_W', 'race_As',\n",
    "       'race_Af', 'race_Am', 'bmi_bin', 'asian', 'white', 'black', 'amind']]\n",
    "y = cvd.cvd"
   ]
  },
  {
   "cell_type": "markdown",
   "metadata": {
    "colab_type": "text",
    "id": "25q2GSCUS6pn"
   },
   "source": [
    "### Split Train Test"
   ]
  },
  {
   "cell_type": "code",
   "execution_count": null,
   "metadata": {
    "colab": {},
    "colab_type": "code",
    "id": "i87I3V4MS56F"
   },
   "outputs": [],
   "source": [
    "from sklearn.model_selection import train_test_split \n",
    "X_train, X_test, y_train, y_test = train_test_split(X, y, test_size=0.33, random_state=0) "
   ]
  },
  {
   "cell_type": "markdown",
   "metadata": {
    "colab_type": "text",
    "id": "5lsi6-FelNWh"
   },
   "source": [
    "### Prepare model, train, predict and evaluate"
   ]
  },
  {
   "cell_type": "code",
   "execution_count": null,
   "metadata": {
    "colab": {},
    "colab_type": "code",
    "id": "HbTLgo5Io84b"
   },
   "outputs": [],
   "source": [
    "!pip install xgboost"
   ]
  },
  {
   "cell_type": "code",
   "execution_count": null,
   "metadata": {},
   "outputs": [],
   "source": [
    "# Import models\n",
    "from sklearn.ensemble import RandomForestClassifier\n",
    "import xgboost as xgb\n",
    "from sklearn.linear_model import LogisticRegression\n",
    "from sklearn.svm import SVC\n",
    "from sklearn.neighbors import KNeighborsClassifier\n",
    "clf1 = LogisticRegression() # regressão logistica\n",
    "clf2 = RandomForestClassifier() # arvores aleatorias\n",
    "clf3 = xgb.XGBClassifier() # boost gradient\n",
    "clf4 = SVC(gamma='auto')\n",
    "clf5 = KNeighborsClassifier(n_neighbors=3)\n",
    "\n",
    "# Train, Predict and Evaluate the model \n",
    "from sklearn.metrics import accuracy_score, classification_report, recall_score\n",
    "from sklearn.model_selection import cross_val_score\n",
    "for clf, label in zip([clf1, clf2, clf3, clf4, clf5], \n",
    "                      ['Logistic Regression', 'Random Forest', 'XGBoost', 'SVM', 'KNN']):\n",
    "    clf.fit(X_train, y_train) #training model\n",
    "    p = clf.predict(X_test) #predicting model\n",
    "    scores = cross_val_score(clf, X_test, y_test, cv=10, scoring='recall_macro')\n",
    "    print(label)\n",
    "    print(classification_report(y_test, p)) #evaluating model\n",
    "    print('Sensibilidade =', recall_score(y_test, p))\n",
    "    print('Sensibilidade da Validação Cruzada', np.mean(scores))\n",
    "    print(\"_______________________________________________________\")"
   ]
  },
  {
   "cell_type": "code",
   "execution_count": null,
   "metadata": {
    "colab": {
     "base_uri": "https://localhost:8080/",
     "height": 34
    },
    "colab_type": "code",
    "id": "na1P_d6LjbYc",
    "outputId": "90fbeaf7-04f6-4f6f-ef28-ff9a2d8e4769"
   },
   "outputs": [],
   "source": [
    "p"
   ]
  },
  {
   "cell_type": "code",
   "execution_count": null,
   "metadata": {
    "colab": {},
    "colab_type": "code",
    "id": "jXwmf_vcjdNs"
   },
   "outputs": [],
   "source": [
    "sub = pd.Series(p, index=cvd_test['patientID'], name='cvd_bin')"
   ]
  },
  {
   "cell_type": "code",
   "execution_count": null,
   "metadata": {
    "colab": {},
    "colab_type": "code",
    "id": "4Gna-SnOjsUj"
   },
   "outputs": [],
   "source": [
    "sub.to_csv('primeiro.csv', header=True)"
   ]
  },
  {
   "cell_type": "code",
   "execution_count": null,
   "metadata": {
    "colab": {
     "base_uri": "https://localhost:8080/",
     "height": 187
    },
    "colab_type": "code",
    "id": "7tro4M41kB9u",
    "outputId": "b208d056-de28-4760-a291-7ef244ad9adf"
   },
   "outputs": [],
   "source": [
    "!head -n10 primeiro.csv"
   ]
  },
  {
   "cell_type": "code",
   "execution_count": null,
   "metadata": {},
   "outputs": [],
   "source": []
  }
 ],
 "metadata": {
  "accelerator": "GPU",
  "colab": {
   "collapsed_sections": [],
   "machine_shape": "hm",
   "name": "cardiovascular.ipynb",
   "provenance": [],
   "toc_visible": true
  },
  "kernelspec": {
   "display_name": "Python 3",
   "language": "python",
   "name": "python3"
  },
  "language_info": {
   "codemirror_mode": {
    "name": "ipython",
    "version": 3
   },
   "file_extension": ".py",
   "mimetype": "text/x-python",
   "name": "python",
   "nbconvert_exporter": "python",
   "pygments_lexer": "ipython3",
   "version": "3.7.4"
  }
 },
 "nbformat": 4,
 "nbformat_minor": 4
}
