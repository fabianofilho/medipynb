{
  "nbformat": 4,
  "nbformat_minor": 0,
  "metadata": {
    "colab": {
      "name": "sus.ipynb",
      "provenance": [],
      "collapsed_sections": [],
      "toc_visible": true,
      "machine_shape": "hm"
    },
    "kernelspec": {
      "name": "python3",
      "display_name": "Python 3"
    },
    "accelerator": "GPU"
  },
  "cells": [
    {
      "cell_type": "markdown",
      "metadata": {
        "id": "atEHIbeL9Sef",
        "colab_type": "text"
      },
      "source": [
        "# Bibliotecas"
      ]
    },
    {
      "cell_type": "code",
      "metadata": {
        "id": "6aOwgiPq9U64",
        "colab_type": "code",
        "colab": {}
      },
      "source": [
        "import pandas as pd #análise de dados em tabelas\n",
        "import numpy as np #análise de números\n",
        "import seaborn as sb #análise em gráficos"
      ],
      "execution_count": 0,
      "outputs": []
    },
    {
      "cell_type": "markdown",
      "metadata": {
        "id": "FdtIFnI986Tc",
        "colab_type": "text"
      },
      "source": [
        "# DATASUS"
      ]
    },
    {
      "cell_type": "code",
      "metadata": {
        "id": "kkp9m-rf85hW",
        "colab_type": "code",
        "colab": {}
      },
      "source": [
        "df = pd.read_csv('http://bit.ly/df_sim_es_2017')"
      ],
      "execution_count": 0,
      "outputs": []
    },
    {
      "cell_type": "code",
      "metadata": {
        "id": "skQfRvIR9mhJ",
        "colab_type": "code",
        "outputId": "88427aaf-f4e4-482e-9b53-e9a2d1d9a723",
        "colab": {
          "base_uri": "https://localhost:8080/",
          "height": 35
        }
      },
      "source": [
        "df.shape"
      ],
      "execution_count": 0,
      "outputs": [
        {
          "output_type": "execute_result",
          "data": {
            "text/plain": [
              "(24112, 93)"
            ]
          },
          "metadata": {
            "tags": []
          },
          "execution_count": 63
        }
      ]
    },
    {
      "cell_type": "code",
      "metadata": {
        "id": "CuLmfmGR9CMN",
        "colab_type": "code",
        "outputId": "8aed116d-5934-4f35-88c9-aeb1809be77a",
        "colab": {
          "base_uri": "https://localhost:8080/",
          "height": 175
        }
      },
      "source": [
        "df.head(2)"
      ],
      "execution_count": 0,
      "outputs": [
        {
          "output_type": "execute_result",
          "data": {
            "text/html": [
              "<div>\n",
              "<style scoped>\n",
              "    .dataframe tbody tr th:only-of-type {\n",
              "        vertical-align: middle;\n",
              "    }\n",
              "\n",
              "    .dataframe tbody tr th {\n",
              "        vertical-align: top;\n",
              "    }\n",
              "\n",
              "    .dataframe thead th {\n",
              "        text-align: right;\n",
              "    }\n",
              "</style>\n",
              "<table border=\"1\" class=\"dataframe\">\n",
              "  <thead>\n",
              "    <tr style=\"text-align: right;\">\n",
              "      <th></th>\n",
              "      <th>Unnamed: 0</th>\n",
              "      <th>NUMERODO</th>\n",
              "      <th>CODINST</th>\n",
              "      <th>NUMERODV</th>\n",
              "      <th>ORIGEM</th>\n",
              "      <th>TIPOBITO</th>\n",
              "      <th>DTOBITO</th>\n",
              "      <th>HORAOBITO</th>\n",
              "      <th>NUMSUS</th>\n",
              "      <th>NATURAL</th>\n",
              "      <th>CODMUNNATU</th>\n",
              "      <th>DTNASC</th>\n",
              "      <th>IDADE</th>\n",
              "      <th>SEXO</th>\n",
              "      <th>RACACOR</th>\n",
              "      <th>ESTCIV</th>\n",
              "      <th>ESC</th>\n",
              "      <th>ESC2010</th>\n",
              "      <th>SERIESCFAL</th>\n",
              "      <th>OCUP</th>\n",
              "      <th>CODMUNRES</th>\n",
              "      <th>LOCOCOR</th>\n",
              "      <th>CODESTAB</th>\n",
              "      <th>ESTABDESCR</th>\n",
              "      <th>CODMUNOCOR</th>\n",
              "      <th>IDADEMAE</th>\n",
              "      <th>ESCMAE</th>\n",
              "      <th>ESCMAE2010</th>\n",
              "      <th>SERIESCMAE</th>\n",
              "      <th>OCUPMAE</th>\n",
              "      <th>QTDFILVIVO</th>\n",
              "      <th>QTDFILMORT</th>\n",
              "      <th>GRAVIDEZ</th>\n",
              "      <th>SEMAGESTAC</th>\n",
              "      <th>GESTACAO</th>\n",
              "      <th>PARTO</th>\n",
              "      <th>OBITOPARTO</th>\n",
              "      <th>PESO</th>\n",
              "      <th>NUMERODN</th>\n",
              "      <th>TPMORTEOCO</th>\n",
              "      <th>...</th>\n",
              "      <th>CRM</th>\n",
              "      <th>COMUNSVOIM</th>\n",
              "      <th>DTATESTADO</th>\n",
              "      <th>CIRCOBITO</th>\n",
              "      <th>ACIDTRAB</th>\n",
              "      <th>FONTE</th>\n",
              "      <th>NUMEROLOTE</th>\n",
              "      <th>TPPOS</th>\n",
              "      <th>DTINVESTIG</th>\n",
              "      <th>CAUSABAS_O</th>\n",
              "      <th>DTCADASTRO</th>\n",
              "      <th>ATESTANTE</th>\n",
              "      <th>STCODIFICA</th>\n",
              "      <th>CODIFICADO</th>\n",
              "      <th>VERSAOSIST</th>\n",
              "      <th>VERSAOSCB</th>\n",
              "      <th>FONTEINV</th>\n",
              "      <th>DTRECEBIM</th>\n",
              "      <th>ATESTADO</th>\n",
              "      <th>DTRECORIGA</th>\n",
              "      <th>CAUSAMAT</th>\n",
              "      <th>ESCMAEAGR1</th>\n",
              "      <th>ESCFALAGR1</th>\n",
              "      <th>STDOEPIDEM</th>\n",
              "      <th>STDONOVA</th>\n",
              "      <th>DIFDATA</th>\n",
              "      <th>NUDIASOBCO</th>\n",
              "      <th>NUDIASOBIN</th>\n",
              "      <th>DTCADINV</th>\n",
              "      <th>TPOBITOCOR</th>\n",
              "      <th>DTCONINV</th>\n",
              "      <th>FONTES</th>\n",
              "      <th>TPRESGINFO</th>\n",
              "      <th>TPNIVELINV</th>\n",
              "      <th>NUDIASINF</th>\n",
              "      <th>DTCADINF</th>\n",
              "      <th>MORTEPARTO</th>\n",
              "      <th>DTCONCASO</th>\n",
              "      <th>FONTESINF</th>\n",
              "      <th>ALTCAUSA</th>\n",
              "    </tr>\n",
              "  </thead>\n",
              "  <tbody>\n",
              "    <tr>\n",
              "      <th>0</th>\n",
              "      <td>1</td>\n",
              "      <td>23751023</td>\n",
              "      <td>RES3205300001</td>\n",
              "      <td>5</td>\n",
              "      <td>1</td>\n",
              "      <td>2</td>\n",
              "      <td>1052017</td>\n",
              "      <td>340.0</td>\n",
              "      <td>NaN</td>\n",
              "      <td>832.0</td>\n",
              "      <td>320120.0</td>\n",
              "      <td>18041996.0</td>\n",
              "      <td>421</td>\n",
              "      <td>1</td>\n",
              "      <td>4.0</td>\n",
              "      <td>1.0</td>\n",
              "      <td>9.0</td>\n",
              "      <td>9.0</td>\n",
              "      <td>NaN</td>\n",
              "      <td>715210.0</td>\n",
              "      <td>320120</td>\n",
              "      <td>1</td>\n",
              "      <td>2485680.0</td>\n",
              "      <td>NaN</td>\n",
              "      <td>320120</td>\n",
              "      <td>NaN</td>\n",
              "      <td>NaN</td>\n",
              "      <td>NaN</td>\n",
              "      <td>NaN</td>\n",
              "      <td>NaN</td>\n",
              "      <td>NaN</td>\n",
              "      <td>NaN</td>\n",
              "      <td>NaN</td>\n",
              "      <td>NaN</td>\n",
              "      <td>NaN</td>\n",
              "      <td>NaN</td>\n",
              "      <td>NaN</td>\n",
              "      <td>NaN</td>\n",
              "      <td>NaN</td>\n",
              "      <td>NaN</td>\n",
              "      <td>...</td>\n",
              "      <td>8413.0</td>\n",
              "      <td>320120.0</td>\n",
              "      <td>1052017.0</td>\n",
              "      <td>1.0</td>\n",
              "      <td>9.0</td>\n",
              "      <td>3.0</td>\n",
              "      <td>20170023</td>\n",
              "      <td>N</td>\n",
              "      <td>NaN</td>\n",
              "      <td>V299</td>\n",
              "      <td>23062017</td>\n",
              "      <td>3.0</td>\n",
              "      <td>S</td>\n",
              "      <td>S</td>\n",
              "      <td>3.2.00</td>\n",
              "      <td>3.2</td>\n",
              "      <td>NaN</td>\n",
              "      <td>27062017</td>\n",
              "      <td>S068/S069*V299</td>\n",
              "      <td>27062017</td>\n",
              "      <td>NaN</td>\n",
              "      <td>NaN</td>\n",
              "      <td>9.0</td>\n",
              "      <td>0</td>\n",
              "      <td>1</td>\n",
              "      <td>57</td>\n",
              "      <td>NaN</td>\n",
              "      <td>NaN</td>\n",
              "      <td>NaN</td>\n",
              "      <td>NaN</td>\n",
              "      <td>NaN</td>\n",
              "      <td>NaN</td>\n",
              "      <td>NaN</td>\n",
              "      <td>NaN</td>\n",
              "      <td>NaN</td>\n",
              "      <td>NaN</td>\n",
              "      <td>NaN</td>\n",
              "      <td>NaN</td>\n",
              "      <td>NaN</td>\n",
              "      <td>NaN</td>\n",
              "    </tr>\n",
              "    <tr>\n",
              "      <th>1</th>\n",
              "      <td>2</td>\n",
              "      <td>23750944</td>\n",
              "      <td>RES3205300001</td>\n",
              "      <td>0</td>\n",
              "      <td>1</td>\n",
              "      <td>2</td>\n",
              "      <td>1052017</td>\n",
              "      <td>25.0</td>\n",
              "      <td>NaN</td>\n",
              "      <td>800.0</td>\n",
              "      <td>NaN</td>\n",
              "      <td>15011940.0</td>\n",
              "      <td>477</td>\n",
              "      <td>2</td>\n",
              "      <td>1.0</td>\n",
              "      <td>1.0</td>\n",
              "      <td>NaN</td>\n",
              "      <td>NaN</td>\n",
              "      <td>NaN</td>\n",
              "      <td>NaN</td>\n",
              "      <td>320120</td>\n",
              "      <td>1</td>\n",
              "      <td>2485680.0</td>\n",
              "      <td>NaN</td>\n",
              "      <td>320120</td>\n",
              "      <td>NaN</td>\n",
              "      <td>NaN</td>\n",
              "      <td>NaN</td>\n",
              "      <td>NaN</td>\n",
              "      <td>NaN</td>\n",
              "      <td>NaN</td>\n",
              "      <td>NaN</td>\n",
              "      <td>NaN</td>\n",
              "      <td>NaN</td>\n",
              "      <td>NaN</td>\n",
              "      <td>NaN</td>\n",
              "      <td>NaN</td>\n",
              "      <td>NaN</td>\n",
              "      <td>NaN</td>\n",
              "      <td>NaN</td>\n",
              "      <td>...</td>\n",
              "      <td>9710.0</td>\n",
              "      <td>NaN</td>\n",
              "      <td>1052017.0</td>\n",
              "      <td>NaN</td>\n",
              "      <td>NaN</td>\n",
              "      <td>NaN</td>\n",
              "      <td>20170023</td>\n",
              "      <td>N</td>\n",
              "      <td>NaN</td>\n",
              "      <td>I64</td>\n",
              "      <td>23062017</td>\n",
              "      <td>2.0</td>\n",
              "      <td>S</td>\n",
              "      <td>S</td>\n",
              "      <td>3.2.00</td>\n",
              "      <td>3.2</td>\n",
              "      <td>NaN</td>\n",
              "      <td>27062017</td>\n",
              "      <td>J960/E46/I64</td>\n",
              "      <td>27062017</td>\n",
              "      <td>NaN</td>\n",
              "      <td>NaN</td>\n",
              "      <td>NaN</td>\n",
              "      <td>0</td>\n",
              "      <td>1</td>\n",
              "      <td>57</td>\n",
              "      <td>NaN</td>\n",
              "      <td>NaN</td>\n",
              "      <td>NaN</td>\n",
              "      <td>NaN</td>\n",
              "      <td>NaN</td>\n",
              "      <td>NaN</td>\n",
              "      <td>NaN</td>\n",
              "      <td>NaN</td>\n",
              "      <td>NaN</td>\n",
              "      <td>NaN</td>\n",
              "      <td>NaN</td>\n",
              "      <td>NaN</td>\n",
              "      <td>NaN</td>\n",
              "      <td>NaN</td>\n",
              "    </tr>\n",
              "  </tbody>\n",
              "</table>\n",
              "<p>2 rows × 93 columns</p>\n",
              "</div>"
            ],
            "text/plain": [
              "   Unnamed: 0  NUMERODO        CODINST  ...  DTCONCASO  FONTESINF  ALTCAUSA\n",
              "0           1  23751023  RES3205300001  ...        NaN        NaN       NaN\n",
              "1           2  23750944  RES3205300001  ...        NaN        NaN       NaN\n",
              "\n",
              "[2 rows x 93 columns]"
            ]
          },
          "metadata": {
            "tags": []
          },
          "execution_count": 59
        }
      ]
    },
    {
      "cell_type": "code",
      "metadata": {
        "id": "WkGQsQtc9IYS",
        "colab_type": "code",
        "outputId": "1167c7bf-cde8-4cba-a2da-3453216bd62d",
        "colab": {
          "base_uri": "https://localhost:8080/",
          "height": 345
        }
      },
      "source": [
        "df.columns"
      ],
      "execution_count": 0,
      "outputs": [
        {
          "output_type": "execute_result",
          "data": {
            "text/plain": [
              "Index(['Unnamed: 0', 'NUMERODO', 'CODINST', 'NUMERODV', 'ORIGEM', 'TIPOBITO',\n",
              "       'DTOBITO', 'HORAOBITO', 'NUMSUS', 'NATURAL', 'CODMUNNATU', 'DTNASC',\n",
              "       'IDADE', 'SEXO', 'RACACOR', 'ESTCIV', 'ESC', 'ESC2010', 'SERIESCFAL',\n",
              "       'OCUP', 'CODMUNRES', 'LOCOCOR', 'CODESTAB', 'ESTABDESCR', 'CODMUNOCOR',\n",
              "       'IDADEMAE', 'ESCMAE', 'ESCMAE2010', 'SERIESCMAE', 'OCUPMAE',\n",
              "       'QTDFILVIVO', 'QTDFILMORT', 'GRAVIDEZ', 'SEMAGESTAC', 'GESTACAO',\n",
              "       'PARTO', 'OBITOPARTO', 'PESO', 'NUMERODN', 'TPMORTEOCO', 'OBITOGRAV',\n",
              "       'OBITOPUERP', 'ASSISTMED', 'EXAME', 'CIRURGIA', 'NECROPSIA', 'LINHAA',\n",
              "       'LINHAB', 'LINHAC', 'LINHAD', 'LINHAII', 'CAUSABAS', 'CB_PRE', 'CRM',\n",
              "       'COMUNSVOIM', 'DTATESTADO', 'CIRCOBITO', 'ACIDTRAB', 'FONTE',\n",
              "       'NUMEROLOTE', 'TPPOS', 'DTINVESTIG', 'CAUSABAS_O', 'DTCADASTRO',\n",
              "       'ATESTANTE', 'STCODIFICA', 'CODIFICADO', 'VERSAOSIST', 'VERSAOSCB',\n",
              "       'FONTEINV', 'DTRECEBIM', 'ATESTADO', 'DTRECORIGA', 'CAUSAMAT',\n",
              "       'ESCMAEAGR1', 'ESCFALAGR1', 'STDOEPIDEM', 'STDONOVA', 'DIFDATA',\n",
              "       'NUDIASOBCO', 'NUDIASOBIN', 'DTCADINV', 'TPOBITOCOR', 'DTCONINV',\n",
              "       'FONTES', 'TPRESGINFO', 'TPNIVELINV', 'NUDIASINF', 'DTCADINF',\n",
              "       'MORTEPARTO', 'DTCONCASO', 'FONTESINF', 'ALTCAUSA'],\n",
              "      dtype='object')"
            ]
          },
          "metadata": {
            "tags": []
          },
          "execution_count": 60
        }
      ]
    },
    {
      "cell_type": "code",
      "metadata": {
        "id": "TxZcPUEK9PbH",
        "colab_type": "code",
        "outputId": "22218639-b46d-4c2e-b1b9-49789c3005d3",
        "colab": {
          "base_uri": "https://localhost:8080/",
          "height": 35
        }
      },
      "source": [
        "df['LINHAII'].isnull().sum()"
      ],
      "execution_count": 0,
      "outputs": [
        {
          "output_type": "execute_result",
          "data": {
            "text/plain": [
              "15437"
            ]
          },
          "metadata": {
            "tags": []
          },
          "execution_count": 62
        }
      ]
    },
    {
      "cell_type": "code",
      "metadata": {
        "id": "qeZaQ7Sz9gkK",
        "colab_type": "code",
        "outputId": "fab20160-b33d-4a17-a28c-6bd0b49471de",
        "colab": {
          "base_uri": "https://localhost:8080/",
          "height": 35
        }
      },
      "source": [
        "df['LINHAII'].isnull().sum()"
      ],
      "execution_count": 0,
      "outputs": [
        {
          "output_type": "execute_result",
          "data": {
            "text/plain": [
              "15437"
            ]
          },
          "metadata": {
            "tags": []
          },
          "execution_count": 67
        }
      ]
    },
    {
      "cell_type": "code",
      "metadata": {
        "id": "Grpt5a3H9xun",
        "colab_type": "code",
        "colab": {}
      },
      "source": [
        "df_linhaII = df.dropna(subset={'LINHAII'})"
      ],
      "execution_count": 0,
      "outputs": []
    },
    {
      "cell_type": "code",
      "metadata": {
        "id": "oH6A9m9E-Fi_",
        "colab_type": "code",
        "outputId": "b8e96629-2e4c-42ae-9be4-d88fff58ba79",
        "colab": {
          "base_uri": "https://localhost:8080/",
          "height": 1000
        }
      },
      "source": [
        "df_linhaII['LINHAII'].value_counts()"
      ],
      "execution_count": 0,
      "outputs": [
        {
          "output_type": "execute_result",
          "data": {
            "text/plain": [
              "*I10X                   956\n",
              "*E149                   379\n",
              "*I10X*E149              292\n",
              "*F172                   206\n",
              "*G309                   184\n",
              "*E149*I10X              165\n",
              "*R54X                   160\n",
              "*N189                   154\n",
              "*F102                   152\n",
              "*N179                   132\n",
              "*J449                    90\n",
              "*I694                    77\n",
              "*I64X                    72\n",
              "*I500                    71\n",
              "*E46X                    69\n",
              "*I509                    67\n",
              "*E669                    58\n",
              "*F172*F102               55\n",
              "*F102*F172               50\n",
              "*N19X                    50\n",
              "*I10X*E119               50\n",
              "*I48X                    47\n",
              "*J189                    45\n",
              "*K746                    45\n",
              "*E119                    42\n",
              "*I10X*F172               42\n",
              "*B24X                    39\n",
              "*N189*I10X               39\n",
              "*C61X                    38\n",
              "*I678                    38\n",
              "                       ... \n",
              "*E835                     1\n",
              "*I10X*I890                1\n",
              "*J449*J189                1\n",
              "*I638                     1\n",
              "*P543*P073                1\n",
              "*C719*E149                1\n",
              "*S729*T792                1\n",
              "*I251*I48X                1\n",
              "*I519*I259                1\n",
              "*Q771                     1\n",
              "*V295                     1\n",
              "*I678*I500                1\n",
              "*N189*E144                1\n",
              "*K929                     1\n",
              "*E149*D689                1\n",
              "*I255*N19X                1\n",
              "*E149*D759                1\n",
              "*E46X*E039                1\n",
              "*S299*S122                1\n",
              "*C539*N179                1\n",
              "*B24X*F102*F172*E149      1\n",
              "*E668*N390                1\n",
              "*I10X*E878*E889           1\n",
              "*A90X                     1\n",
              "*J841*E149                1\n",
              "*G309*C61X                1\n",
              "*C720                     1\n",
              "*N390*N189                1\n",
              "*K562*Q430                1\n",
              "*N189*N179*C900           1\n",
              "Name: LINHAII, Length: 2550, dtype: int64"
            ]
          },
          "metadata": {
            "tags": []
          },
          "execution_count": 73
        }
      ]
    },
    {
      "cell_type": "code",
      "metadata": {
        "id": "32J9KqEJ-wWm",
        "colab_type": "code",
        "outputId": "6ec54c08-0e9b-454e-802d-986354d61bc3",
        "colab": {
          "base_uri": "https://localhost:8080/",
          "height": 1000
        }
      },
      "source": [
        "df_linhaII[ df_linhaII['LINHAII'] == '*I10X' ]['CAUSABAS'].value_counts()"
      ],
      "execution_count": 0,
      "outputs": [
        {
          "output_type": "execute_result",
          "data": {
            "text/plain": [
              "I219    133\n",
              "E149     59\n",
              "I678     45\n",
              "J189     45\n",
              "G309     44\n",
              "I10      34\n",
              "I619     31\n",
              "I64      30\n",
              "J440     22\n",
              "I120     17\n",
              "I694     16\n",
              "J159     15\n",
              "I110     14\n",
              "C61      14\n",
              "E142     14\n",
              "E145     13\n",
              "I609     13\n",
              "J449     11\n",
              "N390     10\n",
              "C349     10\n",
              "I639      8\n",
              "C189      8\n",
              "I255      7\n",
              "G20       6\n",
              "C80       6\n",
              "I710      6\n",
              "G319      6\n",
              "I350      6\n",
              "F102      6\n",
              "C509      6\n",
              "       ... \n",
              "C185      1\n",
              "E878      1\n",
              "B24       1\n",
              "D590      1\n",
              "N40       1\n",
              "C519      1\n",
              "N170      1\n",
              "G919      1\n",
              "E106      1\n",
              "Y835      1\n",
              "A539      1\n",
              "I850      1\n",
              "I612      1\n",
              "C19       1\n",
              "K929      1\n",
              "C728      1\n",
              "D619      1\n",
              "C259      1\n",
              "I270      1\n",
              "K460      1\n",
              "M625      1\n",
              "I443      1\n",
              "I258      1\n",
              "K805      1\n",
              "C710      1\n",
              "G629      1\n",
              "K810      1\n",
              "E117      1\n",
              "C845      1\n",
              "C029      1\n",
              "Name: CAUSABAS, Length: 210, dtype: int64"
            ]
          },
          "metadata": {
            "tags": []
          },
          "execution_count": 79
        }
      ]
    },
    {
      "cell_type": "code",
      "metadata": {
        "id": "D1creLxx-a9w",
        "colab_type": "code",
        "colab": {}
      },
      "source": [
        ""
      ],
      "execution_count": 0,
      "outputs": []
    }
  ]
}