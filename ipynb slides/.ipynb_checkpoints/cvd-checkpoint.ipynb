{
 "cells": [
  {
   "cell_type": "markdown",
   "metadata": {
    "colab_type": "text",
    "id": "M5yk6cVSEfPL",
    "slideshow": {
     "slide_type": "slide"
    }
   },
   "source": [
    "# Download\tthe\tData"
   ]
  },
  {
   "cell_type": "code",
   "execution_count": 1,
   "metadata": {
    "colab": {},
    "colab_type": "code",
    "id": "80-0D3PhK3tt",
    "slideshow": {
     "slide_type": "subslide"
    }
   },
   "outputs": [],
   "source": [
    "# Importar pacote de leitura de dados\n",
    "import pandas as pd\n",
    "#pd.set_option(\"display.max_columns\", 200)"
   ]
  },
  {
   "cell_type": "markdown",
   "metadata": {
    "slideshow": {
     "slide_type": "slide"
    }
   },
   "source": [
    "## From Heart Disease"
   ]
  },
  {
   "cell_type": "code",
   "execution_count": 2,
   "metadata": {
    "colab": {},
    "colab_type": "code",
    "id": "tI0ZAPojK88E",
    "slideshow": {
     "slide_type": "subslide"
    }
   },
   "outputs": [],
   "source": [
    "# Ler o Dataset\n",
    "df = pd.read_csv(\"https://raw.githubusercontent.com/laderast/cvdNight1/master/data/fullPatientData.csv\")"
   ]
  },
  {
   "cell_type": "code",
   "execution_count": 3,
   "metadata": {
    "slideshow": {
     "slide_type": "subslide"
    }
   },
   "outputs": [
    {
     "data": {
      "text/html": [
       "<div>\n",
       "<style scoped>\n",
       "    .dataframe tbody tr th:only-of-type {\n",
       "        vertical-align: middle;\n",
       "    }\n",
       "\n",
       "    .dataframe tbody tr th {\n",
       "        vertical-align: top;\n",
       "    }\n",
       "\n",
       "    .dataframe thead th {\n",
       "        text-align: right;\n",
       "    }\n",
       "</style>\n",
       "<table border=\"1\" class=\"dataframe\">\n",
       "  <thead>\n",
       "    <tr style=\"text-align: right;\">\n",
       "      <th></th>\n",
       "      <th>patientID</th>\n",
       "      <th>age</th>\n",
       "      <th>htn</th>\n",
       "      <th>treat</th>\n",
       "      <th>smoking</th>\n",
       "      <th>race</th>\n",
       "      <th>t2d</th>\n",
       "      <th>gender</th>\n",
       "      <th>numAge</th>\n",
       "      <th>bmi</th>\n",
       "      <th>tchol</th>\n",
       "      <th>sbp</th>\n",
       "      <th>cvd</th>\n",
       "    </tr>\n",
       "  </thead>\n",
       "  <tbody>\n",
       "    <tr>\n",
       "      <th>0</th>\n",
       "      <td>HHUID00519967</td>\n",
       "      <td>70-90</td>\n",
       "      <td>N</td>\n",
       "      <td>N</td>\n",
       "      <td>N</td>\n",
       "      <td>White</td>\n",
       "      <td>N</td>\n",
       "      <td>M</td>\n",
       "      <td>83</td>\n",
       "      <td>17</td>\n",
       "      <td>156</td>\n",
       "      <td>113</td>\n",
       "      <td>N</td>\n",
       "    </tr>\n",
       "    <tr>\n",
       "      <th>1</th>\n",
       "      <td>HHUID00379006</td>\n",
       "      <td>40-55</td>\n",
       "      <td>N</td>\n",
       "      <td>N</td>\n",
       "      <td>N</td>\n",
       "      <td>White</td>\n",
       "      <td>N</td>\n",
       "      <td>M</td>\n",
       "      <td>44</td>\n",
       "      <td>23</td>\n",
       "      <td>167</td>\n",
       "      <td>126</td>\n",
       "      <td>N</td>\n",
       "    </tr>\n",
       "    <tr>\n",
       "      <th>2</th>\n",
       "      <td>HHUID00357476</td>\n",
       "      <td>55-70</td>\n",
       "      <td>Y</td>\n",
       "      <td>Y</td>\n",
       "      <td>N</td>\n",
       "      <td>White</td>\n",
       "      <td>N</td>\n",
       "      <td>M</td>\n",
       "      <td>62</td>\n",
       "      <td>16</td>\n",
       "      <td>214</td>\n",
       "      <td>175</td>\n",
       "      <td>N</td>\n",
       "    </tr>\n",
       "    <tr>\n",
       "      <th>3</th>\n",
       "      <td>HHUID00862369</td>\n",
       "      <td>40-55</td>\n",
       "      <td>N</td>\n",
       "      <td>N</td>\n",
       "      <td>N</td>\n",
       "      <td>White</td>\n",
       "      <td>N</td>\n",
       "      <td>M</td>\n",
       "      <td>42</td>\n",
       "      <td>22</td>\n",
       "      <td>158</td>\n",
       "      <td>102</td>\n",
       "      <td>N</td>\n",
       "    </tr>\n",
       "    <tr>\n",
       "      <th>4</th>\n",
       "      <td>HHUID00481496</td>\n",
       "      <td>55-70</td>\n",
       "      <td>N</td>\n",
       "      <td>N</td>\n",
       "      <td>N</td>\n",
       "      <td>White</td>\n",
       "      <td>N</td>\n",
       "      <td>M</td>\n",
       "      <td>63</td>\n",
       "      <td>24</td>\n",
       "      <td>244</td>\n",
       "      <td>132</td>\n",
       "      <td>N</td>\n",
       "    </tr>\n",
       "  </tbody>\n",
       "</table>\n",
       "</div>"
      ],
      "text/plain": [
       "       patientID    age htn treat smoking   race t2d gender  numAge  bmi  \\\n",
       "0  HHUID00519967  70-90   N     N       N  White   N      M      83   17   \n",
       "1  HHUID00379006  40-55   N     N       N  White   N      M      44   23   \n",
       "2  HHUID00357476  55-70   Y     Y       N  White   N      M      62   16   \n",
       "3  HHUID00862369  40-55   N     N       N  White   N      M      42   22   \n",
       "4  HHUID00481496  55-70   N     N       N  White   N      M      63   24   \n",
       "\n",
       "   tchol  sbp cvd  \n",
       "0    156  113   N  \n",
       "1    167  126   N  \n",
       "2    214  175   N  \n",
       "3    158  102   N  \n",
       "4    244  132   N  "
      ]
     },
     "execution_count": 3,
     "metadata": {},
     "output_type": "execute_result"
    }
   ],
   "source": [
    "df.head()"
   ]
  },
  {
   "cell_type": "code",
   "execution_count": 4,
   "metadata": {
    "colab": {
     "base_uri": "https://localhost:8080/",
     "height": 34
    },
    "colab_type": "code",
    "id": "jl_0ih8rOKk7",
    "outputId": "2973beb0-bc5a-4e75-c82e-4be9fe27b52d",
    "slideshow": {
     "slide_type": "subslide"
    }
   },
   "outputs": [
    {
     "data": {
      "text/plain": [
       "(446203, 13)"
      ]
     },
     "execution_count": 4,
     "metadata": {},
     "output_type": "execute_result"
    }
   ],
   "source": [
    "df.shape"
   ]
  },
  {
   "cell_type": "markdown",
   "metadata": {
    "slideshow": {
     "slide_type": "slide"
    }
   },
   "source": [
    "## Separate Train/Test"
   ]
  },
  {
   "cell_type": "code",
   "execution_count": 5,
   "metadata": {
    "colab": {},
    "colab_type": "code",
    "id": "m0AONpPneTYB",
    "slideshow": {
     "slide_type": "subslide"
    }
   },
   "outputs": [],
   "source": [
    "cvd_train = df.sample(n=10000, random_state=42)\n",
    "cvd_test = df.sample(n=2000, random_state=0)"
   ]
  },
  {
   "cell_type": "code",
   "execution_count": 6,
   "metadata": {
    "colab": {
     "base_uri": "https://localhost:8080/",
     "height": 163
    },
    "colab_type": "code",
    "id": "zC-hNXKaAE6-",
    "outputId": "235046fb-a49a-4b8f-dec0-70651c4c0fd0",
    "slideshow": {
     "slide_type": "slide"
    }
   },
   "outputs": [
    {
     "name": "stdout",
     "output_type": "stream",
     "text": [
      "<class 'pandas.core.frame.DataFrame'>\n",
      "Int64Index: 10000 entries, 357685 to 41414\n",
      "Data columns (total 13 columns):\n",
      "patientID    10000 non-null object\n",
      "age          10000 non-null object\n",
      "htn          10000 non-null object\n",
      "treat        10000 non-null object\n",
      "smoking      10000 non-null object\n",
      "race         10000 non-null object\n",
      "t2d          10000 non-null object\n",
      "gender       10000 non-null object\n",
      "numAge       10000 non-null int64\n",
      "bmi          10000 non-null int64\n",
      "tchol        10000 non-null int64\n",
      "sbp          10000 non-null int64\n",
      "cvd          10000 non-null object\n",
      "dtypes: int64(4), object(9)\n",
      "memory usage: 1.1+ MB\n"
     ]
    }
   ],
   "source": [
    "cvd_train.info()"
   ]
  },
  {
   "cell_type": "code",
   "execution_count": 7,
   "metadata": {
    "slideshow": {
     "slide_type": "slide"
    }
   },
   "outputs": [
    {
     "name": "stdout",
     "output_type": "stream",
     "text": [
      "<class 'pandas.core.frame.DataFrame'>\n",
      "Int64Index: 2000 entries, 36027 to 265658\n",
      "Data columns (total 13 columns):\n",
      "patientID    2000 non-null object\n",
      "age          2000 non-null object\n",
      "htn          2000 non-null object\n",
      "treat        2000 non-null object\n",
      "smoking      2000 non-null object\n",
      "race         2000 non-null object\n",
      "t2d          2000 non-null object\n",
      "gender       2000 non-null object\n",
      "numAge       2000 non-null int64\n",
      "bmi          2000 non-null int64\n",
      "tchol        2000 non-null int64\n",
      "sbp          2000 non-null int64\n",
      "cvd          2000 non-null object\n",
      "dtypes: int64(4), object(9)\n",
      "memory usage: 218.8+ KB\n"
     ]
    }
   ],
   "source": [
    "cvd_test.info()"
   ]
  },
  {
   "cell_type": "markdown",
   "metadata": {
    "slideshow": {
     "slide_type": "slide"
    }
   },
   "source": [
    "## Dataset information"
   ]
  },
  {
   "cell_type": "markdown",
   "metadata": {
    "colab_type": "text",
    "id": "73DTLwxhZU7w",
    "slideshow": {
     "slide_type": "subslide"
    }
   },
   "source": [
    "- 'patientID' = Patient Identifier\n",
    "- 'age' = Patient Age Category\n",
    "- 'htn' = Patient Hypertension\n",
    "- 'treat' = Hypertension Treatment\n",
    "- 'smoking' = Smoking Status\n",
    "- 'race' = Race\n",
    "- 't2d' = Patient Gender\n",
    "- 'gender' = Type 2 Diabetes Status\n",
    "- 'numAge' = Numerical Age\n",
    "- 'bmi' = Body Mass Index\n",
    "- 'tchol' = Total Cholesterol\n",
    "- 'sbp' = Systolic Blood Pressure\n",
    "- 'cvd' = Cardiovascular Disease Status"
   ]
  },
  {
   "cell_type": "markdown",
   "metadata": {
    "colab_type": "text",
    "id": "j1fxsWRlhISu",
    "slideshow": {
     "slide_type": "slide"
    }
   },
   "source": [
    "## Classification model"
   ]
  },
  {
   "cell_type": "code",
   "execution_count": 8,
   "metadata": {
    "colab": {},
    "colab_type": "code",
    "id": "pTl-9-tChU9J",
    "slideshow": {
     "slide_type": "subslide"
    }
   },
   "outputs": [],
   "source": [
    "from sklearn.ensemble import RandomForestClassifier"
   ]
  },
  {
   "cell_type": "code",
   "execution_count": 9,
   "metadata": {
    "colab": {},
    "colab_type": "code",
    "id": "X76M_HBVhJjS",
    "slideshow": {
     "slide_type": "subslide"
    }
   },
   "outputs": [],
   "source": [
    "modelo = RandomForestClassifier(n_estimators=100, n_jobs=1, random_state=0)"
   ]
  },
  {
   "cell_type": "markdown",
   "metadata": {
    "colab_type": "text",
    "id": "DomoRnXMUP3v",
    "slideshow": {
     "slide_type": "slide"
    }
   },
   "source": [
    "### Prepare data"
   ]
  },
  {
   "cell_type": "code",
   "execution_count": 10,
   "metadata": {
    "colab": {
     "base_uri": "https://localhost:8080/",
     "height": 204
    },
    "colab_type": "code",
    "id": "0j0Ozdm2fF7G",
    "outputId": "0ce6e7e4-9864-4d09-973f-e0d89ca573e0",
    "slideshow": {
     "slide_type": "subslide"
    }
   },
   "outputs": [
    {
     "data": {
      "text/html": [
       "<div>\n",
       "<style scoped>\n",
       "    .dataframe tbody tr th:only-of-type {\n",
       "        vertical-align: middle;\n",
       "    }\n",
       "\n",
       "    .dataframe tbody tr th {\n",
       "        vertical-align: top;\n",
       "    }\n",
       "\n",
       "    .dataframe thead th {\n",
       "        text-align: right;\n",
       "    }\n",
       "</style>\n",
       "<table border=\"1\" class=\"dataframe\">\n",
       "  <thead>\n",
       "    <tr style=\"text-align: right;\">\n",
       "      <th></th>\n",
       "      <th>patientID</th>\n",
       "      <th>age</th>\n",
       "      <th>htn</th>\n",
       "      <th>treat</th>\n",
       "      <th>smoking</th>\n",
       "      <th>race</th>\n",
       "      <th>t2d</th>\n",
       "      <th>gender</th>\n",
       "      <th>numAge</th>\n",
       "      <th>bmi</th>\n",
       "      <th>tchol</th>\n",
       "      <th>sbp</th>\n",
       "      <th>cvd</th>\n",
       "    </tr>\n",
       "  </thead>\n",
       "  <tbody>\n",
       "    <tr>\n",
       "      <th>357685</th>\n",
       "      <td>HHUID00563164</td>\n",
       "      <td>40-55</td>\n",
       "      <td>N</td>\n",
       "      <td>N</td>\n",
       "      <td>N</td>\n",
       "      <td>Asian/PI</td>\n",
       "      <td>N</td>\n",
       "      <td>F</td>\n",
       "      <td>45</td>\n",
       "      <td>21</td>\n",
       "      <td>227</td>\n",
       "      <td>115</td>\n",
       "      <td>N</td>\n",
       "    </tr>\n",
       "    <tr>\n",
       "      <th>331129</th>\n",
       "      <td>HHUID00274908</td>\n",
       "      <td>20-40</td>\n",
       "      <td>N</td>\n",
       "      <td>N</td>\n",
       "      <td>N</td>\n",
       "      <td>White</td>\n",
       "      <td>N</td>\n",
       "      <td>F</td>\n",
       "      <td>36</td>\n",
       "      <td>19</td>\n",
       "      <td>193</td>\n",
       "      <td>108</td>\n",
       "      <td>N</td>\n",
       "    </tr>\n",
       "    <tr>\n",
       "      <th>89436</th>\n",
       "      <td>HHUID00039383</td>\n",
       "      <td>20-40</td>\n",
       "      <td>N</td>\n",
       "      <td>N</td>\n",
       "      <td>N</td>\n",
       "      <td>White</td>\n",
       "      <td>N</td>\n",
       "      <td>M</td>\n",
       "      <td>24</td>\n",
       "      <td>16</td>\n",
       "      <td>193</td>\n",
       "      <td>110</td>\n",
       "      <td>N</td>\n",
       "    </tr>\n",
       "    <tr>\n",
       "      <th>132346</th>\n",
       "      <td>HHUID00597428</td>\n",
       "      <td>70-90</td>\n",
       "      <td>N</td>\n",
       "      <td>N</td>\n",
       "      <td>Y</td>\n",
       "      <td>White</td>\n",
       "      <td>N</td>\n",
       "      <td>M</td>\n",
       "      <td>70</td>\n",
       "      <td>15</td>\n",
       "      <td>156</td>\n",
       "      <td>124</td>\n",
       "      <td>N</td>\n",
       "    </tr>\n",
       "    <tr>\n",
       "      <th>102706</th>\n",
       "      <td>HHUID00426556</td>\n",
       "      <td>40-55</td>\n",
       "      <td>N</td>\n",
       "      <td>N</td>\n",
       "      <td>N</td>\n",
       "      <td>White</td>\n",
       "      <td>N</td>\n",
       "      <td>M</td>\n",
       "      <td>49</td>\n",
       "      <td>24</td>\n",
       "      <td>210</td>\n",
       "      <td>108</td>\n",
       "      <td>N</td>\n",
       "    </tr>\n",
       "  </tbody>\n",
       "</table>\n",
       "</div>"
      ],
      "text/plain": [
       "            patientID    age htn treat smoking      race t2d gender  numAge  \\\n",
       "357685  HHUID00563164  40-55   N     N       N  Asian/PI   N      F      45   \n",
       "331129  HHUID00274908  20-40   N     N       N     White   N      F      36   \n",
       "89436   HHUID00039383  20-40   N     N       N     White   N      M      24   \n",
       "132346  HHUID00597428  70-90   N     N       Y     White   N      M      70   \n",
       "102706  HHUID00426556  40-55   N     N       N     White   N      M      49   \n",
       "\n",
       "        bmi  tchol  sbp cvd  \n",
       "357685   21    227  115   N  \n",
       "331129   19    193  108   N  \n",
       "89436    16    193  110   N  \n",
       "132346   15    156  124   N  \n",
       "102706   24    210  108   N  "
      ]
     },
     "execution_count": 10,
     "metadata": {},
     "output_type": "execute_result"
    }
   ],
   "source": [
    "cvd_train.head()"
   ]
  },
  {
   "cell_type": "markdown",
   "metadata": {
    "slideshow": {
     "slide_type": "slide"
    }
   },
   "source": [
    "## Transform Train Data"
   ]
  },
  {
   "cell_type": "code",
   "execution_count": 11,
   "metadata": {
    "colab": {},
    "colab_type": "code",
    "id": "YhqLMAtAeywC",
    "slideshow": {
     "slide_type": "subslide"
    }
   },
   "outputs": [],
   "source": [
    "def transform_form(valor):\n",
    "  if valor == 'Y':\n",
    "    return 1\n",
    "  else:\n",
    "    return 0  "
   ]
  },
  {
   "cell_type": "code",
   "execution_count": 12,
   "metadata": {
    "colab": {},
    "colab_type": "code",
    "id": "kYEfLWrKf98j",
    "slideshow": {
     "slide_type": "subslide"
    }
   },
   "outputs": [],
   "source": [
    "def transform_gender(valor):\n",
    "  if valor == 'F':\n",
    "    return 1\n",
    "  else:\n",
    "    return 0  "
   ]
  },
  {
   "cell_type": "code",
   "execution_count": 13,
   "metadata": {
    "colab": {},
    "colab_type": "code",
    "id": "D9Ba-R6pfFU_",
    "slideshow": {
     "slide_type": "subslide"
    }
   },
   "outputs": [],
   "source": [
    "cvd_train['htn_bin'] = cvd_train['htn'].map(transform_form) \n",
    "cvd_train['treat_bin'] = cvd_train['treat'].map(transform_form) \n",
    "cvd_train['smoking_bin'] = cvd_train['smoking'].map(transform_form) \n",
    "cvd_train['t2d_bin'] = cvd_train['t2d'].map(transform_form) \n",
    "cvd_train['cvd_bin'] = cvd_train['cvd'].map(transform_form) \n",
    "cvd_train['sexo_bin'] = cvd_train['gender'].map(transform_gender) "
   ]
  },
  {
   "cell_type": "markdown",
   "metadata": {
    "slideshow": {
     "slide_type": "slide"
    }
   },
   "source": [
    "### After transformation"
   ]
  },
  {
   "cell_type": "code",
   "execution_count": 14,
   "metadata": {
    "colab": {
     "base_uri": "https://localhost:8080/",
     "height": 204
    },
    "colab_type": "code",
    "id": "1gFNtK_0fnaf",
    "outputId": "119e284b-2280-4d42-994d-2a9468d82a5c",
    "slideshow": {
     "slide_type": "subslide"
    }
   },
   "outputs": [
    {
     "data": {
      "text/html": [
       "<div>\n",
       "<style scoped>\n",
       "    .dataframe tbody tr th:only-of-type {\n",
       "        vertical-align: middle;\n",
       "    }\n",
       "\n",
       "    .dataframe tbody tr th {\n",
       "        vertical-align: top;\n",
       "    }\n",
       "\n",
       "    .dataframe thead th {\n",
       "        text-align: right;\n",
       "    }\n",
       "</style>\n",
       "<table border=\"1\" class=\"dataframe\">\n",
       "  <thead>\n",
       "    <tr style=\"text-align: right;\">\n",
       "      <th></th>\n",
       "      <th>patientID</th>\n",
       "      <th>age</th>\n",
       "      <th>htn</th>\n",
       "      <th>treat</th>\n",
       "      <th>smoking</th>\n",
       "      <th>race</th>\n",
       "      <th>t2d</th>\n",
       "      <th>gender</th>\n",
       "      <th>numAge</th>\n",
       "      <th>bmi</th>\n",
       "      <th>tchol</th>\n",
       "      <th>sbp</th>\n",
       "      <th>cvd</th>\n",
       "      <th>htn_bin</th>\n",
       "      <th>treat_bin</th>\n",
       "      <th>smoking_bin</th>\n",
       "      <th>t2d_bin</th>\n",
       "      <th>cvd_bin</th>\n",
       "      <th>sexo_bin</th>\n",
       "    </tr>\n",
       "  </thead>\n",
       "  <tbody>\n",
       "    <tr>\n",
       "      <th>357685</th>\n",
       "      <td>HHUID00563164</td>\n",
       "      <td>40-55</td>\n",
       "      <td>N</td>\n",
       "      <td>N</td>\n",
       "      <td>N</td>\n",
       "      <td>Asian/PI</td>\n",
       "      <td>N</td>\n",
       "      <td>F</td>\n",
       "      <td>45</td>\n",
       "      <td>21</td>\n",
       "      <td>227</td>\n",
       "      <td>115</td>\n",
       "      <td>N</td>\n",
       "      <td>0</td>\n",
       "      <td>0</td>\n",
       "      <td>0</td>\n",
       "      <td>0</td>\n",
       "      <td>0</td>\n",
       "      <td>1</td>\n",
       "    </tr>\n",
       "    <tr>\n",
       "      <th>331129</th>\n",
       "      <td>HHUID00274908</td>\n",
       "      <td>20-40</td>\n",
       "      <td>N</td>\n",
       "      <td>N</td>\n",
       "      <td>N</td>\n",
       "      <td>White</td>\n",
       "      <td>N</td>\n",
       "      <td>F</td>\n",
       "      <td>36</td>\n",
       "      <td>19</td>\n",
       "      <td>193</td>\n",
       "      <td>108</td>\n",
       "      <td>N</td>\n",
       "      <td>0</td>\n",
       "      <td>0</td>\n",
       "      <td>0</td>\n",
       "      <td>0</td>\n",
       "      <td>0</td>\n",
       "      <td>1</td>\n",
       "    </tr>\n",
       "    <tr>\n",
       "      <th>89436</th>\n",
       "      <td>HHUID00039383</td>\n",
       "      <td>20-40</td>\n",
       "      <td>N</td>\n",
       "      <td>N</td>\n",
       "      <td>N</td>\n",
       "      <td>White</td>\n",
       "      <td>N</td>\n",
       "      <td>M</td>\n",
       "      <td>24</td>\n",
       "      <td>16</td>\n",
       "      <td>193</td>\n",
       "      <td>110</td>\n",
       "      <td>N</td>\n",
       "      <td>0</td>\n",
       "      <td>0</td>\n",
       "      <td>0</td>\n",
       "      <td>0</td>\n",
       "      <td>0</td>\n",
       "      <td>0</td>\n",
       "    </tr>\n",
       "    <tr>\n",
       "      <th>132346</th>\n",
       "      <td>HHUID00597428</td>\n",
       "      <td>70-90</td>\n",
       "      <td>N</td>\n",
       "      <td>N</td>\n",
       "      <td>Y</td>\n",
       "      <td>White</td>\n",
       "      <td>N</td>\n",
       "      <td>M</td>\n",
       "      <td>70</td>\n",
       "      <td>15</td>\n",
       "      <td>156</td>\n",
       "      <td>124</td>\n",
       "      <td>N</td>\n",
       "      <td>0</td>\n",
       "      <td>0</td>\n",
       "      <td>1</td>\n",
       "      <td>0</td>\n",
       "      <td>0</td>\n",
       "      <td>0</td>\n",
       "    </tr>\n",
       "    <tr>\n",
       "      <th>102706</th>\n",
       "      <td>HHUID00426556</td>\n",
       "      <td>40-55</td>\n",
       "      <td>N</td>\n",
       "      <td>N</td>\n",
       "      <td>N</td>\n",
       "      <td>White</td>\n",
       "      <td>N</td>\n",
       "      <td>M</td>\n",
       "      <td>49</td>\n",
       "      <td>24</td>\n",
       "      <td>210</td>\n",
       "      <td>108</td>\n",
       "      <td>N</td>\n",
       "      <td>0</td>\n",
       "      <td>0</td>\n",
       "      <td>0</td>\n",
       "      <td>0</td>\n",
       "      <td>0</td>\n",
       "      <td>0</td>\n",
       "    </tr>\n",
       "  </tbody>\n",
       "</table>\n",
       "</div>"
      ],
      "text/plain": [
       "            patientID    age htn treat smoking      race t2d gender  numAge  \\\n",
       "357685  HHUID00563164  40-55   N     N       N  Asian/PI   N      F      45   \n",
       "331129  HHUID00274908  20-40   N     N       N     White   N      F      36   \n",
       "89436   HHUID00039383  20-40   N     N       N     White   N      M      24   \n",
       "132346  HHUID00597428  70-90   N     N       Y     White   N      M      70   \n",
       "102706  HHUID00426556  40-55   N     N       N     White   N      M      49   \n",
       "\n",
       "        bmi  tchol  sbp cvd  htn_bin  treat_bin  smoking_bin  t2d_bin  \\\n",
       "357685   21    227  115   N        0          0            0        0   \n",
       "331129   19    193  108   N        0          0            0        0   \n",
       "89436    16    193  110   N        0          0            0        0   \n",
       "132346   15    156  124   N        0          0            1        0   \n",
       "102706   24    210  108   N        0          0            0        0   \n",
       "\n",
       "        cvd_bin  sexo_bin  \n",
       "357685        0         1  \n",
       "331129        0         1  \n",
       "89436         0         0  \n",
       "132346        0         0  \n",
       "102706        0         0  "
      ]
     },
     "execution_count": 14,
     "metadata": {},
     "output_type": "execute_result"
    }
   ],
   "source": [
    "cvd_train.head()"
   ]
  },
  {
   "cell_type": "markdown",
   "metadata": {
    "slideshow": {
     "slide_type": "slide"
    }
   },
   "source": [
    "## Variables to run in model"
   ]
  },
  {
   "cell_type": "code",
   "execution_count": 15,
   "metadata": {
    "colab": {},
    "colab_type": "code",
    "id": "UPal5QDygG93",
    "slideshow": {
     "slide_type": "subslide"
    }
   },
   "outputs": [],
   "source": [
    "variaveis = ['htn_bin', 'treat_bin', 'smoking_bin', 't2d_bin', 'sexo_bin']"
   ]
  },
  {
   "cell_type": "code",
   "execution_count": 16,
   "metadata": {
    "colab": {},
    "colab_type": "code",
    "id": "xvDy3eRDgimR",
    "slideshow": {
     "slide_type": "subslide"
    }
   },
   "outputs": [],
   "source": [
    "X = cvd_train[variaveis]\n",
    "y = cvd_train['cvd_bin']"
   ]
  },
  {
   "cell_type": "code",
   "execution_count": 17,
   "metadata": {
    "colab": {
     "base_uri": "https://localhost:8080/",
     "height": 204
    },
    "colab_type": "code",
    "id": "DcNP5J_Yg1UK",
    "outputId": "ccbf9a49-bf93-437a-807e-61ff4c0f5c41",
    "slideshow": {
     "slide_type": "slide"
    }
   },
   "outputs": [
    {
     "data": {
      "text/html": [
       "<div>\n",
       "<style scoped>\n",
       "    .dataframe tbody tr th:only-of-type {\n",
       "        vertical-align: middle;\n",
       "    }\n",
       "\n",
       "    .dataframe tbody tr th {\n",
       "        vertical-align: top;\n",
       "    }\n",
       "\n",
       "    .dataframe thead th {\n",
       "        text-align: right;\n",
       "    }\n",
       "</style>\n",
       "<table border=\"1\" class=\"dataframe\">\n",
       "  <thead>\n",
       "    <tr style=\"text-align: right;\">\n",
       "      <th></th>\n",
       "      <th>htn_bin</th>\n",
       "      <th>treat_bin</th>\n",
       "      <th>smoking_bin</th>\n",
       "      <th>t2d_bin</th>\n",
       "      <th>sexo_bin</th>\n",
       "    </tr>\n",
       "  </thead>\n",
       "  <tbody>\n",
       "    <tr>\n",
       "      <th>357685</th>\n",
       "      <td>0</td>\n",
       "      <td>0</td>\n",
       "      <td>0</td>\n",
       "      <td>0</td>\n",
       "      <td>1</td>\n",
       "    </tr>\n",
       "    <tr>\n",
       "      <th>331129</th>\n",
       "      <td>0</td>\n",
       "      <td>0</td>\n",
       "      <td>0</td>\n",
       "      <td>0</td>\n",
       "      <td>1</td>\n",
       "    </tr>\n",
       "    <tr>\n",
       "      <th>89436</th>\n",
       "      <td>0</td>\n",
       "      <td>0</td>\n",
       "      <td>0</td>\n",
       "      <td>0</td>\n",
       "      <td>0</td>\n",
       "    </tr>\n",
       "    <tr>\n",
       "      <th>132346</th>\n",
       "      <td>0</td>\n",
       "      <td>0</td>\n",
       "      <td>1</td>\n",
       "      <td>0</td>\n",
       "      <td>0</td>\n",
       "    </tr>\n",
       "    <tr>\n",
       "      <th>102706</th>\n",
       "      <td>0</td>\n",
       "      <td>0</td>\n",
       "      <td>0</td>\n",
       "      <td>0</td>\n",
       "      <td>0</td>\n",
       "    </tr>\n",
       "  </tbody>\n",
       "</table>\n",
       "</div>"
      ],
      "text/plain": [
       "        htn_bin  treat_bin  smoking_bin  t2d_bin  sexo_bin\n",
       "357685        0          0            0        0         1\n",
       "331129        0          0            0        0         1\n",
       "89436         0          0            0        0         0\n",
       "132346        0          0            1        0         0\n",
       "102706        0          0            0        0         0"
      ]
     },
     "execution_count": 17,
     "metadata": {},
     "output_type": "execute_result"
    }
   ],
   "source": [
    "X.head()"
   ]
  },
  {
   "cell_type": "code",
   "execution_count": 18,
   "metadata": {
    "colab": {
     "base_uri": "https://localhost:8080/",
     "height": 119
    },
    "colab_type": "code",
    "id": "KbU04dC2hBo0",
    "outputId": "46c47917-0918-4859-f7d4-41c4e6931e89",
    "slideshow": {
     "slide_type": "slide"
    }
   },
   "outputs": [
    {
     "data": {
      "text/plain": [
       "357685    0\n",
       "331129    0\n",
       "89436     0\n",
       "132346    0\n",
       "102706    0\n",
       "Name: cvd_bin, dtype: int64"
      ]
     },
     "execution_count": 18,
     "metadata": {},
     "output_type": "execute_result"
    }
   ],
   "source": [
    "y.head()"
   ]
  },
  {
   "cell_type": "markdown",
   "metadata": {
    "colab_type": "text",
    "id": "5lsi6-FelNWh",
    "slideshow": {
     "slide_type": "slide"
    }
   },
   "source": [
    "### Train model"
   ]
  },
  {
   "cell_type": "code",
   "execution_count": 19,
   "metadata": {
    "colab": {
     "base_uri": "https://localhost:8080/",
     "height": 136
    },
    "colab_type": "code",
    "id": "WfTB_oxBhDdE",
    "outputId": "67908bb3-c6a3-4650-fbb8-f95b51b8e898",
    "slideshow": {
     "slide_type": "subslide"
    }
   },
   "outputs": [
    {
     "data": {
      "text/plain": [
       "RandomForestClassifier(bootstrap=True, class_weight=None, criterion='gini',\n",
       "                       max_depth=None, max_features='auto', max_leaf_nodes=None,\n",
       "                       min_impurity_decrease=0.0, min_impurity_split=None,\n",
       "                       min_samples_leaf=1, min_samples_split=2,\n",
       "                       min_weight_fraction_leaf=0.0, n_estimators=100, n_jobs=1,\n",
       "                       oob_score=False, random_state=0, verbose=0,\n",
       "                       warm_start=False)"
      ]
     },
     "execution_count": 19,
     "metadata": {},
     "output_type": "execute_result"
    }
   ],
   "source": [
    "modelo.fit(X,y)"
   ]
  },
  {
   "cell_type": "markdown",
   "metadata": {
    "slideshow": {
     "slide_type": "slide"
    }
   },
   "source": [
    "## Transform Test Data"
   ]
  },
  {
   "cell_type": "code",
   "execution_count": 20,
   "metadata": {
    "colab": {},
    "colab_type": "code",
    "id": "r1H46laGjJ7T",
    "slideshow": {
     "slide_type": "subslide"
    }
   },
   "outputs": [],
   "source": [
    "cvd_test['htn_bin'] = cvd_test['htn'].map(transform_form) \n",
    "cvd_test['treat_bin'] = cvd_test['treat'].map(transform_form) \n",
    "cvd_test['smoking_bin'] = cvd_test['smoking'].map(transform_form) \n",
    "cvd_test['t2d_bin'] = cvd_test['t2d'].map(transform_form) \n",
    "cvd_test['cvd_bin'] = cvd_test['cvd'].map(transform_form) \n",
    "cvd_test['sexo_bin'] = cvd_test['gender'].map(transform_gender) "
   ]
  },
  {
   "cell_type": "markdown",
   "metadata": {
    "colab_type": "text",
    "id": "Fj2XTyQolPFa",
    "slideshow": {
     "slide_type": "slide"
    }
   },
   "source": [
    "### Preview data"
   ]
  },
  {
   "cell_type": "code",
   "execution_count": 21,
   "metadata": {
    "colab": {},
    "colab_type": "code",
    "id": "4EY829lhhnhH",
    "slideshow": {
     "slide_type": "subslide"
    }
   },
   "outputs": [],
   "source": [
    "X_prev = cvd_test[variaveis]\n",
    "y_prev = cvd_test['cvd_bin']"
   ]
  },
  {
   "cell_type": "markdown",
   "metadata": {
    "colab_type": "text",
    "id": "Z8M1ImStlR7O",
    "slideshow": {
     "slide_type": "slide"
    }
   },
   "source": [
    "### Predict"
   ]
  },
  {
   "cell_type": "code",
   "execution_count": 22,
   "metadata": {
    "colab": {},
    "colab_type": "code",
    "id": "1s7r8mdQjR76",
    "slideshow": {
     "slide_type": "subslide"
    }
   },
   "outputs": [],
   "source": [
    "p = modelo.predict(X_prev) #ou X_test"
   ]
  },
  {
   "cell_type": "code",
   "execution_count": 23,
   "metadata": {
    "colab": {
     "base_uri": "https://localhost:8080/",
     "height": 34
    },
    "colab_type": "code",
    "id": "na1P_d6LjbYc",
    "outputId": "90fbeaf7-04f6-4f6f-ef28-ff9a2d8e4769",
    "slideshow": {
     "slide_type": "subslide"
    }
   },
   "outputs": [
    {
     "data": {
      "text/plain": [
       "array([0, 0, 0, ..., 0, 0, 0], dtype=int64)"
      ]
     },
     "execution_count": 23,
     "metadata": {},
     "output_type": "execute_result"
    }
   ],
   "source": [
    "p"
   ]
  },
  {
   "cell_type": "markdown",
   "metadata": {
    "slideshow": {
     "slide_type": "slide"
    }
   },
   "source": [
    "## Predict_proba"
   ]
  },
  {
   "cell_type": "code",
   "execution_count": 24,
   "metadata": {
    "slideshow": {
     "slide_type": "subslide"
    }
   },
   "outputs": [],
   "source": [
    "pb = modelo.predict_proba(X_prev) #ou X_test"
   ]
  },
  {
   "cell_type": "code",
   "execution_count": 25,
   "metadata": {
    "slideshow": {
     "slide_type": "subslide"
    }
   },
   "outputs": [
    {
     "data": {
      "text/plain": [
       "array([[0.92148037, 0.07851963],\n",
       "       [0.97779744, 0.02220256],\n",
       "       [0.95413804, 0.04586196],\n",
       "       ...,\n",
       "       [0.97779744, 0.02220256],\n",
       "       [0.77196666, 0.22803334],\n",
       "       [0.86928422, 0.13071578]])"
      ]
     },
     "execution_count": 25,
     "metadata": {},
     "output_type": "execute_result"
    }
   ],
   "source": [
    "pb"
   ]
  },
  {
   "cell_type": "markdown",
   "metadata": {
    "slideshow": {
     "slide_type": "slide"
    }
   },
   "source": [
    "## In Excel"
   ]
  },
  {
   "cell_type": "code",
   "execution_count": 26,
   "metadata": {
    "colab": {},
    "colab_type": "code",
    "id": "jXwmf_vcjdNs",
    "slideshow": {
     "slide_type": "subslide"
    }
   },
   "outputs": [],
   "source": [
    "sub = pd.Series(p, index=cvd_test['patientID'], name='cvd_bin')"
   ]
  },
  {
   "cell_type": "code",
   "execution_count": 27,
   "metadata": {
    "colab": {},
    "colab_type": "code",
    "id": "4Gna-SnOjsUj",
    "slideshow": {
     "slide_type": "slide"
    }
   },
   "outputs": [],
   "source": [
    "sub.to_csv('primeiro.csv', header=True)"
   ]
  },
  {
   "cell_type": "code",
   "execution_count": 28,
   "metadata": {
    "colab": {
     "base_uri": "https://localhost:8080/",
     "height": 187
    },
    "colab_type": "code",
    "id": "7tro4M41kB9u",
    "outputId": "b208d056-de28-4760-a291-7ef244ad9adf",
    "slideshow": {
     "slide_type": "subslide"
    }
   },
   "outputs": [
    {
     "data": {
      "text/plain": [
       "patientID\n",
       "HHUID00209262    0\n",
       "HHUID00618715    0\n",
       "HHUID00077486    0\n",
       "HHUID00791386    0\n",
       "HHUID00468893    0\n",
       "Name: cvd_bin, dtype: int64"
      ]
     },
     "execution_count": 28,
     "metadata": {},
     "output_type": "execute_result"
    }
   ],
   "source": [
    "#!head -n10 primeiro.csv\n",
    "sub.head()"
   ]
  },
  {
   "cell_type": "markdown",
   "metadata": {
    "colab_type": "text",
    "id": "i_WkG0xQlVOs",
    "slideshow": {
     "slide_type": "slide"
    }
   },
   "source": [
    "### Score"
   ]
  },
  {
   "cell_type": "code",
   "execution_count": 29,
   "metadata": {
    "colab": {
     "base_uri": "https://localhost:8080/",
     "height": 34
    },
    "colab_type": "code",
    "id": "e6P1WYyZkpYc",
    "outputId": "8f1a1a4d-410c-4f4a-fa46-ad54c4fe41c7",
    "slideshow": {
     "slide_type": "subslide"
    }
   },
   "outputs": [
    {
     "data": {
      "text/plain": [
       "0.91"
      ]
     },
     "execution_count": 29,
     "metadata": {},
     "output_type": "execute_result"
    }
   ],
   "source": [
    "modelo.score(X_prev, y_prev)"
   ]
  },
  {
   "cell_type": "markdown",
   "metadata": {
    "colab_type": "text",
    "id": "qC3NtJ0vbYVS",
    "slideshow": {
     "slide_type": "slide"
    }
   },
   "source": [
    "### Evaluate"
   ]
  },
  {
   "cell_type": "code",
   "execution_count": 30,
   "metadata": {
    "colab": {},
    "colab_type": "code",
    "id": "VpAPOSR_ehNs",
    "slideshow": {
     "slide_type": "subslide"
    }
   },
   "outputs": [
    {
     "name": "stdout",
     "output_type": "stream",
     "text": [
      "              precision    recall  f1-score   support\n",
      "\n",
      "           0       0.91      1.00      0.95      1821\n",
      "           1       0.40      0.01      0.02       179\n",
      "\n",
      "    accuracy                           0.91      2000\n",
      "   macro avg       0.66      0.50      0.49      2000\n",
      "weighted avg       0.87      0.91      0.87      2000\n",
      "\n"
     ]
    }
   ],
   "source": [
    "# Avaliar o classificador com base no target teste\n",
    "from sklearn.metrics import classification_report\n",
    "print(classification_report(y_prev, p))"
   ]
  },
  {
   "cell_type": "code",
   "execution_count": 32,
   "metadata": {
    "colab": {},
    "colab_type": "code",
    "id": "ozWIKaD4hbuN"
   },
   "outputs": [
    {
     "name": "stdout",
     "output_type": "stream",
     "text": [
      "0.504762868949776\n"
     ]
    }
   ],
   "source": [
    "from sklearn.metrics import roc_auc_score\n",
    "print(roc_auc_score(y_prev, p))"
   ]
  },
  {
   "cell_type": "markdown",
   "metadata": {
    "colab_type": "text",
    "id": "EU8vhkZ6gfG0",
    "slideshow": {
     "slide_type": "slide"
    }
   },
   "source": [
    "## Numerical Data for Regression"
   ]
  },
  {
   "cell_type": "code",
   "execution_count": null,
   "metadata": {
    "colab": {},
    "colab_type": "code",
    "id": "28-NQFJ6C_Yr",
    "slideshow": {
     "slide_type": "subslide"
    }
   },
   "outputs": [],
   "source": [
    "cvd_num = ['numAge', 'bmi', 'tchol', 'sbp']"
   ]
  },
  {
   "cell_type": "code",
   "execution_count": 35,
   "metadata": {
    "colab": {},
    "colab_type": "code",
    "id": "ppktux-iUVIR",
    "slideshow": {
     "slide_type": "subslide"
    }
   },
   "outputs": [],
   "source": [
    "X = cvd_train[['sbp', 'bmi', 'tchol']]\n",
    "y = cvd_train[['numAge']]"
   ]
  },
  {
   "cell_type": "markdown",
   "metadata": {
    "slideshow": {
     "slide_type": "slide"
    }
   },
   "source": [
    "## Regression Model"
   ]
  },
  {
   "cell_type": "code",
   "execution_count": 43,
   "metadata": {
    "colab": {},
    "colab_type": "code",
    "id": "Ss7NlR6jBk_q",
    "slideshow": {
     "slide_type": "subslide"
    }
   },
   "outputs": [],
   "source": [
    "from sklearn.linear_model import LinearRegression\n",
    "modelo = LinearRegression()"
   ]
  },
  {
   "cell_type": "markdown",
   "metadata": {
    "slideshow": {
     "slide_type": "slide"
    }
   },
   "source": [
    "### Run model"
   ]
  },
  {
   "cell_type": "code",
   "execution_count": 44,
   "metadata": {
    "colab": {
     "base_uri": "https://localhost:8080/",
     "height": 34
    },
    "colab_type": "code",
    "id": "ycFempLFCMHl",
    "outputId": "26c7205d-0d85-41f2-dd18-7e135d1583c8",
    "slideshow": {
     "slide_type": "subslide"
    }
   },
   "outputs": [
    {
     "data": {
      "text/plain": [
       "LinearRegression(copy_X=True, fit_intercept=True, n_jobs=None, normalize=False)"
      ]
     },
     "execution_count": 44,
     "metadata": {},
     "output_type": "execute_result"
    }
   ],
   "source": [
    "# Train the model \n",
    "modelo.fit(X,y)"
   ]
  },
  {
   "cell_type": "markdown",
   "metadata": {
    "slideshow": {
     "slide_type": "slide"
    }
   },
   "source": [
    "### Evaluate model"
   ]
  },
  {
   "cell_type": "code",
   "execution_count": 45,
   "metadata": {
    "colab": {
     "base_uri": "https://localhost:8080/",
     "height": 34
    },
    "colab_type": "code",
    "id": "S2zOf-lWKcwW",
    "outputId": "1210a21d-3d56-4f8c-b713-7711c810c1b6",
    "slideshow": {
     "slide_type": "subslide"
    }
   },
   "outputs": [
    {
     "data": {
      "text/plain": [
       "0.10301545857749117"
      ]
     },
     "execution_count": 45,
     "metadata": {},
     "output_type": "execute_result"
    }
   ],
   "source": [
    "modelo.score(X, y)"
   ]
  },
  {
   "cell_type": "code",
   "execution_count": 46,
   "metadata": {
    "colab": {
     "base_uri": "https://localhost:8080/",
     "height": 34
    },
    "colab_type": "code",
    "id": "TxIX3c4pKfzG",
    "outputId": "460b3ca0-5501-40fe-c795-f6cd916e8a0e",
    "slideshow": {
     "slide_type": "subslide"
    }
   },
   "outputs": [
    {
     "data": {
      "text/plain": [
       "array([[ 0.2233875 , -0.04266257, -0.00062459]])"
      ]
     },
     "execution_count": 46,
     "metadata": {},
     "output_type": "execute_result"
    }
   ],
   "source": [
    "modelo.coef_"
   ]
  },
  {
   "cell_type": "code",
   "execution_count": 47,
   "metadata": {
    "colab": {
     "base_uri": "https://localhost:8080/",
     "height": 34
    },
    "colab_type": "code",
    "id": "lC_ik_r-Kgy8",
    "outputId": "5250d419-277e-443b-f2af-dd0b8540cfe8",
    "slideshow": {
     "slide_type": "subslide"
    }
   },
   "outputs": [
    {
     "data": {
      "text/plain": [
       "array([15.15103195])"
      ]
     },
     "execution_count": 47,
     "metadata": {},
     "output_type": "execute_result"
    }
   ],
   "source": [
    "modelo.intercept_"
   ]
  },
  {
   "cell_type": "code",
   "execution_count": 49,
   "metadata": {
    "colab": {
     "base_uri": "https://localhost:8080/",
     "height": 337
    },
    "colab_type": "code",
    "id": "WghJyyQUKXEH",
    "outputId": "d5679023-80ed-4956-f58b-b5e07c64a269",
    "slideshow": {
     "slide_type": "slide"
    }
   },
   "outputs": [
    {
     "ename": "ValueError",
     "evalue": "shapes (1,1) and (3,1) not aligned: 1 (dim 1) != 3 (dim 0)",
     "output_type": "error",
     "traceback": [
      "\u001b[1;31m---------------------------------------------------------------------------\u001b[0m",
      "\u001b[1;31mValueError\u001b[0m                                Traceback (most recent call last)",
      "\u001b[1;32m<ipython-input-49-7d5525434198>\u001b[0m in \u001b[0;36m<module>\u001b[1;34m\u001b[0m\n\u001b[0;32m      1\u001b[0m \u001b[0mX_new\u001b[0m \u001b[1;33m=\u001b[0m \u001b[1;33m[\u001b[0m\u001b[1;33m[\u001b[0m\u001b[1;36m45\u001b[0m\u001b[1;33m]\u001b[0m\u001b[1;33m]\u001b[0m\u001b[1;33m\u001b[0m\u001b[1;33m\u001b[0m\u001b[0m\n\u001b[1;32m----> 2\u001b[1;33m \u001b[0mprint\u001b[0m\u001b[1;33m(\u001b[0m\u001b[0mmodelo\u001b[0m\u001b[1;33m.\u001b[0m\u001b[0mpredict\u001b[0m\u001b[1;33m(\u001b[0m\u001b[0mX_new\u001b[0m\u001b[1;33m)\u001b[0m\u001b[1;33m)\u001b[0m\u001b[1;33m\u001b[0m\u001b[1;33m\u001b[0m\u001b[0m\n\u001b[0m",
      "\u001b[1;32m~\\Miniconda3\\envs\\ds\\lib\\site-packages\\sklearn\\linear_model\\base.py\u001b[0m in \u001b[0;36mpredict\u001b[1;34m(self, X)\u001b[0m\n\u001b[0;32m    219\u001b[0m             \u001b[0mReturns\u001b[0m \u001b[0mpredicted\u001b[0m \u001b[0mvalues\u001b[0m\u001b[1;33m.\u001b[0m\u001b[1;33m\u001b[0m\u001b[1;33m\u001b[0m\u001b[0m\n\u001b[0;32m    220\u001b[0m         \"\"\"\n\u001b[1;32m--> 221\u001b[1;33m         \u001b[1;32mreturn\u001b[0m \u001b[0mself\u001b[0m\u001b[1;33m.\u001b[0m\u001b[0m_decision_function\u001b[0m\u001b[1;33m(\u001b[0m\u001b[0mX\u001b[0m\u001b[1;33m)\u001b[0m\u001b[1;33m\u001b[0m\u001b[1;33m\u001b[0m\u001b[0m\n\u001b[0m\u001b[0;32m    222\u001b[0m \u001b[1;33m\u001b[0m\u001b[0m\n\u001b[0;32m    223\u001b[0m     \u001b[0m_preprocess_data\u001b[0m \u001b[1;33m=\u001b[0m \u001b[0mstaticmethod\u001b[0m\u001b[1;33m(\u001b[0m\u001b[0m_preprocess_data\u001b[0m\u001b[1;33m)\u001b[0m\u001b[1;33m\u001b[0m\u001b[1;33m\u001b[0m\u001b[0m\n",
      "\u001b[1;32m~\\Miniconda3\\envs\\ds\\lib\\site-packages\\sklearn\\linear_model\\base.py\u001b[0m in \u001b[0;36m_decision_function\u001b[1;34m(self, X)\u001b[0m\n\u001b[0;32m    204\u001b[0m         \u001b[0mX\u001b[0m \u001b[1;33m=\u001b[0m \u001b[0mcheck_array\u001b[0m\u001b[1;33m(\u001b[0m\u001b[0mX\u001b[0m\u001b[1;33m,\u001b[0m \u001b[0maccept_sparse\u001b[0m\u001b[1;33m=\u001b[0m\u001b[1;33m[\u001b[0m\u001b[1;34m'csr'\u001b[0m\u001b[1;33m,\u001b[0m \u001b[1;34m'csc'\u001b[0m\u001b[1;33m,\u001b[0m \u001b[1;34m'coo'\u001b[0m\u001b[1;33m]\u001b[0m\u001b[1;33m)\u001b[0m\u001b[1;33m\u001b[0m\u001b[1;33m\u001b[0m\u001b[0m\n\u001b[0;32m    205\u001b[0m         return safe_sparse_dot(X, self.coef_.T,\n\u001b[1;32m--> 206\u001b[1;33m                                dense_output=True) + self.intercept_\n\u001b[0m\u001b[0;32m    207\u001b[0m \u001b[1;33m\u001b[0m\u001b[0m\n\u001b[0;32m    208\u001b[0m     \u001b[1;32mdef\u001b[0m \u001b[0mpredict\u001b[0m\u001b[1;33m(\u001b[0m\u001b[0mself\u001b[0m\u001b[1;33m,\u001b[0m \u001b[0mX\u001b[0m\u001b[1;33m)\u001b[0m\u001b[1;33m:\u001b[0m\u001b[1;33m\u001b[0m\u001b[1;33m\u001b[0m\u001b[0m\n",
      "\u001b[1;32m~\\Miniconda3\\envs\\ds\\lib\\site-packages\\sklearn\\utils\\extmath.py\u001b[0m in \u001b[0;36msafe_sparse_dot\u001b[1;34m(a, b, dense_output)\u001b[0m\n\u001b[0;32m    140\u001b[0m         \u001b[1;32mreturn\u001b[0m \u001b[0mret\u001b[0m\u001b[1;33m\u001b[0m\u001b[1;33m\u001b[0m\u001b[0m\n\u001b[0;32m    141\u001b[0m     \u001b[1;32melse\u001b[0m\u001b[1;33m:\u001b[0m\u001b[1;33m\u001b[0m\u001b[1;33m\u001b[0m\u001b[0m\n\u001b[1;32m--> 142\u001b[1;33m         \u001b[1;32mreturn\u001b[0m \u001b[0mnp\u001b[0m\u001b[1;33m.\u001b[0m\u001b[0mdot\u001b[0m\u001b[1;33m(\u001b[0m\u001b[0ma\u001b[0m\u001b[1;33m,\u001b[0m \u001b[0mb\u001b[0m\u001b[1;33m)\u001b[0m\u001b[1;33m\u001b[0m\u001b[1;33m\u001b[0m\u001b[0m\n\u001b[0m\u001b[0;32m    143\u001b[0m \u001b[1;33m\u001b[0m\u001b[0m\n\u001b[0;32m    144\u001b[0m \u001b[1;33m\u001b[0m\u001b[0m\n",
      "\u001b[1;31mValueError\u001b[0m: shapes (1,1) and (3,1) not aligned: 1 (dim 1) != 3 (dim 0)"
     ]
    }
   ],
   "source": [
    "X_new = [[45]] \n",
    "print(modelo.predict(X_new))"
   ]
  },
  {
   "cell_type": "code",
   "execution_count": null,
   "metadata": {},
   "outputs": [],
   "source": []
  }
 ],
 "metadata": {
  "accelerator": "GPU",
  "celltoolbar": "Slideshow",
  "colab": {
   "collapsed_sections": [],
   "machine_shape": "hm",
   "name": "cvd.ipynb",
   "provenance": [],
   "version": "0.3.2"
  },
  "kernelspec": {
   "display_name": "Python 3",
   "language": "python",
   "name": "python3"
  },
  "language_info": {
   "codemirror_mode": {
    "name": "ipython",
    "version": 3
   },
   "file_extension": ".py",
   "mimetype": "text/x-python",
   "name": "python",
   "nbconvert_exporter": "python",
   "pygments_lexer": "ipython3",
   "version": "3.7.4"
  }
 },
 "nbformat": 4,
 "nbformat_minor": 4
}
